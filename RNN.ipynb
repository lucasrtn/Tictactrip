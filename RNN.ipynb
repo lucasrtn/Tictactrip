{
 "cells": [
  {
   "cell_type": "markdown",
   "metadata": {},
   "source": [
    "# Lab2 - Recurrent Neural Network"
   ]
  },
  {
   "cell_type": "markdown",
   "metadata": {},
   "source": [
    "#### 1) Lab Task"
   ]
  },
  {
   "cell_type": "markdown",
   "metadata": {},
   "source": [
    "- Imports :"
   ]
  },
  {
   "cell_type": "code",
   "execution_count": 747,
   "metadata": {},
   "outputs": [],
   "source": [
    "import pandas as pd\n",
    "import numpy as np\n",
    "import matplotlib.pyplot as plt\n",
    "import matplotlib.colors as mcolors"
   ]
  },
  {
   "cell_type": "markdown",
   "metadata": {},
   "source": [
    "- Générer X aléatoirement :"
   ]
  },
  {
   "cell_type": "code",
   "execution_count": 748,
   "metadata": {},
   "outputs": [],
   "source": [
    "X = np.random.randint(2, size=(40,10))"
   ]
  },
  {
   "cell_type": "markdown",
   "metadata": {},
   "source": [
    "- Calculer Y :"
   ]
  },
  {
   "cell_type": "code",
   "execution_count": 749,
   "metadata": {},
   "outputs": [],
   "source": [
    "Y = np.sum(X, axis=1)"
   ]
  },
  {
   "cell_type": "markdown",
   "metadata": {},
   "source": [
    "- Separer X,Y en X_train, X_test, Y_train, Y_test :"
   ]
  },
  {
   "cell_type": "code",
   "execution_count": 750,
   "metadata": {},
   "outputs": [],
   "source": [
    "X_train = X[:30]\n",
    "X_test = X[30:]\n",
    "\n",
    "Y_train = Y[:30]\n",
    "Y_test = Y[30:]"
   ]
  },
  {
   "cell_type": "markdown",
   "metadata": {},
   "source": [
    "### 1) HomeWork Task"
   ]
  },
  {
   "cell_type": "markdown",
   "metadata": {},
   "source": [
    "- Renseignement des dimensions/constantes :"
   ]
  },
  {
   "cell_type": "code",
   "execution_count": 821,
   "metadata": {},
   "outputs": [
    {
     "name": "stdout",
     "output_type": "stream",
     "text": [
      "I = 30\n",
      "T = 10\n",
      "F0 = 0\n",
      "iteration = 10000\n",
      "L_Vf = 45\n",
      "L_Vx = 10\n"
     ]
    }
   ],
   "source": [
    "# Nombre d'exemples d'entrainement\n",
    "I = len(X_train)\n",
    "print(\"I =\", I)\n",
    "\n",
    "# Longeur des séquences\n",
    "T = X_train.shape[1]\n",
    "print(\"T =\", T)\n",
    "\n",
    "# Valeur initiale de la fonction de propagation\n",
    "F0 = 0\n",
    "print(\"F0 =\", F0)\n",
    "\n",
    "# Nombre d'iteration\n",
    "iteration = 10000\n",
    "print(\"iteration =\", iteration)\n",
    "\n",
    "# Grande valeurs de Vf pour la partie 3\n",
    "L_Vf = 45\n",
    "print(\"L_Vf =\", L_Vf)\n",
    "\n",
    "# Grande valeurs de Vx pour la partie 3\n",
    "L_Vx = 10\n",
    "print(\"L_Vx =\", L_Vx)"
   ]
  },
  {
   "cell_type": "code",
   "execution_count": 790,
   "metadata": {},
   "outputs": [],
   "source": [
    "def dataInit() :\n",
    "    \n",
    "    # Poids initial appliqué à F (avant la Back Propagation)\n",
    "    Vf = np.random.rand()\n",
    "\n",
    "    # Poids initial appliqué à X (avant la Back Propagation)\n",
    "    Vx = np.random.rand()\n",
    "    \n",
    "    return Vf, Vx\n",
    "\n",
    "def derivatedInit() :\n",
    "    \n",
    "    # Initialisation de la dérivée partielle de l'erreur par Vx\n",
    "    dE_dVx_old = 0\n",
    "    \n",
    "    # Initialisation de la dérivée partielle de l'erreur par Vx\n",
    "    dE_dVf_old = 0\n",
    "    \n",
    "    return dE_dVx_old, dE_dVf_old"
   ]
  },
  {
   "cell_type": "markdown",
   "metadata": {},
   "source": [
    "- Fonction de Forward Propagation :"
   ]
  },
  {
   "cell_type": "code",
   "execution_count": 791,
   "metadata": {},
   "outputs": [],
   "source": [
    "def FP(X, Vx, Vf):\n",
    "    Ŷ = []\n",
    "    F = []\n",
    "    for X_i in X :\n",
    "        f_i_0 = F0\n",
    "        f = []\n",
    "        for X_i_t in X_i:\n",
    "            f_i_0 = Vf*f_i_0 + Vx*X_i_t\n",
    "            f.append(f_i_0)\n",
    "        F.append(f)\n",
    "        Ŷ.append(f_i_0)\n",
    "    return Ŷ, np.array(F)"
   ]
  },
  {
   "cell_type": "markdown",
   "metadata": {},
   "source": [
    "- Calcul des dérivées partielles de l'erreur :"
   ]
  },
  {
   "cell_type": "code",
   "execution_count": 792,
   "metadata": {},
   "outputs": [],
   "source": [
    "# Calcul de la dérivée partielle de E en fonction de Vx\n",
    "def derErreurVx(Ŷ, X, Y, Vf) :\n",
    "    dE_dVx = 0\n",
    "    for t in range (1,T) :\n",
    "        a = 0\n",
    "        for i in range(len(X)) :\n",
    "            a += (Ŷ[i]-Y[i])*X[i][t-1]\n",
    "        dE_dVx += a*((Vf)**(T-t))\n",
    "    return dE_dVx\n",
    "\n",
    "\n",
    "# Calcul de la dérivée partielle de E en fonction de Vf\n",
    "def derErreurVf(Ŷ, F, Y, Vf) :\n",
    "    dE_dVf = 0\n",
    "    for t in range (1,T) :\n",
    "        c = 0\n",
    "        for i in range(len(F)) :\n",
    "            if t > 1 :\n",
    "                c += (Ŷ[i]-Y[i])*F[i][t-2]\n",
    "        dE_dVf += c*((Vf)**(T-t))\n",
    "    return dE_dVf"
   ]
  },
  {
   "cell_type": "markdown",
   "metadata": {},
   "source": [
    "### 1) a. "
   ]
  },
  {
   "cell_type": "markdown",
   "metadata": {},
   "source": [
    "- Fonction de Back Propagation :"
   ]
  },
  {
   "cell_type": "code",
   "execution_count": 793,
   "metadata": {},
   "outputs": [],
   "source": [
    "def BP(Ŷ, F, X_train, Y_train, Vx, Vf) :\n",
    "    \n",
    "    # Taux d'apprentissage associé à X (BP)\n",
    "    𝛼_x = 0.001\n",
    "\n",
    "    # Taux d'apprentissage associé à F (BP)\n",
    "    𝛼_f = 0.001\n",
    "\n",
    "    # Calcul des dérivées\n",
    "    dE_dVx = derErreurVx(Ŷ, X_train, Y_train, Vf)\n",
    "    dE_dVf = derErreurVf(Ŷ, F, Y_train, Vf)\n",
    "\n",
    "    # Correction des poids \n",
    "    Vx -= 𝛼_x*dE_dVx\n",
    "\n",
    "    Vf -= 𝛼_f*dE_dVf\n",
    "\n",
    "    return Vx, Vf"
   ]
  },
  {
   "cell_type": "markdown",
   "metadata": {},
   "source": [
    "### 1) b. "
   ]
  },
  {
   "cell_type": "markdown",
   "metadata": {},
   "source": [
    "- Fonction de Resilient Propagation :"
   ]
  },
  {
   "cell_type": "code",
   "execution_count": 794,
   "metadata": {},
   "outputs": [],
   "source": [
    "def RP(Ŷ, F, X_train, Y_train, Vx, Vf, itera, dE_dVx_old, dE_dVf_old) :\n",
    "    \n",
    "   # Taux d'apprentissage associé à X (RP)\n",
    "    Δ_x = 0.001\n",
    "\n",
    "    # Taux d'apprentissage associé à F (RP)\n",
    "    Δ_f = 0.001\n",
    "    \n",
    "    # Taux de correction avançant pour Δ (RP)\n",
    "    ƞ_p = 1.2\n",
    "\n",
    "    # Taux de correction reculant pour Δ (RP)\n",
    "    ƞ_n = 0.5\n",
    "    \n",
    "    dE_dVx = derErreurVx(Ŷ, X_train, Y_train, Vf)\n",
    "    dE_dVf = derErreurVf(Ŷ, F, Y_train, Vf)\n",
    "        \n",
    "    # Correction des poids \n",
    "    \n",
    "    if itera == 0 : # Si c'est le premier tour\n",
    "        Vx -= Δ_x * dE_dVx\n",
    "        Vf -= Δ_f * dE_dVf\n",
    "        \n",
    "    else : # Pour tous les autres tours\n",
    "        \n",
    "        # Correction de Δ_x\n",
    "        if np.sign(dE_dVx) == np.sign(dE_dVx_old) :\n",
    "            Δ_x = Δ_x*ƞ_p\n",
    "        else :\n",
    "            Δ_x = Δ_x*ƞ_n\n",
    "        \n",
    "        # Correction de Δ_x\n",
    "        if np.sign(dE_dVf) == np.sign(dE_dVf_old) :\n",
    "            Δ_f = Δ_f*ƞ_p\n",
    "        else :\n",
    "            Δ_f = Δ_f*ƞ_n\n",
    "            \n",
    "        Vx -= Δ_x*np.sign(dE_dVx)\n",
    "        Vf -= Δ_f*np.sign(dE_dVf)\n",
    "    \n",
    "    return Vx, Vf, dE_dVx, dE_dVf"
   ]
  },
  {
   "cell_type": "markdown",
   "metadata": {},
   "source": [
    "### 1) c.  "
   ]
  },
  {
   "cell_type": "markdown",
   "metadata": {},
   "source": [
    "- Fonction de Gradient Clipping :"
   ]
  },
  {
   "cell_type": "code",
   "execution_count": 795,
   "metadata": {},
   "outputs": [],
   "source": [
    "def GC(Ŷ, F, X_train, Y_train, Vx, Vf) :\n",
    "    \n",
    "    # Norme (GC)\n",
    "    ƞ = 10\n",
    "    \n",
    "    # Taux d'apprentissage associé à X (BP)\n",
    "    𝛼_x = 0.001\n",
    "\n",
    "    # Taux d'apprentissage associé à F (BP)\n",
    "    𝛼_f = 0.001\n",
    "    \n",
    "    # Calcul des dérivées\n",
    "    dE_dVx = derErreurVx(Ŷ, X_train, Y_train, Vf)\n",
    "    dE_dVf = derErreurVf(Ŷ, F, Y_train, Vf)\n",
    "    \n",
    "    # Definition du vecteur gradient\n",
    "    dE_dV = [dE_dVx, dE_dVf]\n",
    "        \n",
    "    # Calcul de la norme du vecteur gradient\n",
    "    norm = np.linalg.norm([dE_dVx, dE_dVf])\n",
    "\n",
    "    # Bornage de la norme du gradient\n",
    "    if norm > ƞ :\n",
    "        dE_dV = ƞ * ([dE_dVx, dE_dVf] / norm)\n",
    "\n",
    "    # Correction des poids\n",
    "    Vx -= 𝛼_x*dE_dV[0]\n",
    "    Vf -= 𝛼_f*dE_dV[1]\n",
    "\n",
    "    return Vx, Vf, norm"
   ]
  },
  {
   "cell_type": "markdown",
   "metadata": {},
   "source": [
    "### 2) "
   ]
  },
  {
   "cell_type": "markdown",
   "metadata": {},
   "source": [
    "- Comparaison des trois méthodes :"
   ]
  },
  {
   "cell_type": "code",
   "execution_count": 796,
   "metadata": {},
   "outputs": [
    {
     "name": "stdout",
     "output_type": "stream",
     "text": [
      "Back Propagation :\n",
      "0       367.274210\n",
      "1       367.293211\n",
      "2       367.312063\n",
      "3       367.330769\n",
      "4       367.349329\n",
      "           ...    \n",
      "9995    369.899305\n",
      "9996    369.899305\n",
      "9997    369.899305\n",
      "9998    369.899305\n",
      "9999    369.899305\n",
      "Name: erreur, Length: 10000, dtype: float64 \n",
      "\n",
      "Resilient Propagation :\n",
      "0       367.274210\n",
      "1       366.815282\n",
      "2       366.668253\n",
      "3       366.520898\n",
      "4       366.373216\n",
      "           ...    \n",
      "9995      0.035807\n",
      "9996      0.038815\n",
      "9997      0.033293\n",
      "9998      0.044996\n",
      "9999      0.035807\n",
      "Name: erreur, Length: 10000, dtype: float64 \n",
      "\n",
      "Gradient Clipping :\n",
      "0       367.274210\n",
      "1       366.970111\n",
      "2       366.648326\n",
      "3       366.307524\n",
      "4       365.946238\n",
      "           ...    \n",
      "9995      0.059641\n",
      "9996      0.512504\n",
      "9997      0.059641\n",
      "9998      0.512504\n",
      "9999      0.059641\n",
      "Name: erreur, Length: 10000, dtype: float64\n"
     ]
    }
   ],
   "source": [
    "#Initialisation des données\n",
    "Vf, Vx = dataInit()\n",
    "\n",
    "Vf_BP = Vf\n",
    "Vf_RP = Vf\n",
    "Vf_GC = Vf\n",
    "\n",
    "Vx_BP = Vx\n",
    "Vx_RP = Vx\n",
    "Vx_GC = Vx\n",
    "\n",
    "dE_dVx_old, dE_dVf_old = derivatedInit()\n",
    "\n",
    "# Création de rtois listes d'erreur pour le graphe\n",
    "Err_BP = []\n",
    "Err_RP = []\n",
    "Err_GC = []\n",
    "\n",
    "for itera in range (iteration) :\n",
    "    \n",
    "            # Back Propagation :\n",
    "        \n",
    "    # Appel de la fonction de forward propagation\n",
    "    Ŷ_BP, F_BP = FP(X_train, Vx_BP, Vf_BP)\n",
    "    # Calcul de l'erreur \n",
    "    E_BP = (1/2)*np.sum((Ŷ_BP - Y_train)**2)\n",
    "    # Appel de la fonction de back propagation\n",
    "    Vx_BP, Vf_BP = BP(Ŷ, F, X_train, Y_train, Vx_BP, Vf_BP)\n",
    "    # Ajout de l'erreur à la liste Erreur\n",
    "    Err_BP.append([E_BP, Vx_BP, Vf_BP])\n",
    "    \n",
    "    \n",
    "            # Resilent Propagation : \n",
    "        \n",
    "        # Appel de la fonction de forward propagation\n",
    "    Ŷ_RP, F_RP = FP(X_train, Vx_RP, Vf_RP)\n",
    "    # Calcul de l'erreur \n",
    "    E_RP = (1/2)*np.sum((Ŷ_RP - Y_train)**2)\n",
    "    # Appel de la fonction de resilient propagation\n",
    "    Vx_RP, Vf_RP, dE_dVx_old, dE_dVf_old = RP(Ŷ_RP, F, X_train, Y_train, Vx_RP, Vf_RP, itera, dE_dVx_old, dE_dVf_old)\n",
    "    # Ajout de l'erreur à la liste Erreur\n",
    "    Err_RP.append([E_RP, Vx_RP, Vf_RP])\n",
    "\n",
    "    \n",
    "            # Gradient Clipping :\n",
    "            \n",
    "    # Appel de la fonction de forward propagation\n",
    "    Ŷ_GC, F_GC = FP(X_train, Vx_GC, Vf_GC)\n",
    "    # Calcul de l'erreur \n",
    "    E_GC = (1/2)*np.sum((Ŷ_GC - Y_train)**2)\n",
    "    # Appel de la fonction de resilient propagation\n",
    "    Vx_GC, Vf_GC, norm = GC(Ŷ_GC, F_GC, X_train, Y_train, Vx_GC, Vf_GC)\n",
    "    # Ajout de l'erreur à la liste Erreur\n",
    "    Err_GC.append([E_GC, Vx_GC, Vf_GC])\n",
    "    \n",
    "    \n",
    "Erreur_BP = pd.DataFrame(data = Err_BP, columns = ['erreur', 'Vx', 'Vf'])\n",
    "Erreur_RP = pd.DataFrame(data = Err_RP, columns = ['erreur', 'Vx', 'Vf'])\n",
    "Erreur_GC = pd.DataFrame(data = Err_GC, columns = ['erreur', 'Vx', 'Vf'])\n",
    "\n",
    "# Affichage de l'évolution des erreurs\n",
    "print(\"Back Propagation :\")\n",
    "print(Erreur_BP['erreur'], \"\\n\")\n",
    "print(\"Resilient Propagation :\")\n",
    "print(Erreur_RP['erreur'], \"\\n\")\n",
    "print(\"Gradient Clipping :\")\n",
    "print(Erreur_GC['erreur'])"
   ]
  },
  {
   "cell_type": "markdown",
   "metadata": {},
   "source": [
    "- Aperçu Global de l'erreur en fonction du modèle :"
   ]
  },
  {
   "cell_type": "code",
   "execution_count": 797,
   "metadata": {},
   "outputs": [
    {
     "data": {
      "image/png": "[encoded data removed]",
      "text/plain": [
       "<Figure size 432x288 with 1 Axes>"
      ]
     },
     "metadata": {
      "needs_background": "light"
     },
     "output_type": "display_data"
    },
    {
     "data": {
      "image/png": "[encoded data removed]",
      "text/plain": [
       "<Figure size 432x288 with 1 Axes>"
      ]
     },
     "metadata": {
      "needs_background": "light"
     },
     "output_type": "display_data"
    },
    {
     "data": {
      "image/png": "[encoded data removed]",
      "text/plain": [
       "<Figure size 432x288 with 1 Axes>"
      ]
     },
     "metadata": {
      "needs_background": "light"
     },
     "output_type": "display_data"
    }
   ],
   "source": [
    "plt.plot(range(iteration), Erreur_BP['erreur'], label=\"Back Propagation\")\n",
    "plt.legend()\n",
    "plt.show()\n",
    "plt.plot(range(iteration), Erreur_RP['erreur'], label=\"Resilient Propagation\")\n",
    "plt.legend()\n",
    "plt.show()\n",
    "plt.plot(range(iteration), Erreur_GC['erreur'], label=\"Gradient Clipping\")\n",
    "plt.legend()\n",
    "plt.show()"
   ]
  },
  {
   "cell_type": "markdown",
   "metadata": {},
   "source": [
    "La valeur de l'erreur a explosé pour le modèle du Back Propagation, tandis que les deux autres modèles montrent une convergence avec une diminution de l'erreur qui se rapproche de 0."
   ]
  },
  {
   "cell_type": "markdown",
   "metadata": {},
   "source": [
    "### 3)"
   ]
  },
  {
   "cell_type": "markdown",
   "metadata": {},
   "source": [
    "- Test des trois modèles avec des poids élevés : Vf = 45 et Vx = 10"
   ]
  },
  {
   "cell_type": "code",
   "execution_count": 825,
   "metadata": {},
   "outputs": [
    {
     "name": "stderr",
     "output_type": "stream",
     "text": [
      "<ipython-input-792-007ff2955980>:8: RuntimeWarning: overflow encountered in long_scalars\n",
      "  dE_dVx += a*((Vf)**(T-t))\n",
      "<ipython-input-792-007ff2955980>:20: RuntimeWarning: overflow encountered in long_scalars\n",
      "  dE_dVf += c*((Vf)**(T-t))\n",
      "<ipython-input-792-007ff2955980>:19: RuntimeWarning: overflow encountered in long_scalars\n",
      "  c += (Ŷ[i]-Y[i])*F[i][t-2]\n",
      "<ipython-input-825-427b14fc1591>:35: RuntimeWarning: overflow encountered in square\n",
      "  E_RP = (1/2)*np.sum((Ŷ_RP - Y_train)**2)\n",
      "<ipython-input-792-007ff2955980>:8: RuntimeWarning: overflow encountered in double_scalars\n",
      "  dE_dVx += a*((Vf)**(T-t))\n",
      "<ipython-input-792-007ff2955980>:8: RuntimeWarning: invalid value encountered in double_scalars\n",
      "  dE_dVx += a*((Vf)**(T-t))\n",
      "<ipython-input-792-007ff2955980>:20: RuntimeWarning: overflow encountered in double_scalars\n",
      "  dE_dVf += c*((Vf)**(T-t))\n",
      "<ipython-input-792-007ff2955980>:20: RuntimeWarning: invalid value encountered in double_scalars\n",
      "  dE_dVf += c*((Vf)**(T-t))\n"
     ]
    }
   ],
   "source": [
    "#Initialisation des données\n",
    "dE_dVx_old, dE_dVf_old = derivatedInit()\n",
    "\n",
    "Vf_BP = L_Vf\n",
    "Vf_RP = L_Vf\n",
    "Vf_GC = L_Vf\n",
    "\n",
    "Vx_BP = L_Vx\n",
    "Vx_RP = L_Vx\n",
    "Vx_GC = L_Vx\n",
    "\n",
    "Err_BP = []\n",
    "Err_RP = []\n",
    "Err_GC = []\n",
    "\n",
    "for itera in range (iteration) :\n",
    "    \n",
    "            # Back Propagation :\n",
    "        \n",
    "    # Appel de la fonction de forward propagation\n",
    "    Ŷ_BP, F_BP = FP(X_train, Vx_BP, Vf_BP)\n",
    "    # Calcul de l'erreur \n",
    "    E_BP = (1/2)*np.sum((Ŷ_BP - Y_train)**2)\n",
    "    # Appel de la fonction de back propagation\n",
    "    Vx_BP, Vf_BP = BP(Ŷ, F, X_train, Y_train, Vx_BP, Vf_BP)\n",
    "    # Ajout de l'erreur à la liste Erreur\n",
    "    Err_BP.append(E_BP)\n",
    "    \n",
    "    \n",
    "            # Resilent Propagation : \n",
    "        \n",
    "        # Appel de la fonction de forward propagation\n",
    "    Ŷ_RP, F_RP = FP(X_train, Vx_RP, Vf_RP)\n",
    "    # Calcul de l'erreur \n",
    "    E_RP = (1/2)*np.sum((Ŷ_RP - Y_train)**2)\n",
    "    # Appel de la fonction de resilient propagation\n",
    "    Vx_RP, Vf_RP, dE_dVx_old, dE_dVf_old = RP(Ŷ_RP, F, X_train, Y_train, Vx_RP, Vf_RP, itera, dE_dVx_old, dE_dVf_old)\n",
    "    # Ajout de l'erreur à la liste Erreur\n",
    "    Err_RP.append(E_RP)\n",
    "        \n",
    "        \n",
    "            # Gradient Clipping :\n",
    "            \n",
    "    # Appel de la fonction de forward propagation\n",
    "    Ŷ_GC, F_GC = FP(X_train, Vx_GC, Vf_GC)\n",
    "    # Calcul de l'erreur \n",
    "    E_GC = (1/2)*np.sum((Ŷ_GC - Y_train)**2)\n",
    "    # Appel de la fonction de resilient propagation\n",
    "    Vx_GC, Vf_GC, norm = GC(Ŷ_GC, F_GC, X_train, Y_train, Vx_GC, Vf_GC)\n",
    "    # Ajout de l'erreur à la liste Erreur\n",
    "    Err_GC.append(E_GC)"
   ]
  },
  {
   "cell_type": "markdown",
   "metadata": {},
   "source": [
    "- Représentation graphique :"
   ]
  },
  {
   "cell_type": "code",
   "execution_count": 826,
   "metadata": {},
   "outputs": [
    {
     "data": {
      "image/png": "[encoded data removed]",
      "text/plain": [
       "<Figure size 432x288 with 1 Axes>"
      ]
     },
     "metadata": {
      "needs_background": "light"
     },
     "output_type": "display_data"
    },
    {
     "data": {
      "image/png": "[encoded data removed]",
      "text/plain": [
       "<Figure size 432x288 with 1 Axes>"
      ]
     },
     "metadata": {
      "needs_background": "light"
     },
     "output_type": "display_data"
    },
    {
     "data": {
      "image/png": "[encoded data removed]",
      "text/plain": [
       "<Figure size 432x288 with 1 Axes>"
      ]
     },
     "metadata": {
      "needs_background": "light"
     },
     "output_type": "display_data"
    }
   ],
   "source": [
    "plt.plot(range(iteration), Err_BP, label=\"Back Propagation\")\n",
    "plt.legend()\n",
    "plt.show()\n",
    "plt.plot(range(iteration), Err_RP,label=\"Resilient Propagation\")\n",
    "plt.legend()\n",
    "plt.show()\n",
    "plt.plot(range(iteration), Err_GC, label=\"Gradient Clipping\")\n",
    "plt.legend()\n",
    "plt.show()"
   ]
  },
  {
   "cell_type": "markdown",
   "metadata": {},
   "source": [
    "On remarque que l'erreur du modèle de la Back Propagation explose plus vite, dès les premières itérations. L'erreur du modèle du Resilient Propagation quant à lui explose pour ces poids choisis très grands.\n",
    "Enfin, l'erreur du modèle de Gradient Clipping descend rapidement et tend plus lentement vers 0."
   ]
  },
  {
   "cell_type": "markdown",
   "metadata": {},
   "source": [
    "- On affiche ici la dernière valeur de l'erreur après n itérations pour chaque modèle :"
   ]
  },
  {
   "cell_type": "code",
   "execution_count": 827,
   "metadata": {},
   "outputs": [
    {
     "name": "stdout",
     "output_type": "stream",
     "text": [
      "Erreur de la Back Propagation : [nan]\n",
      "Erreur de la Back Propagation : [nan]\n",
      "Erreur de la Back Propagation : [1.9021499058155036e+24]\n"
     ]
    }
   ],
   "source": [
    "print(\"Erreur de la Back Propagation :\", Err_BP[-1:])\n",
    "print(\"Erreur de la Back Propagation :\", Err_RP[-1:])\n",
    "print(\"Erreur de la Back Propagation :\", Err_GC[-1:])"
   ]
  },
  {
   "cell_type": "markdown",
   "metadata": {},
   "source": [
    "L'erreur du Gradient Clipping reste encore très grande !\n",
    "Il faudrait plus d'itérations pour que l'erreur du Gradient Clipping soit aux alentours de 0. Pour les deux autres modèles, l'erreur ne pourra jamais se réduire puisqu'elle a complétement divergé."
   ]
  },
  {
   "cell_type": "markdown",
   "metadata": {},
   "source": [
    "### 4)"
   ]
  },
  {
   "cell_type": "markdown",
   "metadata": {},
   "source": [
    "(Pour cette partie, on récupère les résultats du test de la partie 2)"
   ]
  },
  {
   "cell_type": "markdown",
   "metadata": {},
   "source": [
    "On va récupérer les valeurs des poids de chaque modèle pour lesquelles l'erreur est la plus petite. Pour rappel, nous cherchons a faire apprendre aux modèles la fonction de somme, les poids doivent donc être tous les deux les plus proches possible de 1 pour que la prédiction soit la plus proche de la vérité."
   ]
  },
  {
   "cell_type": "code",
   "execution_count": 801,
   "metadata": {},
   "outputs": [
    {
     "name": "stdout",
     "output_type": "stream",
     "text": [
      "\t Poids les plus adaptés en fonction de leur modèle :\n",
      "Back Propagation : Vf = 0.03999126297184888  et Vx =  0.5160329690358343\n",
      "Resilient Propagation : Vf = 0.9884268168964392  et Vx =  1.0600528943269916\n",
      "Gradient Clipping : Vf = 1.0065732292134035  et Vx =  1.0046230118991513\n"
     ]
    }
   ],
   "source": [
    "Vf_BP = float(Erreur_BP['Vf'][Erreur_BP['erreur']==Erreur_BP['erreur'].min()])\n",
    "Vx_BP = float(Erreur_BP['Vx'][Erreur_BP['erreur']==Erreur_BP['erreur'].min()])\n",
    "\n",
    "Vf_RP = Erreur_RP['Vf'][Erreur_RP['erreur']==Erreur_RP['erreur'].min()]\n",
    "Vx_RP = Erreur_RP['Vx'][Erreur_RP['erreur']==Erreur_RP['erreur'].min()]\n",
    "\n",
    "if len(Vf_RP) > 1 :\n",
    "    Vf_RP = float(Vf_RP[:1])\n",
    "    Vx_RP = float(Vx_RP[:1])\n",
    "\n",
    "Vf_GC = Erreur_GC['Vf'][Erreur_GC['erreur']==Erreur_GC['erreur'].min()]\n",
    "Vx_GC = Erreur_GC['Vx'][Erreur_GC['erreur']==Erreur_GC['erreur'].min()]\n",
    "\n",
    "if len(Vf_GC) > 1 :\n",
    "    Vf_GC = float(Vf_GC[:1])\n",
    "    Vx_GC = float(Vx_GC[:1])\n",
    "\n",
    "\n",
    "print(\"\\t Poids les plus adaptés en fonction de leur modèle :\")\n",
    "print(\"Back Propagation : Vf =\", Vf_BP, \" et Vx = \", Vx_BP)\n",
    "print(\"Resilient Propagation : Vf =\", float(Vf_RP), \" et Vx = \", float(Vx_RP))\n",
    "print(\"Gradient Clipping : Vf =\", float(Vf_GC), \" et Vx = \", float(Vx_GC))"
   ]
  },
  {
   "cell_type": "markdown",
   "metadata": {},
   "source": [
    "- Evolution des poids Vf et Vx :"
   ]
  },
  {
   "cell_type": "code",
   "execution_count": 816,
   "metadata": {},
   "outputs": [
    {
     "data": {
      "image/png": "[encoded data removed]",
      "text/plain": [
       "<Figure size 432x288 with 1 Axes>"
      ]
     },
     "metadata": {
      "needs_background": "light"
     },
     "output_type": "display_data"
    },
    {
     "data": {
      "image/png": "[encoded data removed]",
      "text/plain": [
       "<Figure size 432x288 with 1 Axes>"
      ]
     },
     "metadata": {
      "needs_background": "light"
     },
     "output_type": "display_data"
    },
    {
     "data": {
      "image/png": "[encoded data removed]",
      "text/plain": [
       "<Figure size 432x288 with 1 Axes>"
      ]
     },
     "metadata": {
      "needs_background": "light"
     },
     "output_type": "display_data"
    },
    {
     "data": {
      "image/png": "[encoded data removed]",
      "text/plain": [
       "<Figure size 432x288 with 1 Axes>"
      ]
     },
     "metadata": {
      "needs_background": "light"
     },
     "output_type": "display_data"
    },
    {
     "data": {
      "image/png": "[encoded data removed]",
      "text/plain": [
       "<Figure size 432x288 with 1 Axes>"
      ]
     },
     "metadata": {
      "needs_background": "light"
     },
     "output_type": "display_data"
    },
    {
     "data": {
      "image/png": "[encoded data removed]",
      "text/plain": [
       "<Figure size 432x288 with 1 Axes>"
      ]
     },
     "metadata": {
      "needs_background": "light"
     },
     "output_type": "display_data"
    }
   ],
   "source": [
    "        # Back Propagation :\n",
    "fig, ax = plt.subplots()\n",
    "ax.plot(range(iteration), Erreur_BP['Vx'], label=\"Vx Back Propagation\")\n",
    "ax.set(ylabel='Vx')\n",
    "plt.legend()\n",
    "plt.show()\n",
    "\n",
    "fig, ax = plt.subplots()\n",
    "ax.plot(range(iteration), Erreur_BP['Vf'], 'r', label=\"Vf Back Propagation\")\n",
    "ax.set(ylabel='Vf')\n",
    "plt.legend()\n",
    "plt.show()\n",
    "\n",
    "        # Resilient Propagation :\n",
    "fig, ax = plt.subplots()\n",
    "ax.plot(range(iteration), Erreur_RP['Vx'], label=\"Vx Resilient Propagation\")\n",
    "ax.set(ylabel='Vx')\n",
    "plt.legend()\n",
    "plt.show()\n",
    "\n",
    "fig, ax = plt.subplots()\n",
    "ax.plot(range(iteration), Erreur_RP['Vf'], 'r', label=\"Vf Resilient Propagation\")\n",
    "ax.set(ylabel='Vf')\n",
    "plt.legend()\n",
    "plt.show()\n",
    "\n",
    "        # Gradient Clipping :\n",
    "fig, ax = plt.subplots()\n",
    "ax.plot(range(iteration), Erreur_GC['Vx'], label=\"Vx Gradient Clipping\")\n",
    "ax.set(ylabel='Vx')\n",
    "plt.legend()\n",
    "plt.show()\n",
    "\n",
    "fig, ax = plt.subplots()\n",
    "ax.plot(range(iteration), Erreur_GC['Vf'], 'r', label=\"Vf Gradient Clipping\")\n",
    "ax.set(ylabel='Vf')\n",
    "plt.legend()\n",
    "plt.show()"
   ]
  },
  {
   "cell_type": "markdown",
   "metadata": {},
   "source": [
    "- Test du Back Propagation :"
   ]
  },
  {
   "cell_type": "code",
   "execution_count": 817,
   "metadata": {},
   "outputs": [
    {
     "name": "stdout",
     "output_type": "stream",
     "text": [
      "Erreur : 92.9037775869611\n",
      "Ŷ_BP =  2.561861230566245e-06  et Y =  3\n",
      "Ŷ_BP =  0.04165708401230698  et Y =  6\n",
      "Ŷ_BP =  0.04005522104981552  et Y =  3\n",
      "Ŷ_BP =  0.001601961166351964  et Y =  3\n",
      "Ŷ_BP =  0.040057881102083914  et Y =  5\n",
      "Ŷ_BP =  0.001663361637312598  et Y =  4\n",
      "Ŷ_BP =  6.396216232101643e-05  et Y =  3\n",
      "Ŷ_BP =  0.001663361644126847  et Y =  7\n",
      "Ŷ_BP =  0.0016632593490977143  et Y =  3\n",
      "Ŷ_BP =  2.56185496050129e-06  et Y =  4\n",
      "Pourcentage de l'erreur : 99.69929150616173\n"
     ]
    }
   ],
   "source": [
    "# Prédiction\n",
    "Ŷ_BP, F_BP = FP(X_test, Vf_BP, Vf_BP)\n",
    "E = (1/2)*np.sum((Ŷ_BP - Y_test)**2)\n",
    "print(\"Erreur :\", E)\n",
    "\n",
    "# Affichage de l'écart pour chaque ligne avec la réalité\n",
    "for i in range(len(Ŷ_BP)) :\n",
    "    print(\"Ŷ_BP = \", Ŷ_BP[i], \" et Y = \", Y_test[i])\n",
    "\n",
    "# Calcul du pourcentage d'erreur\n",
    "err = []\n",
    "err.append(np.mean(np.abs((Y_test-Ŷ_BP)/Y_test*100)))\n",
    "print(\"Pourcentage de l'erreur :\", np.mean(np.abs((Y_test-Ŷ_BP)/Y_test*100)))"
   ]
  },
  {
   "cell_type": "markdown",
   "metadata": {},
   "source": [
    "- Test du Resilient Propagation :"
   ]
  },
  {
   "cell_type": "code",
   "execution_count": 818,
   "metadata": {},
   "outputs": [
    {
     "name": "stdout",
     "output_type": "stream",
     "text": [
      "Erreur : 0.02867508930636956\n",
      "Ŷ_RP =  3.000888445553639  et Y =  3\n",
      "Ŷ_RP =  6.133076390370125  et Y =  6\n",
      "Ŷ_RP =  3.0728117595894  et Y =  3\n",
      "Ŷ_RP =  3.0832828338092635  et Y =  3\n",
      "Ŷ_RP =  5.108309885317177  et Y =  5\n",
      "Ŷ_RP =  4.0838096259161984  et Y =  4\n",
      "Ŷ_RP =  3.001566149657156  et Y =  3\n",
      "Ŷ_RP =  6.981317097539338  et Y =  7\n",
      "Ŷ_RP =  3.0719841384929114  et Y =  3\n",
      "Ŷ_RP =  3.944195194255454  et Y =  4\n",
      "Pourcentage de l'erreur : 1.5825841180690776\n"
     ]
    }
   ],
   "source": [
    "# Prédiction\n",
    "Ŷ_RP, F = FP(X_test, Vx_RP, Vf_RP)\n",
    "E = (1/2)*np.sum((Ŷ_RP - Y_test)**2)\n",
    "print(\"Erreur :\", E)\n",
    "\n",
    "# Affichage de l'écart pour chaque ligne avec la réalité\n",
    "for i in range(len(Ŷ_RP)) :\n",
    "    print(\"Ŷ_RP = \", Ŷ_RP[i], \" et Y = \", Y_test[i])\n",
    "    \n",
    "# Calcul du pourcentage d'erreur\n",
    "err.append(np.mean(np.abs((Y_test-Ŷ_RP)/Y_test*100)))\n",
    "print(\"Pourcentage de l'erreur :\", np.mean(np.abs((Y_test-Ŷ_RP)/Y_test*100)))"
   ]
  },
  {
   "cell_type": "markdown",
   "metadata": {},
   "source": [
    "- Test du Gradient Clipping :"
   ]
  },
  {
   "cell_type": "code",
   "execution_count": 819,
   "metadata": {},
   "outputs": [
    {
     "name": "stdout",
     "output_type": "stream",
     "text": [
      "Erreur : 0.10396394272462445\n",
      "Ŷ_BP =  3.1144123369541177  et Y =  3\n",
      "Ŷ_BP =  6.155049156591168  et Y =  6\n",
      "Ŷ_BP =  3.074266599926135  et Y =  3\n",
      "Ŷ_BP =  3.0670900666520593  et Y =  3\n",
      "Ŷ_BP =  5.130130037348771  et Y =  5\n",
      "Ŷ_BP =  4.105300906754077  et Y =  4\n",
      "Ŷ_BP =  3.1146351449768175  et Y =  3\n",
      "Ŷ_BP =  7.281396728643734  et Y =  7\n",
      "Ŷ_BP =  3.074001839817214  et Y =  3\n",
      "Ŷ_BP =  4.186968290089899  et Y =  4\n",
      "Pourcentage de l'erreur : 3.1326969488478107\n"
     ]
    }
   ],
   "source": [
    "# Prédiction\n",
    "Ŷ_GC, F = FP(X_test, float(Vx_GC), float(Vf_GC))\n",
    "E = (1/2)*np.sum((Ŷ_GC - Y_test)**2)\n",
    "print(\"Erreur :\", E)\n",
    "\n",
    "# Affichage de l'écart pour chaque ligne avec la réalité\n",
    "for i in range(len(Ŷ_GC)) :\n",
    "    print(\"Ŷ_BP = \", Ŷ_GC[i], \" et Y = \", Y_test[i])\n",
    "    \n",
    "# Calcul du pourcentage d'erreur\n",
    "err.append(np.mean(np.abs((Y_test-Ŷ_GC)/Y_test*100)))\n",
    "print(\"Pourcentage de l'erreur :\", np.mean(np.abs((Y_test-Ŷ_GC)/Y_test*100)))"
   ]
  },
  {
   "cell_type": "code",
   "execution_count": 820,
   "metadata": {},
   "outputs": [
    {
     "data": {
      "image/png": "[encoded data removed]",
      "text/plain": [
       "<Figure size 720x360 with 1 Axes>"
      ]
     },
     "metadata": {
      "needs_background": "light"
     },
     "output_type": "display_data"
    }
   ],
   "source": [
    "plt.figure(figsize=(10, 5))\n",
    "plt.bar(['Back Propagation', 'Resilient Propagation', 'Gradient Clipping'], err, color=mcolors.TABLEAU_COLORS)\n",
    "plt.suptitle('Erreur en fonction du modèle')\n",
    "plt.xlabel(\"Modèle\")\n",
    "plt.ylabel(\"Erreur en %\")\n",
    "plt.show()"
   ]
  },
  {
   "cell_type": "code",
   "execution_count": null,
   "metadata": {},
   "outputs": [],
   "source": []
  }
 ],
 "metadata": {
  "kernelspec": {
   "display_name": "Python 3",
   "language": "python",
   "name": "python3"
  },
  "language_info": {
   "codemirror_mode": {
    "name": "ipython",
    "version": 3
   },
   "file_extension": ".py",
   "mimetype": "text/x-python",
   "name": "python",
   "nbconvert_exporter": "python",
   "pygments_lexer": "ipython3",
   "version": "3.8.5"
  }
 },
 "nbformat": 4,
 "nbformat_minor": 4
}
