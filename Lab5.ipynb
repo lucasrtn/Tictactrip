{
 "cells": [
  {
   "cell_type": "markdown",
   "metadata": {},
   "source": [
    "# Short Essay Scoring\n",
    "For these last session we are going to focus on scoring elementary reading comprehension exercices."
   ]
  },
  {
   "cell_type": "code",
   "execution_count": 550,
   "metadata": {},
   "outputs": [],
   "source": [
    "#First, let's import the nesseacary libraries\n",
    "import warnings\n",
    "warnings.filterwarnings('ignore')\n",
    "import pandas as pd\n",
    "import numpy as np\n",
    "import matplotlib.pyplot as plt"
   ]
  },
  {
   "cell_type": "code",
   "execution_count": 551,
   "metadata": {},
   "outputs": [
    {
     "name": "stderr",
     "output_type": "stream",
     "text": [
      "[nltk_data] Downloading package punkt to /Users/lucas/nltk_data...\n",
      "[nltk_data]   Package punkt is already up-to-date!\n"
     ]
    },
    {
     "data": {
      "text/plain": [
       "True"
      ]
     },
     "execution_count": 551,
     "metadata": {},
     "output_type": "execute_result"
    }
   ],
   "source": [
    "import nltk\n",
    "nltk.download('punkt')"
   ]
  },
  {
   "cell_type": "markdown",
   "metadata": {},
   "source": [
    "## 1. Import the data and print some statistics \n",
    "more information about the data set can be found in:  https://archive.ics.uci.edu/ml/datasets/Bike+Sharing+Dataset"
   ]
  },
  {
   "cell_type": "code",
   "execution_count": 552,
   "metadata": {},
   "outputs": [
    {
     "name": "stdout",
     "output_type": "stream",
     "text": [
      "the data frame has a shape : (1500, 6)\n",
      "let's print the first five rows \n",
      "    Unnamed: 0                                             answer  \\\n",
      "0           0  Destiny would be a good friend beacu like to r...   \n",
      "1           1  I think Mr.Popper would disagree because he wa...   \n",
      "2           2  i think that it has made me a better person be...   \n",
      "3           3  A part that I could not stop reading was when ...   \n",
      "4           4       its not as good as the any of the other ones   \n",
      "\n",
      "                                       question_text  \\\n",
      "0  Would you enjoy being friends with the main ch...   \n",
      "1  Which character do you think would disagree wi...   \n",
      "2  Do you think reading this text has made you a ...   \n",
      "3  Tell us about one part of this book that total...   \n",
      "4  Does this book remind you of the last book you...   \n",
      "\n",
      "                      text_id  grade  score  \n",
      "0   AUTJfAnEIe5XGTq1jvkynEr-Q      3      7  \n",
      "1  BASEvlmqaEWAE9oL3mOT2KG9JQ      3      9  \n",
      "2  BASEAOH8j3w9WsZOxNQ9dzAUFQ      5      8  \n",
      "3   AUToHuz362h0RJY-hPa7O6MDw      3      9  \n",
      "4  BASEasfHPZhAW77njjMyzqLqOw      1      3  \n"
     ]
    }
   ],
   "source": [
    "df = pd.read_csv(\"short_essay_scoring.csv\")\n",
    "print ('the data frame has a shape :', df.shape)\n",
    "print ('let\\'s print the first five rows \\n', df.head())"
   ]
  },
  {
   "cell_type": "code",
   "execution_count": 553,
   "metadata": {},
   "outputs": [
    {
     "name": "stdout",
     "output_type": "stream",
     "text": [
      "<class 'pandas.core.frame.DataFrame'>\n",
      "RangeIndex: 1500 entries, 0 to 1499\n",
      "Data columns (total 6 columns):\n",
      " #   Column         Non-Null Count  Dtype \n",
      "---  ------         --------------  ----- \n",
      " 0   Unnamed: 0     1500 non-null   int64 \n",
      " 1   answer         1500 non-null   object\n",
      " 2   question_text  1500 non-null   object\n",
      " 3   text_id        1500 non-null   object\n",
      " 4   grade          1500 non-null   int64 \n",
      " 5   score          1500 non-null   int64 \n",
      "dtypes: int64(3), object(3)\n",
      "memory usage: 70.4+ KB\n",
      "None\n",
      "        Unnamed: 0        grade        score\n",
      "count  1500.000000  1500.000000  1500.000000\n",
      "mean    749.500000     3.453333     6.930667\n",
      "std     433.157015     2.343107     2.794590\n",
      "min       0.000000    -1.000000     0.000000\n",
      "25%     374.750000     2.000000     6.000000\n",
      "50%     749.500000     3.000000     8.000000\n",
      "75%    1124.250000     5.000000     9.000000\n",
      "max    1499.000000     8.000000    10.000000\n"
     ]
    }
   ],
   "source": [
    "print (df.info())\n",
    "print (df.describe())"
   ]
  },
  {
   "cell_type": "markdown",
   "metadata": {},
   "source": [
    "## 2. A little bit about processing text data (NLP)\n",
    "https://www.nltk.org"
   ]
  },
  {
   "cell_type": "markdown",
   "metadata": {},
   "source": [
    "nltk sentence tokenizer, word tokenizer, pos tagger, lemmatizer, ngrams"
   ]
  },
  {
   "cell_type": "code",
   "execution_count": 554,
   "metadata": {},
   "outputs": [
    {
     "name": "stdout",
     "output_type": "stream",
     "text": [
      "['Hey', 'this', 'is', 'sentence.', \"We'll\", 'see', 'what', 'happens.', 'Harry', 'Potter', 'said', '\"I', 'love', 'Quidditch\"', '']\n",
      "['Hey', 'this', 'is', 'sentence', '.', 'We', \"'ll\", 'see', 'what', 'happens', '.', 'Harry', 'Potter', 'said', '``', 'I', 'love', 'Quidditch', \"''\"]\n",
      "19\n",
      "83\n"
     ]
    }
   ],
   "source": [
    "# WORD TOKENIZER\n",
    "from nltk.tokenize import word_tokenize\n",
    "sentence = 'Hey this is sentence. We\\'ll see what happens. Harry Potter said \"I love Quidditch\" '\n",
    "print(sentence.split(\" \"))\n",
    "tokens = word_tokenize(sentence)\n",
    "print(tokens)\n",
    "print(len(tokens))\n",
    "print(len(sentence))"
   ]
  },
  {
   "cell_type": "code",
   "execution_count": 555,
   "metadata": {},
   "outputs": [
    {
     "name": "stdout",
     "output_type": "stream",
     "text": [
      "[\"Hey this is sentence? We'll see what happens\", ' Harry Potter said \"I love Quidditch', '\" Mr', ' U', 'S', 'A is great ']\n",
      "['Hey this is sentence?', \"We'll see what happens.\", 'Harry Potter said \"I love Quidditch.\"', 'Mr. U.S.A is great']\n",
      "4\n"
     ]
    }
   ],
   "source": [
    "# SENT TOKENIZER\n",
    "from nltk.tokenize import sent_tokenize\n",
    "sentence = 'Hey this is sentence? We\\'ll see what happens. Harry Potter said \"I love Quidditch.\" Mr. U.S.A is great '\n",
    "print(sentence.split(\".\"))\n",
    "sents = sent_tokenize(sentence)\n",
    "print(sents)\n",
    "print(len(sents))"
   ]
  },
  {
   "cell_type": "code",
   "execution_count": 556,
   "metadata": {},
   "outputs": [
    {
     "name": "stderr",
     "output_type": "stream",
     "text": [
      "[nltk_data] Downloading package averaged_perceptron_tagger to\n",
      "[nltk_data]     /Users/lucas/nltk_data...\n",
      "[nltk_data]   Package averaged_perceptron_tagger is already up-to-\n",
      "[nltk_data]       date!\n",
      "[nltk_data] Downloading package stopwords to /Users/lucas/nltk_data...\n",
      "[nltk_data]   Package stopwords is already up-to-date!\n"
     ]
    },
    {
     "data": {
      "text/plain": [
       "True"
      ]
     },
     "execution_count": 556,
     "metadata": {},
     "output_type": "execute_result"
    }
   ],
   "source": [
    "nltk.download('averaged_perceptron_tagger')\n",
    "nltk.download('stopwords')"
   ]
  },
  {
   "cell_type": "code",
   "execution_count": 557,
   "metadata": {},
   "outputs": [],
   "source": [
    "# PART OF SPEECH TAGGING\n",
    "tagged = nltk.pos_tag(tokens)"
   ]
  },
  {
   "cell_type": "code",
   "execution_count": 558,
   "metadata": {},
   "outputs": [
    {
     "name": "stdout",
     "output_type": "stream",
     "text": [
      "['i', 'me', 'my', 'myself', 'we', 'our', 'ours', 'ourselves', 'you', \"you're\", \"you've\", \"you'll\", \"you'd\", 'your', 'yours', 'yourself', 'yourselves', 'he', 'him', 'his', 'himself', 'she', \"she's\", 'her', 'hers', 'herself', 'it', \"it's\", 'its', 'itself', 'they', 'them', 'their', 'theirs', 'themselves', 'what', 'which', 'who', 'whom', 'this', 'that', \"that'll\", 'these', 'those', 'am', 'is', 'are', 'was', 'were', 'be', 'been', 'being', 'have', 'has', 'had', 'having', 'do', 'does', 'did', 'doing', 'a', 'an', 'the', 'and', 'but', 'if', 'or', 'because', 'as', 'until', 'while', 'of', 'at', 'by', 'for', 'with', 'about', 'against', 'between', 'into', 'through', 'during', 'before', 'after', 'above', 'below', 'to', 'from', 'up', 'down', 'in', 'out', 'on', 'off', 'over', 'under', 'again', 'further', 'then', 'once', 'here', 'there', 'when', 'where', 'why', 'how', 'all', 'any', 'both', 'each', 'few', 'more', 'most', 'other', 'some', 'such', 'no', 'nor', 'not', 'only', 'own', 'same', 'so', 'than', 'too', 'very', 's', 't', 'can', 'will', 'just', 'don', \"don't\", 'should', \"should've\", 'now', 'd', 'll', 'm', 'o', 're', 've', 'y', 'ain', 'aren', \"aren't\", 'couldn', \"couldn't\", 'didn', \"didn't\", 'doesn', \"doesn't\", 'hadn', \"hadn't\", 'hasn', \"hasn't\", 'haven', \"haven't\", 'isn', \"isn't\", 'ma', 'mightn', \"mightn't\", 'mustn', \"mustn't\", 'needn', \"needn't\", 'shan', \"shan't\", 'shouldn', \"shouldn't\", 'wasn', \"wasn't\", 'weren', \"weren't\", 'won', \"won't\", 'wouldn', \"wouldn't\"]\n"
     ]
    }
   ],
   "source": [
    "# STOPWORDS\n",
    "from nltk.corpus import stopwords \n",
    "print(stopwords.words('english'))"
   ]
  },
  {
   "cell_type": "code",
   "execution_count": 559,
   "metadata": {},
   "outputs": [
    {
     "name": "stdout",
     "output_type": "stream",
     "text": [
      "[('Who', 'is', 'the'), ('is', 'the', 'main'), ('the', 'main', 'character'), ('main', 'character', '?')]\n",
      "[('The', 'main', 'character'), ('main', 'character', 'is'), ('character', 'is', 'Harry'), ('is', 'Harry', 'Potter')]\n"
     ]
    }
   ],
   "source": [
    "# NGRAMS\n",
    "from nltk import ngrams\n",
    "# n = 1 unigram\n",
    "# n = 2 bigram\n",
    "# n = 3 trigram\n",
    "\n",
    "n = 3\n",
    "list(ngrams(tokens, n))\n",
    "\n",
    "question = \"Who is the main character?\"\n",
    "answer = \"The main character is Harry Potter\"\n",
    "\n",
    "question_gram = ngrams(word_tokenize(question), n)\n",
    "answer_gram = ngrams(word_tokenize(answer), n)\n",
    "\n",
    "print(list(question_gram))\n",
    "print(list(answer_gram))"
   ]
  },
  {
   "cell_type": "code",
   "execution_count": 560,
   "metadata": {},
   "outputs": [
    {
     "name": "stdout",
     "output_type": "stream",
     "text": [
      "['best', 'break', 'cats', 'cute', 'dogs', 'friend', 'lot', 'man', 'silly', 'things']\n",
      "10\n",
      "\n",
      "ROW 0 - Cats are cute\n",
      "('cats', 0.5725255144931797)\n",
      "('cute', 0.8198869039412204)\n",
      "\n",
      "ROW 1 - Cats are silly\n",
      "('cats', 0.4908452385195859)\n",
      "('silly', 0.8712467800931323)\n",
      "\n",
      "ROW 2 - Dogs are more cute than cats?\n",
      "('cats', 0.44274008962926825)\n",
      "('cute', 0.6340272916188496)\n",
      "('dogs', 0.6340272916188496)\n",
      "\n",
      "ROW 3 - My cats break a lot of things\n",
      "('break', 0.5490363340004775)\n",
      "('cats', 0.3093174935918569)\n",
      "('lot', 0.5490363340004775)\n",
      "('things', 0.5490363340004775)\n",
      "\n",
      "ROW 4 - Dogs are man's best friend\n",
      "('best', 0.5233582502695435)\n",
      "('dogs', 0.4222421409859579)\n",
      "('friend', 0.5233582502695435)\n",
      "('man', 0.5233582502695435)\n"
     ]
    }
   ],
   "source": [
    "# TFIDF Term Frequency / Document Frenquency\n",
    "# Term Frequency # nombre fois qu'un apparait dans un document\n",
    "# Document Frenquency # Le nombre de doucment dans un corpus qui continnient ce mot\n",
    "# Pour chaque mot dans un corpus mesure de rareté\n",
    "\n",
    "from sklearn.feature_extraction.text import TfidfVectorizer\n",
    "\n",
    "corpus = [\"Cats are cute\",\n",
    "\"Cats are silly\",\n",
    "\"Dogs are more cute than cats?\",\n",
    "\"My cats break a lot of things\",\n",
    "\"Dogs are man's best friend\"]\n",
    "\n",
    "vectorizer = TfidfVectorizer(stop_words=\"english\")\n",
    "X = vectorizer.fit_transform(corpus)\n",
    "\n",
    "print(vectorizer.get_feature_names())\n",
    "print(len(vectorizer.get_feature_names()))\n",
    "\n",
    "for r in range(len(corpus)):\n",
    "    print(\"\\nROW \" + str(r) + \" - \" + corpus[r])\n",
    "    for z in zip(vectorizer.get_feature_names(), X[r,:].toarray()[0]):\n",
    "        if z[1] > 0:\n",
    "            print(z)"
   ]
  },
  {
   "cell_type": "code",
   "execution_count": 561,
   "metadata": {},
   "outputs": [
    {
     "name": "stdout",
     "output_type": "stream",
     "text": [
      "\n",
      "ROW 0 - Is like Harry because he is cool\n",
      "('cool', 0.6476302166380064)\n",
      "('harry', 0.688984272119065)\n",
      "('like', 0.325385579382325)\n",
      "\n",
      "ROW 1 - I think Harry is a great person because he is generous and courageous. He is also courteous.\n",
      "('courageous', 0.6069546588346039)\n",
      "('great', 0.4396518441099399)\n",
      "('harry', 0.49115023351169806)\n",
      "('person', 0.3371371247485881)\n",
      "('think', 0.28882919749803354)\n"
     ]
    }
   ],
   "source": [
    "answer_vectorizer = TfidfVectorizer(stop_words=\"english\")\n",
    "answer_vectorizer.fit(df['answer'])\n",
    "len(answer_vectorizer.get_feature_names())\n",
    "\n",
    "corpus = [\"Is like Harry because he is cool\", \"I think Harry is a great person because he is generous and courageous. He is also courteous.\"]\n",
    "\n",
    "M = answer_vectorizer.transform(corpus)\n",
    "for r in range(len(corpus)):\n",
    "    print(\"\\nROW \" + str(r) + \" - \" + corpus[r])\n",
    "    for z in zip(answer_vectorizer.get_feature_names(), M[r,:].toarray()[0]):\n",
    "        if z[1] > 0:\n",
    "            print(z)"
   ]
  },
  {
   "cell_type": "markdown",
   "metadata": {},
   "source": [
    "## 3. Looking at length\n",
    "Here we are going to create a new feature called length and visualize it's relationship with our target"
   ]
  },
  {
   "cell_type": "code",
   "execution_count": 562,
   "metadata": {},
   "outputs": [],
   "source": [
    "df['length'] = [len(answer) for answer in df.answer]"
   ]
  },
  {
   "cell_type": "code",
   "execution_count": 563,
   "metadata": {},
   "outputs": [
    {
     "data": {
      "text/plain": [
       "Text(0.5, 1.0, 'Char Length vs. Score')"
      ]
     },
     "execution_count": 563,
     "metadata": {},
     "output_type": "execute_result"
    },
    {
     "data": {
      "image/png": "[encoded data removed]",
      "text/plain": [
       "<Figure size 432x288 with 1 Axes>"
      ]
     },
     "metadata": {
      "needs_background": "light"
     },
     "output_type": "display_data"
    }
   ],
   "source": [
    "fig = plt.figure(figsize=(6, 4))\n",
    "fig.clf()\n",
    "ax = fig.gca()\n",
    "df.plot(kind = 'scatter', x = 'length', y = 'score', ax = ax, alpha = 0.05)\n",
    "ax.set_xlabel('Char Length')\n",
    "ax.set_ylabel('Score')\n",
    "ax.set_title('Char Length vs. Score')"
   ]
  },
  {
   "cell_type": "code",
   "execution_count": 564,
   "metadata": {},
   "outputs": [
    {
     "name": "stdout",
     "output_type": "stream",
     "text": [
      "train shape (1050, 1) (1050,)\n",
      "test shape (450, 1) (450,)\n"
     ]
    }
   ],
   "source": [
    "from sklearn.model_selection import train_test_split\n",
    "# your code here\n",
    "X_train, X_test, y_train, y_test = train_test_split(np.array(df['length']).reshape(-1,1), df[\"score\"], test_size=0.3, random_state=1)\n",
    "\n",
    "print (\"train shape\", X_train.shape, y_train.shape)\n",
    "print (\"test shape\", X_test.shape, y_test.shape)"
   ]
  },
  {
   "cell_type": "code",
   "execution_count": 565,
   "metadata": {},
   "outputs": [
    {
     "name": "stdout",
     "output_type": "stream",
     "text": [
      "train score = 0.0750142588037207\n",
      "test score = 0.013233546425281517\n"
     ]
    }
   ],
   "source": [
    "from sklearn.model_selection import cross_val_score\n",
    "from sklearn.linear_model import LinearRegression\n",
    "reg = LinearRegression()\n",
    "reg.fit(X_train, y_train)\n",
    "\n",
    "train_score = reg.score(X_train, y_train)\n",
    "test_score = reg.score(X_test, y_test)\n",
    "print  ('train score =' , train_score)\n",
    "print  ('test score = {}'.format(test_score))"
   ]
  },
  {
   "cell_type": "code",
   "execution_count": 566,
   "metadata": {},
   "outputs": [
    {
     "name": "stdout",
     "output_type": "stream",
     "text": [
      "MSE: 6.820749008542582\n",
      "MAE: 2.029492690556743\n"
     ]
    }
   ],
   "source": [
    "from sklearn.metrics import mean_squared_error\n",
    "from sklearn.metrics import mean_absolute_error\n",
    "\n",
    "predictions = reg.predict(X_test)\n",
    "print(\"MSE: \" +str(mean_squared_error(predictions, y_test)))\n",
    "print(\"MAE: \" +str(mean_absolute_error(predictions, y_test)))"
   ]
  },
  {
   "cell_type": "markdown",
   "metadata": {},
   "source": [
    "## 4. Feature Engineering\n",
    "Create at least 3 different features"
   ]
  },
  {
   "cell_type": "code",
   "execution_count": 567,
   "metadata": {},
   "outputs": [],
   "source": [
    "liste = []\n",
    "for answer in df.answer :\n",
    "    liste.append(len(set(word_tokenize(answer))))\n",
    "\n",
    "df['Number_Unique_Word'] = liste"
   ]
  },
  {
   "cell_type": "code",
   "execution_count": 568,
   "metadata": {},
   "outputs": [],
   "source": [
    "occur_list = []\n",
    "\n",
    "for row in df.iloc() :\n",
    "    \n",
    "    answer_split = word_tokenize(row['answer'].lower())\n",
    "    question_split = []\n",
    "    for w in set(word_tokenize(row['question_text'].lower())) : \n",
    "        if w not in stopwords.words('english') : \n",
    "            question_split.append(w)\n",
    "            \n",
    "    occur = 0    \n",
    "    for s in answer_split:\n",
    "        if s in question_split:\n",
    "            occur +=1\n",
    "    \n",
    "    occur_list.append(occur)      \n",
    "\n",
    "df['QNA_Occurences'] = occur_list"
   ]
  },
  {
   "cell_type": "code",
   "execution_count": 569,
   "metadata": {},
   "outputs": [],
   "source": [
    "liste2 = []\n",
    "\n",
    "for row in df.iloc() :\n",
    "    liste = []\n",
    "    for w in word_tokenize(row['answer']) :\n",
    "        if w not in stopwords.words('english') :\n",
    "            liste.append(w)\n",
    "    liste2.append(len(set(liste)))\n",
    "\n",
    "df['Non_Usual_Word'] = liste2"
   ]
  },
  {
   "cell_type": "markdown",
   "metadata": {},
   "source": [
    "## 5. Visualize the data\n",
    "Create at least 3 graphs visualizing your features with respect to the target"
   ]
  },
  {
   "cell_type": "code",
   "execution_count": 570,
   "metadata": {},
   "outputs": [
    {
     "data": {
      "text/plain": [
       "Text(0.5, 1.0, 'Number_Unique_Word vs. Score')"
      ]
     },
     "execution_count": 570,
     "metadata": {},
     "output_type": "execute_result"
    },
    {
     "data": {
      "image/png": "[encoded data removed]",
      "text/plain": [
       "<Figure size 432x288 with 1 Axes>"
      ]
     },
     "metadata": {
      "needs_background": "light"
     },
     "output_type": "display_data"
    }
   ],
   "source": [
    "fig = plt.figure(figsize=(6, 4))\n",
    "fig.clf()\n",
    "ax = fig.gca()\n",
    "df.plot(kind = 'scatter', x = 'Number_Unique_Word', y = 'score', ax = ax, alpha = 0.05)\n",
    "ax.set_xlabel('Number_Unique_Word')\n",
    "ax.set_ylabel('Score')\n",
    "ax.set_title('Number_Unique_Word vs. Score')"
   ]
  },
  {
   "cell_type": "code",
   "execution_count": 571,
   "metadata": {},
   "outputs": [
    {
     "data": {
      "text/plain": [
       "Text(0.5, 1.0, 'QNA_Occurences vs. Score')"
      ]
     },
     "execution_count": 571,
     "metadata": {},
     "output_type": "execute_result"
    },
    {
     "data": {
      "image/png": "[encoded data removed]",
      "text/plain": [
       "<Figure size 432x288 with 1 Axes>"
      ]
     },
     "metadata": {
      "needs_background": "light"
     },
     "output_type": "display_data"
    }
   ],
   "source": [
    "fig = plt.figure(figsize=(6, 4))\n",
    "fig.clf()\n",
    "ax = fig.gca()\n",
    "df.plot(kind = 'scatter', x = 'QNA_Occurences', y = 'score', ax = ax, alpha = 0.05)\n",
    "ax.set_xlabel('QNA_Occurences')\n",
    "ax.set_ylabel('Score')\n",
    "ax.set_title('QNA_Occurences vs. Score')"
   ]
  },
  {
   "cell_type": "code",
   "execution_count": 572,
   "metadata": {},
   "outputs": [
    {
     "data": {
      "text/plain": [
       "Text(0.5, 1.0, 'Non_Usual_Word vs. Score')"
      ]
     },
     "execution_count": 572,
     "metadata": {},
     "output_type": "execute_result"
    },
    {
     "data": {
      "image/png": "[encoded data removed]",
      "text/plain": [
       "<Figure size 432x288 with 1 Axes>"
      ]
     },
     "metadata": {
      "needs_background": "light"
     },
     "output_type": "display_data"
    }
   ],
   "source": [
    "fig = plt.figure(figsize=(6, 4))\n",
    "fig.clf()\n",
    "ax = fig.gca()\n",
    "df.plot(kind = 'scatter', x = 'Non_Usual_Word', y = 'score', ax = ax, alpha = 0.05)\n",
    "ax.set_xlabel('Non_Usual_Word')\n",
    "ax.set_ylabel('Score')\n",
    "ax.set_title('Non_Usual_Word vs. Score')"
   ]
  },
  {
   "cell_type": "markdown",
   "metadata": {},
   "source": [
    "## 6. Model Training\n",
    "Pick a model, fit your features and print performance metrics"
   ]
  },
  {
   "cell_type": "code",
   "execution_count": 573,
   "metadata": {},
   "outputs": [
    {
     "data": {
      "text/plain": [
       "GridSearchCV(cv=5, estimator=ExtraTreesClassifier(random_state=1),\n",
       "             param_grid={'min_samples_leaf': [2], 'min_samples_split': [5],\n",
       "                         'n_estimators': [20]},\n",
       "             scoring='accuracy')"
      ]
     },
     "execution_count": 573,
     "metadata": {},
     "output_type": "execute_result"
    }
   ],
   "source": [
    "from sklearn.model_selection import train_test_split\n",
    "from sklearn.ensemble import ExtraTreesClassifier\n",
    "from sklearn.model_selection import GridSearchCV\n",
    "\n",
    "X = df.drop(columns=[\"score\"])\n",
    "X = X.select_dtypes(exclude='object')\n",
    "y = df['score']\n",
    "X_train, X_test, y_train, y_test = train_test_split(X, y, test_size=0.3, random_state=1)\n",
    "\n",
    "params = {'min_samples_leaf':[2],'min_samples_split':[5],\n",
    "          'n_estimators':[20]}  \n",
    "clf_rf2=ExtraTreesClassifier(random_state=1)\n",
    "clf_gs=GridSearchCV(clf_rf2, params, scoring = 'accuracy',cv=5)\n",
    "clf_gs.fit(X_test, y_test)"
   ]
  },
  {
   "cell_type": "code",
   "execution_count": 574,
   "metadata": {},
   "outputs": [
    {
     "name": "stdout",
     "output_type": "stream",
     "text": [
      "train shape (1050, 6) (1050,)\n",
      "test shape (450, 6) (450,)\n",
      "best score = 0.3888888888888889\n"
     ]
    }
   ],
   "source": [
    "print (\"train shape\", X_train.shape, y_train.shape)\n",
    "print (\"test shape\", X_test.shape, y_test.shape)\n",
    "\n",
    "print('best score =' , clf_gs.best_score_)"
   ]
  },
  {
   "cell_type": "markdown",
   "metadata": {},
   "source": [
    "## 7. RESULT INTERPRETATION\n",
    "Look at parameters, print or visualize predictions"
   ]
  },
  {
   "cell_type": "code",
   "execution_count": 575,
   "metadata": {},
   "outputs": [
    {
     "data": {
      "image/png": "[encoded data removed]",
      "text/plain": [
       "<Figure size 432x288 with 2 Axes>"
      ]
     },
     "metadata": {
      "needs_background": "light"
     },
     "output_type": "display_data"
    }
   ],
   "source": [
    "import seaborn as sn\n",
    "sn.heatmap(df.corr(), annot=True)\n",
    "plt.show()"
   ]
  },
  {
   "cell_type": "markdown",
   "metadata": {},
   "source": [
    "Our first new feature is the number of unique word per answer. We can see that the score of this feature is 0.42, which is the highest score we have.\n",
    "Our second new feature represents the number of important and non basic words we found in the answer AND in the question.\n",
    "Our last new feature is the number of all the unique and non basic words of the answer.\n",
    "With this three features, we obtain 0.3888888888888889 as the best score, that is 30 times more efficient than without them.\n",
    "With others features, we will be able to obtain a better score."
   ]
  },
  {
   "cell_type": "markdown",
   "metadata": {},
   "source": [
    "## 8. Second iteration improvement\n"
   ]
  },
  {
   "cell_type": "code",
   "execution_count": 577,
   "metadata": {},
   "outputs": [],
   "source": [
    "liste = []\n",
    "for answer in df.answer :\n",
    "    liste.append(len(word_tokenize(answer))/(len(sent_tokenize(answer))))\n",
    "\n",
    "df['Average_of_Word_In_Sentence'] = liste"
   ]
  },
  {
   "cell_type": "code",
   "execution_count": 578,
   "metadata": {},
   "outputs": [
    {
     "data": {
      "text/plain": [
       "GridSearchCV(cv=5, estimator=ExtraTreesClassifier(random_state=1),\n",
       "             param_grid={'min_samples_leaf': [2], 'min_samples_split': [6],\n",
       "                         'n_estimators': [20]},\n",
       "             scoring='accuracy')"
      ]
     },
     "execution_count": 578,
     "metadata": {},
     "output_type": "execute_result"
    }
   ],
   "source": [
    "from sklearn.model_selection import train_test_split\n",
    "from sklearn.ensemble import ExtraTreesClassifier\n",
    "from sklearn.model_selection import GridSearchCV\n",
    "\n",
    "X = df.drop(columns=[\"score\"])\n",
    "X = X.select_dtypes(exclude='object')\n",
    "y = df['score']\n",
    "X_train, X_test, y_train, y_test = train_test_split(X, y, test_size=0.3, random_state=1)\n",
    "\n",
    "params = {'min_samples_leaf':[2],'min_samples_split':[6],\n",
    "          'n_estimators':[20]}  \n",
    "clf_rf2=ExtraTreesClassifier(random_state=1)\n",
    "clf_gs=GridSearchCV(clf_rf2, params, scoring = 'accuracy',cv=5)\n",
    "clf_gs.fit(X_test, y_test)"
   ]
  },
  {
   "cell_type": "code",
   "execution_count": 579,
   "metadata": {},
   "outputs": [
    {
     "name": "stdout",
     "output_type": "stream",
     "text": [
      "train shape (1050, 7) (1050,)\n",
      "test shape (450, 7) (450,)\n",
      "train score = 0.3933333333333333\n"
     ]
    }
   ],
   "source": [
    "print (\"train shape\", X_train.shape, y_train.shape)\n",
    "print (\"test shape\", X_test.shape, y_test.shape)\n",
    "\n",
    "print('train score =' , clf_gs.best_score_)"
   ]
  },
  {
   "cell_type": "code",
   "execution_count": null,
   "metadata": {},
   "outputs": [],
   "source": []
  }
 ],
 "metadata": {
  "kernelspec": {
   "display_name": "ml_week5",
   "language": "python",
   "name": "ml_week5"
  },
  "language_info": {
   "codemirror_mode": {
    "name": "ipython",
    "version": 3
   },
   "file_extension": ".py",
   "mimetype": "text/x-python",
   "name": "python",
   "nbconvert_exporter": "python",
   "pygments_lexer": "ipython3",
   "version": "3.7.7"
  }
 },
 "nbformat": 4,
 "nbformat_minor": 4
}
