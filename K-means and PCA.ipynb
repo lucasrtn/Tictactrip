{
 "cells": [
  {
   "cell_type": "markdown",
   "metadata": {},
   "source": [
    "# K-means and PCA"
   ]
  },
  {
   "cell_type": "markdown",
   "metadata": {},
   "source": [
    "( Les parties sont indépendantes et les noms des tableaux/dimensions/constantes sont les mêmes )"
   ]
  },
  {
   "cell_type": "markdown",
   "metadata": {},
   "source": [
    "## 1 Lab  tasks"
   ]
  },
  {
   "cell_type": "markdown",
   "metadata": {},
   "source": [
    "### 1.1 K-means: Clustering some synthetic data"
   ]
  },
  {
   "cell_type": "markdown",
   "metadata": {},
   "source": [
    "- Imports :"
   ]
  },
  {
   "cell_type": "code",
   "execution_count": 2,
   "metadata": {},
   "outputs": [],
   "source": [
    "import pandas as pd\n",
    "import numpy as np\n",
    "import matplotlib.pyplot as plt\n",
    "import matplotlib.colors as mcolors"
   ]
  },
  {
   "cell_type": "markdown",
   "metadata": {},
   "source": [
    "- Récupération des données du fichier 'data_kmeans.txt' :"
   ]
  },
  {
   "cell_type": "code",
   "execution_count": 3,
   "metadata": {},
   "outputs": [
    {
     "data": {
      "text/html": [
       "<div>\n",
       "<style scoped>\n",
       "    .dataframe tbody tr th:only-of-type {\n",
       "        vertical-align: middle;\n",
       "    }\n",
       "\n",
       "    .dataframe tbody tr th {\n",
       "        vertical-align: top;\n",
       "    }\n",
       "\n",
       "    .dataframe thead th {\n",
       "        text-align: right;\n",
       "    }\n",
       "</style>\n",
       "<table border=\"1\" class=\"dataframe\">\n",
       "  <thead>\n",
       "    <tr style=\"text-align: right;\">\n",
       "      <th></th>\n",
       "      <th>x1</th>\n",
       "      <th>x2</th>\n",
       "    </tr>\n",
       "  </thead>\n",
       "  <tbody>\n",
       "    <tr>\n",
       "      <th>0</th>\n",
       "      <td>1.8421</td>\n",
       "      <td>4.6076</td>\n",
       "    </tr>\n",
       "    <tr>\n",
       "      <th>1</th>\n",
       "      <td>5.6586</td>\n",
       "      <td>4.8000</td>\n",
       "    </tr>\n",
       "    <tr>\n",
       "      <th>2</th>\n",
       "      <td>6.3526</td>\n",
       "      <td>3.2909</td>\n",
       "    </tr>\n",
       "    <tr>\n",
       "      <th>3</th>\n",
       "      <td>2.9040</td>\n",
       "      <td>4.6122</td>\n",
       "    </tr>\n",
       "    <tr>\n",
       "      <th>4</th>\n",
       "      <td>3.2320</td>\n",
       "      <td>4.9399</td>\n",
       "    </tr>\n",
       "  </tbody>\n",
       "</table>\n",
       "</div>"
      ],
      "text/plain": [
       "       x1      x2\n",
       "0  1.8421  4.6076\n",
       "1  5.6586  4.8000\n",
       "2  6.3526  3.2909\n",
       "3  2.9040  4.6122\n",
       "4  3.2320  4.9399"
      ]
     },
     "execution_count": 3,
     "metadata": {},
     "output_type": "execute_result"
    }
   ],
   "source": [
    "X = pd.read_csv('data/kmeans/data_kmeans.txt', names = ['x1','x2'], sep = \" \")\n",
    "X.head()"
   ]
  },
  {
   "cell_type": "markdown",
   "metadata": {},
   "source": [
    "- Fonctions de conversion des DataFrame en Array et Array en DataFrame :"
   ]
  },
  {
   "cell_type": "code",
   "execution_count": 4,
   "metadata": {},
   "outputs": [],
   "source": [
    "def convert_to_array(X) :\n",
    "    return np.array(X)\n",
    "\n",
    "def convert_X_to_df(X) :\n",
    "    return pd.DataFrame(data = X, columns = ['x1','x2'])\n",
    "\n",
    "def convert_ɵ_to_df(ɵ) :\n",
    "    return pd.DataFrame(data = ɵ, columns = ['ɵx','ɵy'])"
   ]
  },
  {
   "cell_type": "markdown",
   "metadata": {},
   "source": [
    "- Renseignement des dimensions/constantes :"
   ]
  },
  {
   "cell_type": "code",
   "execution_count": 5,
   "metadata": {},
   "outputs": [
    {
     "name": "stdout",
     "output_type": "stream",
     "text": [
      "I = 300\n",
      "N = 2\n",
      "iteration = 100\n"
     ]
    }
   ],
   "source": [
    "X = convert_X_to_df(X)\n",
    "\n",
    "# Nombre d'exemples d'entrainement :\n",
    "I = len(X)\n",
    "print(\"I =\", I)\n",
    "\n",
    "# Nombre de features :\n",
    "N = len(X.columns)\n",
    "print(\"N =\", N)\n",
    "\n",
    "# Nombre ditération pour l'entrainement :\n",
    "iteration = 100\n",
    "print(\"iteration =\", iteration)"
   ]
  },
  {
   "cell_type": "markdown",
   "metadata": {},
   "source": [
    "- Représentation graphique des données :"
   ]
  },
  {
   "cell_type": "code",
   "execution_count": 6,
   "metadata": {},
   "outputs": [
    {
     "data": {
      "image/png": "[encoded data removed]",
      "text/plain": [
       "<Figure size 432x288 with 1 Axes>"
      ]
     },
     "metadata": {
      "needs_background": "light"
     },
     "output_type": "display_data"
    }
   ],
   "source": [
    "X = convert_X_to_df(X)\n",
    "plt.scatter(X['x1'], X['x2'])\n",
    "plt.show()"
   ]
  },
  {
   "cell_type": "markdown",
   "metadata": {},
   "source": [
    "Avec cette représentation graphique, on peut determiner les valeurs de mu non aléatoirement, puisque les clusters sont évidents."
   ]
  },
  {
   "cell_type": "code",
   "execution_count": 7,
   "metadata": {},
   "outputs": [
    {
     "name": "stdout",
     "output_type": "stream",
     "text": [
      "K = 3\n"
     ]
    }
   ],
   "source": [
    "# Nombre de K\n",
    "K = 3\n",
    "print(\"K =\", K)"
   ]
  },
  {
   "cell_type": "markdown",
   "metadata": {},
   "source": [
    "- Fonction d'initialisation de ɵ à partir des données de mu que nous avons choisi :"
   ]
  },
  {
   "cell_type": "code",
   "execution_count": 22,
   "metadata": {},
   "outputs": [],
   "source": [
    "def init() :\n",
    "    mu1 = [7.9, 3.2]\n",
    "    mu2 = [0.9, 6.1]\n",
    "    mu3 = [1.5, 0.3]\n",
    "    ɵ = pd.DataFrame(data = [mu1, mu2, mu3], columns=['ɵx','ɵy'])\n",
    "    return ɵ"
   ]
  },
  {
   "cell_type": "markdown",
   "metadata": {},
   "source": [
    "- Représentation graphique de ɵ (orange) dans les données (bleu) :"
   ]
  },
  {
   "cell_type": "code",
   "execution_count": 23,
   "metadata": {},
   "outputs": [
    {
     "data": {
      "image/png": "[encoded data removed]",
      "text/plain": [
       "<Figure size 432x288 with 1 Axes>"
      ]
     },
     "metadata": {
      "needs_background": "light"
     },
     "output_type": "display_data"
    }
   ],
   "source": [
    "ɵ = init()\n",
    "ɵ = convert_ɵ_to_df(ɵ)\n",
    "X = convert_X_to_df(X)\n",
    "plt.scatter(X['x1'], X['x2'])\n",
    "plt.scatter(ɵ['ɵx'], ɵ['ɵy'])\n",
    "plt.show()"
   ]
  },
  {
   "cell_type": "markdown",
   "metadata": {},
   "source": [
    "- Fonction de récuperation des distances entre chaque points et chaque mu :"
   ]
  },
  {
   "cell_type": "code",
   "execution_count": 24,
   "metadata": {},
   "outputs": [],
   "source": [
    "def get_D(ɵ, X) :\n",
    "    d = np.zeros(shape=(len(X), K))\n",
    "    for i in range(len(X)) :\n",
    "        for k in range(K) :\n",
    "            d[i][k] = np.sqrt(np.sum((X[i] - ɵ[k])**2))        \n",
    "    return d"
   ]
  },
  {
   "cell_type": "markdown",
   "metadata": {},
   "source": [
    "- Fonction pour trouver Ŷ :"
   ]
  },
  {
   "cell_type": "code",
   "execution_count": 25,
   "metadata": {},
   "outputs": [],
   "source": [
    "def get_Ŷ(D):\n",
    "    Ŷ = []\n",
    "    for d in D :\n",
    "        Ŷ.append(np.argmin(d))\n",
    "    return Ŷ"
   ]
  },
  {
   "cell_type": "markdown",
   "metadata": {},
   "source": [
    "- Fonction de mise à jour des ɵ :"
   ]
  },
  {
   "cell_type": "code",
   "execution_count": 26,
   "metadata": {},
   "outputs": [],
   "source": [
    "def get_ɵ(Ŷ, ɵ) :\n",
    "    for k in range(K):\n",
    "        x = 0\n",
    "        y = 0\n",
    "        cpt = 0\n",
    "        for i in range(I):\n",
    "            if Ŷ[i] == k :\n",
    "                x += X[i][0]\n",
    "                y += X[i][1]\n",
    "                cpt += 1\n",
    "        if cpt > 0 :\n",
    "            ɵ[k][0] = x/cpt\n",
    "            ɵ[k][1] = y/cpt\n",
    "    return ɵ"
   ]
  },
  {
   "cell_type": "markdown",
   "metadata": {},
   "source": [
    "- Entrainement :"
   ]
  },
  {
   "cell_type": "code",
   "execution_count": 27,
   "metadata": {},
   "outputs": [],
   "source": [
    "ɵ = init()\n",
    "ɵ = convert_to_array(ɵ)\n",
    "X = convert_to_array(X)\n",
    "mu_1 = [ɵ[0].tolist()]\n",
    "mu_2 = [ɵ[1].tolist()]\n",
    "mu_3 = [ɵ[2].tolist()]\n",
    "ɵ_old = np.array([[0.0,0.0],[0.0,0.0],[0.0,0.0]])\n",
    "\n",
    "for itera in range(iteration) :\n",
    "    ɵ_old = ɵ\n",
    "    D = get_D(ɵ, X)\n",
    "    Ŷ = get_Ŷ(D)\n",
    "    ɵ = get_ɵ(Ŷ, ɵ)        \n",
    "    mu_1.append(ɵ[0].tolist())\n",
    "    mu_2.append(ɵ[1].tolist())\n",
    "    mu_3.append(ɵ[2].tolist())\n",
    "\n",
    "mu_1 = np.array(mu_1)\n",
    "mu_2 = np.array(mu_2)\n",
    "mu_3 = np.array(mu_3)"
   ]
  },
  {
   "cell_type": "code",
   "execution_count": 29,
   "metadata": {},
   "outputs": [
    {
     "data": {
      "image/png": "[encoded data removed]",
      "text/plain": [
       "<Figure size 432x288 with 1 Axes>"
      ]
     },
     "metadata": {
      "needs_background": "light"
     },
     "output_type": "display_data"
    }
   ],
   "source": [
    "X = convert_X_to_df(X)\n",
    "\n",
    "    # Affichage des données\n",
    "plt.scatter(X['x1'], X['x2'])\n",
    "\n",
    "    # Affichage de la première valeur de chaque point de référence\n",
    "plt.scatter([mu_3[0][0], mu_2[0][0], mu_1[0][0]], [mu_3[0][1], mu_2[0][1], mu_1[0][1]])\n",
    "\n",
    "    # Affichage de tous les points de référence mu à chaque itération entre ]0, iteration[\n",
    "#plt.scatter(mu_1[1:-1,:1], mu_1[1:-1,1:])\n",
    "#plt.scatter(mu_2[1:-1,:1], mu_2[1:-1,1:])\n",
    "#plt.scatter(mu_3[1:-1,:1], mu_3[1:-1,1:])\n",
    "\n",
    "    # Affichage de la dernière valeur de chaque point de référence\n",
    "plt.scatter([mu_3[-1:,:1], mu_2[-1:,:1], mu_1[-1:,:1]], [mu_3[-1:,1:], mu_2[-1:,1:], mu_1[-1:,1:]], color='r')\n",
    "\n",
    "plt.show()"
   ]
  },
  {
   "cell_type": "markdown",
   "metadata": {},
   "source": [
    "- Création de données test :"
   ]
  },
  {
   "cell_type": "code",
   "execution_count": 14,
   "metadata": {},
   "outputs": [
    {
     "name": "stdout",
     "output_type": "stream",
     "text": [
      "[[6.75757991 3.30276884]\n",
      " [5.62630207 2.95283294]\n",
      " [6.62577651 2.27869805]\n",
      " [2.51474564 0.79080494]\n",
      " [4.53529033 3.95387389]\n",
      " [3.86716148 7.61907002]\n",
      " [3.85828015 4.94374273]\n",
      " [1.91837317 1.38994276]\n",
      " [7.26688567 2.39371999]\n",
      " [3.22356413 1.40113677]]\n"
     ]
    }
   ],
   "source": [
    "X_test = np.random.rand(10,2)*8\n",
    "print(X_test)"
   ]
  },
  {
   "cell_type": "markdown",
   "metadata": {},
   "source": [
    "- Test de ces données :"
   ]
  },
  {
   "cell_type": "code",
   "execution_count": 15,
   "metadata": {},
   "outputs": [
    {
     "name": "stdout",
     "output_type": "stream",
     "text": [
      "[0, 0, 0, 2, 0, 1, 1, 2, 0, 2]\n"
     ]
    }
   ],
   "source": [
    "D = get_D([mu_1, mu_2, mu_3], X_test)\n",
    "Ŷ_test = get_Ŷ(D)\n",
    "print(Ŷ_test)"
   ]
  },
  {
   "cell_type": "markdown",
   "metadata": {},
   "source": [
    "- Affichage des points test et des points de référence "
   ]
  },
  {
   "cell_type": "code",
   "execution_count": 16,
   "metadata": {},
   "outputs": [
    {
     "data": {
      "image/png": "[encoded data removed]",
      "text/plain": [
       "<Figure size 432x288 with 1 Axes>"
      ]
     },
     "metadata": {
      "needs_background": "light"
     },
     "output_type": "display_data"
    }
   ],
   "source": [
    "X_test = convert_X_to_df(X_test)\n",
    "plt.scatter(X_test['x1'],X_test['x2'])\n",
    "plt.scatter([mu_3[-1:,:1], mu_2[-1:,:1], mu_1[-1:,:1]], [mu_3[-1:,1:], mu_2[-1:,1:], mu_1[-1:,1:]], color='r')\n",
    "plt.show()"
   ]
  },
  {
   "cell_type": "markdown",
   "metadata": {},
   "source": [
    "- Affichage des résultats de l'entrainement et du test dans un graphe 2D :"
   ]
  },
  {
   "cell_type": "code",
   "execution_count": 17,
   "metadata": {},
   "outputs": [
    {
     "data": {
      "image/png": "[encoded data removed]",
      "text/plain": [
       "<Figure size 432x288 with 1 Axes>"
      ]
     },
     "metadata": {
      "needs_background": "light"
     },
     "output_type": "display_data"
    }
   ],
   "source": [
    "color = ['blue', 'darkgreen', 'darkorange']\n",
    "color_test = ['cyan', 'limegreen', 'gold']\n",
    "X = convert_to_array(X)\n",
    "X_test = convert_to_array(X_test)\n",
    "\n",
    "for i in range(I) :\n",
    "    plt.scatter(X[i][0], X[i][1], c = color[Ŷ[i]])\n",
    "\n",
    "for i in range(len(X_test)) :\n",
    "    plt.scatter(X_test[i][0], X_test[i][1], c = color_test[Ŷ_test[i]])\n",
    "\n",
    "    \n",
    "plt.scatter([mu_3[-1:,:1], mu_2[-1:,:1], mu_1[-1:,:1]], [mu_3[-1:,1:], mu_2[-1:,1:], mu_1[-1:,1:]], color='r')\n",
    "plt.show()"
   ]
  },
  {
   "cell_type": "markdown",
   "metadata": {},
   "source": [
    "## 2 Homework tasks"
   ]
  },
  {
   "cell_type": "markdown",
   "metadata": {},
   "source": [
    "### 2.1 K-means : Clustering some real data"
   ]
  },
  {
   "cell_type": "markdown",
   "metadata": {},
   "source": [
    "- Récupération des données du fichier 'grade_students.csv' :"
   ]
  },
  {
   "cell_type": "code",
   "execution_count": 18,
   "metadata": {},
   "outputs": [
    {
     "data": {
      "text/html": [
       "<div>\n",
       "<style scoped>\n",
       "    .dataframe tbody tr th:only-of-type {\n",
       "        vertical-align: middle;\n",
       "    }\n",
       "\n",
       "    .dataframe tbody tr th {\n",
       "        vertical-align: top;\n",
       "    }\n",
       "\n",
       "    .dataframe thead th {\n",
       "        text-align: right;\n",
       "    }\n",
       "</style>\n",
       "<table border=\"1\" class=\"dataframe\">\n",
       "  <thead>\n",
       "    <tr style=\"text-align: right;\">\n",
       "      <th></th>\n",
       "      <th>g1freelunch</th>\n",
       "      <th>g1absent</th>\n",
       "      <th>g1readscore</th>\n",
       "      <th>g1mathscore</th>\n",
       "      <th>g1listeningscore</th>\n",
       "      <th>g1wordscore</th>\n",
       "    </tr>\n",
       "  </thead>\n",
       "  <tbody>\n",
       "    <tr>\n",
       "      <th>0</th>\n",
       "      <td>1</td>\n",
       "      <td>9</td>\n",
       "      <td>516</td>\n",
       "      <td>578</td>\n",
       "      <td>601</td>\n",
       "      <td>493</td>\n",
       "    </tr>\n",
       "    <tr>\n",
       "      <th>1</th>\n",
       "      <td>0</td>\n",
       "      <td>12</td>\n",
       "      <td>451</td>\n",
       "      <td>507</td>\n",
       "      <td>584</td>\n",
       "      <td>436</td>\n",
       "    </tr>\n",
       "    <tr>\n",
       "      <th>2</th>\n",
       "      <td>1</td>\n",
       "      <td>4</td>\n",
       "      <td>483</td>\n",
       "      <td>526</td>\n",
       "      <td>529</td>\n",
       "      <td>486</td>\n",
       "    </tr>\n",
       "    <tr>\n",
       "      <th>3</th>\n",
       "      <td>1</td>\n",
       "      <td>15</td>\n",
       "      <td>516</td>\n",
       "      <td>505</td>\n",
       "      <td>556</td>\n",
       "      <td>536</td>\n",
       "    </tr>\n",
       "    <tr>\n",
       "      <th>4</th>\n",
       "      <td>1</td>\n",
       "      <td>2</td>\n",
       "      <td>433</td>\n",
       "      <td>463</td>\n",
       "      <td>504</td>\n",
       "      <td>426</td>\n",
       "    </tr>\n",
       "    <tr>\n",
       "      <th>...</th>\n",
       "      <td>...</td>\n",
       "      <td>...</td>\n",
       "      <td>...</td>\n",
       "      <td>...</td>\n",
       "      <td>...</td>\n",
       "      <td>...</td>\n",
       "    </tr>\n",
       "    <tr>\n",
       "      <th>5545</th>\n",
       "      <td>0</td>\n",
       "      <td>4</td>\n",
       "      <td>478</td>\n",
       "      <td>532</td>\n",
       "      <td>548</td>\n",
       "      <td>481</td>\n",
       "    </tr>\n",
       "    <tr>\n",
       "      <th>5546</th>\n",
       "      <td>1</td>\n",
       "      <td>9</td>\n",
       "      <td>487</td>\n",
       "      <td>523</td>\n",
       "      <td>574</td>\n",
       "      <td>493</td>\n",
       "    </tr>\n",
       "    <tr>\n",
       "      <th>5547</th>\n",
       "      <td>1</td>\n",
       "      <td>3</td>\n",
       "      <td>487</td>\n",
       "      <td>515</td>\n",
       "      <td>556</td>\n",
       "      <td>506</td>\n",
       "    </tr>\n",
       "    <tr>\n",
       "      <th>5548</th>\n",
       "      <td>1</td>\n",
       "      <td>10</td>\n",
       "      <td>492</td>\n",
       "      <td>479</td>\n",
       "      <td>531</td>\n",
       "      <td>481</td>\n",
       "    </tr>\n",
       "    <tr>\n",
       "      <th>5549</th>\n",
       "      <td>0</td>\n",
       "      <td>7</td>\n",
       "      <td>579</td>\n",
       "      <td>578</td>\n",
       "      <td>625</td>\n",
       "      <td>536</td>\n",
       "    </tr>\n",
       "  </tbody>\n",
       "</table>\n",
       "<p>5550 rows × 6 columns</p>\n",
       "</div>"
      ],
      "text/plain": [
       "      g1freelunch  g1absent  g1readscore  g1mathscore  g1listeningscore  \\\n",
       "0               1         9          516          578               601   \n",
       "1               0        12          451          507               584   \n",
       "2               1         4          483          526               529   \n",
       "3               1        15          516          505               556   \n",
       "4               1         2          433          463               504   \n",
       "...           ...       ...          ...          ...               ...   \n",
       "5545            0         4          478          532               548   \n",
       "5546            1         9          487          523               574   \n",
       "5547            1         3          487          515               556   \n",
       "5548            1        10          492          479               531   \n",
       "5549            0         7          579          578               625   \n",
       "\n",
       "      g1wordscore  \n",
       "0             493  \n",
       "1             436  \n",
       "2             486  \n",
       "3             536  \n",
       "4             426  \n",
       "...           ...  \n",
       "5545          481  \n",
       "5546          493  \n",
       "5547          506  \n",
       "5548          481  \n",
       "5549          536  \n",
       "\n",
       "[5550 rows x 6 columns]"
      ]
     },
     "execution_count": 18,
     "metadata": {},
     "output_type": "execute_result"
    }
   ],
   "source": [
    "X = pd.read_csv('data/kmeans/grade_students.csv')\n",
    "X"
   ]
  },
  {
   "cell_type": "markdown",
   "metadata": {},
   "source": [
    "- Renseignement des dimensions/constantes :"
   ]
  },
  {
   "cell_type": "code",
   "execution_count": 19,
   "metadata": {},
   "outputs": [
    {
     "name": "stdout",
     "output_type": "stream",
     "text": [
      "I = 5550\n",
      "N = 6\n",
      "iteration = 1000\n",
      "K = 3\n"
     ]
    }
   ],
   "source": [
    "X = pd.DataFrame(data = X, columns = ['g1freelunch','g1absent','g1readscore','g1mathscore',\n",
    "                                           'g1listeningscore','g1wordscore'])\n",
    "\n",
    "# Nombre d'exemples d'entrainement :\n",
    "I = len(X)\n",
    "print(\"I =\", I)\n",
    "\n",
    "# Nombre de features :\n",
    "N = len(X.columns)\n",
    "print(\"N =\", N)\n",
    "\n",
    "# Nombre ditération pour l'entrainement :\n",
    "iteration = 1000\n",
    "print(\"iteration =\", iteration)\n",
    "\n",
    "# Nombre de K\n",
    "K = 3\n",
    "print(\"K =\", K)"
   ]
  },
  {
   "cell_type": "markdown",
   "metadata": {},
   "source": [
    "- Fonction d'initialistation de ɵ :"
   ]
  },
  {
   "cell_type": "code",
   "execution_count": 20,
   "metadata": {},
   "outputs": [],
   "source": [
    "def init() :\n",
    "    mu1 = [X['g1freelunch'].mean(), X['g1absent'].mean(), X['g1readscore'].mean(), \n",
    "           X['g1mathscore'].mean(), X['g1listeningscore'].mean(), X['g1wordscore'].mean()]\n",
    "    mu2 = [X['g1freelunch'].min(), X['g1absent'].min(), X['g1readscore'].min(), \n",
    "           X['g1mathscore'].min(), X['g1listeningscore'].min(), X['g1wordscore'].min()]\n",
    "    mu3 = [X['g1freelunch'].max(), X['g1absent'].max(), X['g1readscore'].max(), \n",
    "           X['g1mathscore'].max(), X['g1listeningscore'].max(), X['g1wordscore'].max()]\n",
    "    ɵ = [mu1, mu2, mu3]\n",
    "    return ɵ"
   ]
  },
  {
   "cell_type": "markdown",
   "metadata": {},
   "source": [
    "- Entrainement :"
   ]
  },
  {
   "cell_type": "code",
   "execution_count": 21,
   "metadata": {},
   "outputs": [],
   "source": [
    "ɵ = init()\n",
    "ɵ = convert_to_array(ɵ)\n",
    "X = convert_to_array(X)\n",
    "mu_1 = [ɵ[0].tolist()]\n",
    "mu_2 = [ɵ[1].tolist()]\n",
    "mu_3 = [ɵ[2].tolist()]\n",
    "\n",
    "for itera in range(iteration) :\n",
    "    D = get_D(ɵ, X)\n",
    "    Ŷ = get_Ŷ(D)\n",
    "    ɵ = get_ɵ(Ŷ, ɵ)\n",
    "    mu_1.append(ɵ[0].tolist())\n",
    "    mu_2.append(ɵ[1].tolist())\n",
    "    mu_3.append(ɵ[2].tolist())\n",
    "\n",
    "mu_1 = np.array(mu_1)\n",
    "mu_2 = np.array(mu_2)\n",
    "mu_3 = np.array(mu_3)"
   ]
  },
  {
   "cell_type": "markdown",
   "metadata": {},
   "source": [
    "- Affichage des résultats et interprétation :"
   ]
  },
  {
   "cell_type": "code",
   "execution_count": 22,
   "metadata": {},
   "outputs": [
    {
     "name": "stdout",
     "output_type": "stream",
     "text": [
      "\n",
      "Cluster 0 :\n",
      "    - g1absent : 7.404656764351666  |  6.859361163240426\n",
      "    - g1freelunch : 0.5114411882778  |  0.49991925713610286\n",
      "    - g1listeningscore : 565.8978321959053  |  29.04550285352959\n",
      "    - g1mathscore : 529.227217984745  |  36.31676204217704\n",
      "    - g1readscore : 517.6796467282215  |  47.193201806651636\n",
      "    - g1wordscore : 513.415295062224  |  47.24693203513652\n",
      "\n",
      "Cluster 1 :\n",
      "    - g1absent : 9.372093023255815  |  10.725163127125654\n",
      "    - g1freelunch : 0.8558139534883721  |  0.3520980677838211\n",
      "    - g1listeningscore : 518.353488372093  |  16.35744634282837\n",
      "    - g1mathscore : 455.6093023255814  |  18.81950437280639\n",
      "    - g1readscore : 433.2232558139535  |  10.55764853654304\n",
      "    - g1wordscore : 415.9720930232558  |  19.159418824978296\n",
      "\n",
      "Cluster 2 :\n",
      "    - g1absent : 6.46742209631728  |  5.872672496912087\n",
      "    - g1freelunch : 0.1359773371104816  |  0.3432510338108347\n",
      "    - g1listeningscore : 625.1444759206798  |  28.54788798349734\n",
      "    - g1mathscore : 609.1104815864022  |  29.03860533929802\n",
      "    - g1readscore : 626.1529745042493  |  25.253922927526773\n",
      "    - g1wordscore : 592.0679886685552  |  15.955759884752327\n"
     ]
    },
    {
     "data": {
      "image/png": "[encoded data removed]",
      "text/plain": [
       "<Figure size 432x288 with 1 Axes>"
      ]
     },
     "metadata": {},
     "output_type": "display_data"
    }
   ],
   "source": [
    "Result = pd.DataFrame(data = X, columns = ['g1freelunch','g1absent','g1readscore','g1mathscore',\n",
    "                                           'g1listeningscore','g1wordscore'])\n",
    "Result['Ŷ'] = Ŷ\n",
    "Repartition = []\n",
    "\n",
    "for y in Result['Ŷ'].unique() :\n",
    "    print(\"\\nCluster\", y, \":\")\n",
    "    for col in Result.columns.difference(['Ŷ']) :\n",
    "        print(\"    -\", col, \":\", Result[col][Result['Ŷ'] == y].mean(), \" | \", Result[col][Result['Ŷ'] == y].std())\n",
    "        \n",
    "    Repartition.append(len(Result[col][Result['Ŷ'] == y]))\n",
    "\n",
    "plt.pie(Repartition, labels = ['Cluster 0', 'Cluster 1', 'Cluster 2'], \n",
    "        autopct = lambda Repartition: str(round(Repartition, 2)) + '%', normalize = True)\n",
    "plt.legend()\n",
    "plt.show()"
   ]
  },
  {
   "cell_type": "markdown",
   "metadata": {},
   "source": [
    "Une représentation graphique pour analyser les écarts-types serait trop compliquée, et pas du tout parlante, c'est pourquoi nous avons décidé de nous baser sur les moyennes et les écart-types.\n",
    "\n",
    "Après 1000 itérations, on peut en déduire que :\n",
    "\n",
    "- le cluster 0 correspond aux élèves moyens : la moyenne de chaque caractéristique pour tous les élèves est moyen, ce qui indique la position du point de référence du cluster (mu0). L'écart type est assez significatif puisque, est confirme bien que les étudiants de ce cluster sont dans la moyenne.\n",
    "\n",
    "- le cluster 1 correspond aux plus faibles élèves : ils ont le plus grand nombre d'abscence et les notes les plus basses avec un ecart type qui encore une fois est relativement assez proche de la moyenne de ce cluster.\n",
    "\n",
    "- le cluster 2 correspond aux élèves les plus forts : la moyenne d'absence est la plus faible et les moyennes de notes sont les meilleures.\n",
    "\n",
    "\n",
    "On constate aussi que le nombre d'élèves dans le cluster 0 représente presque 90% des élèves. On peut donc en déduire que 90% des élèves sont des élèves moyens.\n",
    "\n",
    "Pour les trois clusters, l'écart-type est assez significatif puisqu'on remarque qu'ils \"n'empiètent\" pas ou très peu sur les autres clusters."
   ]
  },
  {
   "cell_type": "markdown",
   "metadata": {},
   "source": [
    "## 2.2 PCA : Reducing the dimension of some synthetic data"
   ]
  },
  {
   "cell_type": "markdown",
   "metadata": {},
   "source": [
    "- Récupération des données du fichier 'grade_students.csv' :"
   ]
  },
  {
   "cell_type": "code",
   "execution_count": 23,
   "metadata": {},
   "outputs": [
    {
     "data": {
      "text/html": [
       "<div>\n",
       "<style scoped>\n",
       "    .dataframe tbody tr th:only-of-type {\n",
       "        vertical-align: middle;\n",
       "    }\n",
       "\n",
       "    .dataframe tbody tr th {\n",
       "        vertical-align: top;\n",
       "    }\n",
       "\n",
       "    .dataframe thead th {\n",
       "        text-align: right;\n",
       "    }\n",
       "</style>\n",
       "<table border=\"1\" class=\"dataframe\">\n",
       "  <thead>\n",
       "    <tr style=\"text-align: right;\">\n",
       "      <th></th>\n",
       "      <th>x1</th>\n",
       "      <th>x2</th>\n",
       "    </tr>\n",
       "  </thead>\n",
       "  <tbody>\n",
       "    <tr>\n",
       "      <th>0</th>\n",
       "      <td>3.3816</td>\n",
       "      <td>3.3891</td>\n",
       "    </tr>\n",
       "    <tr>\n",
       "      <th>1</th>\n",
       "      <td>4.5279</td>\n",
       "      <td>5.8542</td>\n",
       "    </tr>\n",
       "    <tr>\n",
       "      <th>2</th>\n",
       "      <td>2.6557</td>\n",
       "      <td>4.4120</td>\n",
       "    </tr>\n",
       "    <tr>\n",
       "      <th>3</th>\n",
       "      <td>2.7652</td>\n",
       "      <td>3.7154</td>\n",
       "    </tr>\n",
       "    <tr>\n",
       "      <th>4</th>\n",
       "      <td>2.8466</td>\n",
       "      <td>4.1755</td>\n",
       "    </tr>\n",
       "  </tbody>\n",
       "</table>\n",
       "</div>"
      ],
      "text/plain": [
       "       x1      x2\n",
       "0  3.3816  3.3891\n",
       "1  4.5279  5.8542\n",
       "2  2.6557  4.4120\n",
       "3  2.7652  3.7154\n",
       "4  2.8466  4.1755"
      ]
     },
     "execution_count": 23,
     "metadata": {},
     "output_type": "execute_result"
    }
   ],
   "source": [
    "X = pd.read_csv('data/pca/data_pca.txt', names = ['x1','x2'], sep = \" \")\n",
    "X.head()"
   ]
  },
  {
   "cell_type": "markdown",
   "metadata": {},
   "source": [
    "- Représentation graphique des données :"
   ]
  },
  {
   "cell_type": "code",
   "execution_count": 24,
   "metadata": {},
   "outputs": [
    {
     "data": {
      "image/png": "[encoded data removed]",
      "text/plain": [
       "<Figure size 432x288 with 1 Axes>"
      ]
     },
     "metadata": {
      "needs_background": "light"
     },
     "output_type": "display_data"
    }
   ],
   "source": [
    "X = convert_X_to_df(X)\n",
    "plt.scatter(X['x1'], X['x2'])\n",
    "plt.show()"
   ]
  },
  {
   "cell_type": "markdown",
   "metadata": {},
   "source": [
    "- Fonction de récupération du centroïde des données :"
   ]
  },
  {
   "cell_type": "code",
   "execution_count": 25,
   "metadata": {},
   "outputs": [],
   "source": [
    "def get_mu(X) :\n",
    "    l_mu = []\n",
    "    for col in range(X.shape[1]):\n",
    "        l_mu.append(np.mean(X[:,col:col+1]))\n",
    "    return l_mu"
   ]
  },
  {
   "cell_type": "markdown",
   "metadata": {},
   "source": [
    "- Fonction de centrage des données :"
   ]
  },
  {
   "cell_type": "code",
   "execution_count": 26,
   "metadata": {},
   "outputs": [],
   "source": [
    "def change_x(X, mu) :\n",
    "    return X - mu"
   ]
  },
  {
   "cell_type": "markdown",
   "metadata": {},
   "source": [
    "- Entrainement :"
   ]
  },
  {
   "cell_type": "code",
   "execution_count": 27,
   "metadata": {},
   "outputs": [],
   "source": [
    "new_X = convert_to_array(X)\n",
    "\n",
    "# Récupération de la moyenne :\n",
    "mu = get_mu(new_X)\n",
    "\n",
    "# Centrage des données autour de 0 :\n",
    "new_X = change_x(new_X, mu)\n",
    "\n",
    "# Calcul de la covariance :\n",
    "CV = np.cov(new_X.T)\n",
    "\n",
    "# Récupération des vecteurs propre et valeurs propre :\n",
    "eig_vals, eig_vecs = np.linalg.eig(CV)"
   ]
  },
  {
   "cell_type": "markdown",
   "metadata": {},
   "source": [
    "- On affiche la liste des valeurs propres :"
   ]
  },
  {
   "cell_type": "code",
   "execution_count": 28,
   "metadata": {},
   "outputs": [
    {
     "name": "stdout",
     "output_type": "stream",
     "text": [
      "[2.10989648 0.31353957]\n"
     ]
    }
   ],
   "source": [
    "print(eig_vals)"
   ]
  },
  {
   "cell_type": "markdown",
   "metadata": {},
   "source": [
    "La première valeur de la liste est la plus grande. On choisi donc l'index 0 pour le vecteur propre que nous utiliserons."
   ]
  },
  {
   "cell_type": "markdown",
   "metadata": {},
   "source": [
    "- Représentation graphique :"
   ]
  },
  {
   "cell_type": "code",
   "execution_count": 29,
   "metadata": {},
   "outputs": [
    {
     "data": {
      "image/png": "[encoded data removed]",
      "text/plain": [
       "<Figure size 432x288 with 1 Axes>"
      ]
     },
     "metadata": {
      "needs_background": "light"
     },
     "output_type": "display_data"
    }
   ],
   "source": [
    "Z = pd.DataFrame(data = np.array(new_X.dot(eig_vecs[0].T)), columns = ['X'])\n",
    "Z['Y'] = 0 * len(Z) \n",
    "plt.scatter(Z['X'], Z['Y'])\n",
    "plt.show()"
   ]
  },
  {
   "cell_type": "markdown",
   "metadata": {},
   "source": [
    "- Création des données de test :"
   ]
  },
  {
   "cell_type": "code",
   "execution_count": 30,
   "metadata": {},
   "outputs": [
    {
     "name": "stdout",
     "output_type": "stream",
     "text": [
      "[[-0.23377581 -0.435062  ]\n",
      " [ 1.12566195 -1.83516521]\n",
      " [ 1.78754035 -1.33182964]\n",
      " [-2.75964215  0.33112121]\n",
      " [-0.9749121  -2.62051447]\n",
      " [ 0.58608919 -1.51254151]\n",
      " [ 0.7204669   0.50382257]\n",
      " [ 1.83377811 -0.33179001]\n",
      " [-1.9962609  -1.7313076 ]\n",
      " [-0.40842372 -0.17916162]]\n"
     ]
    }
   ],
   "source": [
    "X_test = np.random.rand(10,2)*6-3\n",
    "print(X_test)"
   ]
  },
  {
   "cell_type": "markdown",
   "metadata": {},
   "source": [
    "- Représentation graphique du train et test en 2D :"
   ]
  },
  {
   "cell_type": "code",
   "execution_count": 31,
   "metadata": {},
   "outputs": [
    {
     "data": {
      "image/png": "[encoded data removed]",
      "text/plain": [
       "<Figure size 432x288 with 1 Axes>"
      ]
     },
     "metadata": {
      "needs_background": "light"
     },
     "output_type": "display_data"
    }
   ],
   "source": [
    "Z = pd.DataFrame(data = np.array(new_X.dot(eig_vecs[0].T)), columns = ['X'])\n",
    "Z['Y'] = 0 * len(Z)\n",
    "Z_test = pd.DataFrame(data = np.array(X_test.dot(eig_vecs[0].T)), columns = ['X'])\n",
    "Z_test['Y'] = 0 * len(Z_test)\n",
    "plt.scatter(Z['X'], Z['Y'])\n",
    "plt.scatter(Z_test['X'], Z_test['Y'])\n",
    "plt.show()"
   ]
  },
  {
   "cell_type": "markdown",
   "metadata": {},
   "source": [
    "## 2.3 PCA: Reducing the dimension of some real data"
   ]
  },
  {
   "cell_type": "markdown",
   "metadata": {},
   "source": [
    "- Récupération des données du fichier 'diabetes.csv' :"
   ]
  },
  {
   "cell_type": "code",
   "execution_count": 32,
   "metadata": {},
   "outputs": [
    {
     "data": {
      "text/html": [
       "<div>\n",
       "<style scoped>\n",
       "    .dataframe tbody tr th:only-of-type {\n",
       "        vertical-align: middle;\n",
       "    }\n",
       "\n",
       "    .dataframe tbody tr th {\n",
       "        vertical-align: top;\n",
       "    }\n",
       "\n",
       "    .dataframe thead th {\n",
       "        text-align: right;\n",
       "    }\n",
       "</style>\n",
       "<table border=\"1\" class=\"dataframe\">\n",
       "  <thead>\n",
       "    <tr style=\"text-align: right;\">\n",
       "      <th></th>\n",
       "      <th>Pregnancies</th>\n",
       "      <th>Glucose</th>\n",
       "      <th>BloodPressure</th>\n",
       "      <th>SkinThickness</th>\n",
       "      <th>Insulin</th>\n",
       "      <th>BMI</th>\n",
       "      <th>DiabetesPedigreeFunction</th>\n",
       "      <th>Age</th>\n",
       "      <th>Outcome</th>\n",
       "    </tr>\n",
       "  </thead>\n",
       "  <tbody>\n",
       "    <tr>\n",
       "      <th>0</th>\n",
       "      <td>6</td>\n",
       "      <td>148</td>\n",
       "      <td>72</td>\n",
       "      <td>35</td>\n",
       "      <td>0</td>\n",
       "      <td>33.6</td>\n",
       "      <td>0.627</td>\n",
       "      <td>50</td>\n",
       "      <td>1</td>\n",
       "    </tr>\n",
       "    <tr>\n",
       "      <th>1</th>\n",
       "      <td>1</td>\n",
       "      <td>85</td>\n",
       "      <td>66</td>\n",
       "      <td>29</td>\n",
       "      <td>0</td>\n",
       "      <td>26.6</td>\n",
       "      <td>0.351</td>\n",
       "      <td>31</td>\n",
       "      <td>0</td>\n",
       "    </tr>\n",
       "    <tr>\n",
       "      <th>2</th>\n",
       "      <td>8</td>\n",
       "      <td>183</td>\n",
       "      <td>64</td>\n",
       "      <td>0</td>\n",
       "      <td>0</td>\n",
       "      <td>23.3</td>\n",
       "      <td>0.672</td>\n",
       "      <td>32</td>\n",
       "      <td>1</td>\n",
       "    </tr>\n",
       "    <tr>\n",
       "      <th>3</th>\n",
       "      <td>1</td>\n",
       "      <td>89</td>\n",
       "      <td>66</td>\n",
       "      <td>23</td>\n",
       "      <td>94</td>\n",
       "      <td>28.1</td>\n",
       "      <td>0.167</td>\n",
       "      <td>21</td>\n",
       "      <td>0</td>\n",
       "    </tr>\n",
       "    <tr>\n",
       "      <th>4</th>\n",
       "      <td>0</td>\n",
       "      <td>137</td>\n",
       "      <td>40</td>\n",
       "      <td>35</td>\n",
       "      <td>168</td>\n",
       "      <td>43.1</td>\n",
       "      <td>2.288</td>\n",
       "      <td>33</td>\n",
       "      <td>1</td>\n",
       "    </tr>\n",
       "  </tbody>\n",
       "</table>\n",
       "</div>"
      ],
      "text/plain": [
       "   Pregnancies  Glucose  BloodPressure  SkinThickness  Insulin   BMI  \\\n",
       "0            6      148             72             35        0  33.6   \n",
       "1            1       85             66             29        0  26.6   \n",
       "2            8      183             64              0        0  23.3   \n",
       "3            1       89             66             23       94  28.1   \n",
       "4            0      137             40             35      168  43.1   \n",
       "\n",
       "   DiabetesPedigreeFunction  Age  Outcome  \n",
       "0                     0.627   50        1  \n",
       "1                     0.351   31        0  \n",
       "2                     0.672   32        1  \n",
       "3                     0.167   21        0  \n",
       "4                     2.288   33        1  "
      ]
     },
     "execution_count": 32,
     "metadata": {},
     "output_type": "execute_result"
    }
   ],
   "source": [
    "X = pd.read_csv('data/pca/diabetes.csv')\n",
    "X.head()"
   ]
  },
  {
   "cell_type": "markdown",
   "metadata": {},
   "source": [
    "- Reduction de dimension :"
   ]
  },
  {
   "cell_type": "code",
   "execution_count": 33,
   "metadata": {},
   "outputs": [],
   "source": [
    "new_X = convert_to_array(X.drop(columns=['Outcome']))\n",
    "\n",
    "# Récupération de la moyenne :\n",
    "mu = get_mu(new_X)\n",
    "\n",
    "# Centrage des données autour de 0 :\n",
    "new_X = change_x(new_X, mu)\n",
    "\n",
    "# Calcul de la covariance :\n",
    "CV = np.cov(new_X.T)\n",
    "\n",
    "# Récupération des vecteurs propre et valeurs propre :\n",
    "eig_vals, eig_vecs = np.linalg.eig(CV)"
   ]
  },
  {
   "cell_type": "markdown",
   "metadata": {},
   "source": [
    "Nous posons P = 2 :"
   ]
  },
  {
   "cell_type": "code",
   "execution_count": 34,
   "metadata": {},
   "outputs": [
    {
     "name": "stdout",
     "output_type": "stream",
     "text": [
      "[1.34565730e+04 9.32760132e+02 3.90577831e+02 1.98182691e+02\n",
      " 1.12689115e+02 4.58294431e+01 7.76070899e+00 1.02871018e-01]\n"
     ]
    }
   ],
   "source": [
    "print(eig_vals)"
   ]
  },
  {
   "cell_type": "markdown",
   "metadata": {},
   "source": [
    "Les 2 valeurs propres les plus grandes sont celles aux index 0 et 1 :"
   ]
  },
  {
   "cell_type": "code",
   "execution_count": 35,
   "metadata": {},
   "outputs": [
    {
     "data": {
      "image/png": "[encoded data removed]",
      "text/plain": [
       "<Figure size 432x288 with 1 Axes>"
      ]
     },
     "metadata": {
      "needs_background": "light"
     },
     "output_type": "display_data"
    }
   ],
   "source": [
    "Z = pd.DataFrame(data = np.array(new_X.dot(eig_vecs[0].T)), columns = ['X'])\n",
    "Z['Y'] = new_X.dot(eig_vecs[1].T)\n",
    "plt.scatter(Z['X'], Z['Y'])\n",
    "plt.show()"
   ]
  },
  {
   "cell_type": "markdown",
   "metadata": {},
   "source": [
    "On voit que la forme du graphe est divisée : Une partie à gauche verticale et un nuge de point plus à droite qui s'apparente plus à un nuage de points."
   ]
  },
  {
   "cell_type": "code",
   "execution_count": null,
   "metadata": {},
   "outputs": [],
   "source": []
  }
 ],
 "metadata": {
  "kernelspec": {
   "display_name": "Python 3",
   "language": "python",
   "name": "python3"
  },
  "language_info": {
   "codemirror_mode": {
    "name": "ipython",
    "version": 3
   },
   "file_extension": ".py",
   "mimetype": "text/x-python",
   "name": "python",
   "nbconvert_exporter": "python",
   "pygments_lexer": "ipython3",
   "version": "3.8.5"
  }
 },
 "nbformat": 4,
 "nbformat_minor": 4
}
