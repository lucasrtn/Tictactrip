{
 "cells": [
  {
   "cell_type": "markdown",
   "metadata": {},
   "source": [
    "# Lab2 - Recurrent Neural Network"
   ]
  },
  {
   "cell_type": "markdown",
   "metadata": {},
   "source": [
    "- Imports :"
   ]
  },
  {
   "cell_type": "code",
   "execution_count": 272,
   "metadata": {},
   "outputs": [],
   "source": [
    "import numpy as np\n",
    "import matplotlib.pyplot as plt\n",
    "import matplotlib.colors as mcolors"
   ]
  },
  {
   "cell_type": "markdown",
   "metadata": {},
   "source": [
    "- Générer X aléatoirement :"
   ]
  },
  {
   "cell_type": "code",
   "execution_count": 216,
   "metadata": {},
   "outputs": [],
   "source": [
    "X = np.random.randint(2, size=(40,10))"
   ]
  },
  {
   "cell_type": "markdown",
   "metadata": {},
   "source": [
    "- Calculer Y :"
   ]
  },
  {
   "cell_type": "code",
   "execution_count": 217,
   "metadata": {},
   "outputs": [],
   "source": [
    "Y = np.sum(X, axis=1)"
   ]
  },
  {
   "cell_type": "markdown",
   "metadata": {},
   "source": [
    "- Separer X,Y en X_train, X_test, Y_train, Y_test :"
   ]
  },
  {
   "cell_type": "code",
   "execution_count": 218,
   "metadata": {},
   "outputs": [],
   "source": [
    "X_train = X[:30]\n",
    "X_test = X[30:]\n",
    "\n",
    "Y_train = Y[:30]\n",
    "Y_test = Y[30:]"
   ]
  },
  {
   "cell_type": "markdown",
   "metadata": {},
   "source": [
    "- Renseignement des dimensions/constantes :"
   ]
  },
  {
   "cell_type": "code",
   "execution_count": 235,
   "metadata": {},
   "outputs": [
    {
     "name": "stdout",
     "output_type": "stream",
     "text": [
      "I = 30\n",
      "T = 10\n",
      "F0 = 0\n",
      "iteration = 10000\n"
     ]
    }
   ],
   "source": [
    "# Nombre d'exemples d'entrainement\n",
    "I = len(X_train)\n",
    "print(\"I =\", I)\n",
    "\n",
    "# Longeur des séquences\n",
    "T = X_train.shape[1]\n",
    "print(\"T =\", T)\n",
    "\n",
    "# Valeur initiale de la fonction de propagation\n",
    "F0 = 0\n",
    "print(\"F0 =\", F0)\n",
    "\n",
    "# Nombre d'iteration\n",
    "iteration = 10000\n",
    "print(\"iteration =\", iteration)"
   ]
  },
  {
   "cell_type": "code",
   "execution_count": 236,
   "metadata": {},
   "outputs": [],
   "source": [
    "def dataInit() :\n",
    "    \n",
    "    # Poids initial appliqué à F (avant la Back Propagation)\n",
    "    Vf = np.random.rand()\n",
    "\n",
    "    # Poids initial appliqué à X (avant la Back Propagation)\n",
    "    Vx = np.random.rand()\n",
    "    \n",
    "    return Vf, Vx\n",
    "\n",
    "def derivatedInit() :\n",
    "    \n",
    "    # Initialisation de la dérivée partielle de l'erreur par Vx\n",
    "    dE_dVx_old = 0\n",
    "    \n",
    "    # Initialisation de la dérivée partielle de l'erreur par Vx\n",
    "    dE_dVf_old = 0\n",
    "    \n",
    "    return dE_dVx_old, dE_dVf_old"
   ]
  },
  {
   "cell_type": "markdown",
   "metadata": {},
   "source": [
    "- Fonction de Forward Propagation :"
   ]
  },
  {
   "cell_type": "code",
   "execution_count": 237,
   "metadata": {},
   "outputs": [],
   "source": [
    "def FP(X, Vx, Vf):\n",
    "    Ŷ = []\n",
    "    F = []\n",
    "    for X_i in X :\n",
    "        f_i_0 = F0\n",
    "        f = []\n",
    "        for X_i_t in X_i:\n",
    "            f_i_0 = Vf*f_i_0 + Vx*X_i_t\n",
    "            f.append(f_i_0)\n",
    "        F.append(f)\n",
    "        Ŷ.append(f_i_0)\n",
    "    return Ŷ, np.array(F)"
   ]
  },
  {
   "cell_type": "markdown",
   "metadata": {},
   "source": [
    "- Calcul des dérivées partielles de l'erreur :"
   ]
  },
  {
   "cell_type": "code",
   "execution_count": 238,
   "metadata": {},
   "outputs": [],
   "source": [
    "# Calcul de la dérivée partielle de E en fonction de Vx\n",
    "def derErreurVx(Ŷ, X, Y, Vf) :\n",
    "    dE_dVx = 0\n",
    "    for t in range (1,T) :\n",
    "        a = 0\n",
    "        for i in range(len(X)) :\n",
    "            a += (Ŷ[i]-Y[i])*X[i][t-1]\n",
    "        dE_dVx += a*((Vf)**(T-t))\n",
    "    return dE_dVx\n",
    "\n",
    "\n",
    "# Calcul de la dérivée partielle de E en fonction de Vf\n",
    "def derErreurVf(Ŷ, F, Y, Vf) :\n",
    "    dE_dVf = 0\n",
    "    for t in range (1,T) :\n",
    "        c = 0\n",
    "        for i in range(len(F)) :\n",
    "            c += (Ŷ[i]-Y[i])*F[i][t-1]\n",
    "        dE_dVf += c*((Vf)**(T-t))\n",
    "    return dE_dVf"
   ]
  },
  {
   "cell_type": "markdown",
   "metadata": {},
   "source": [
    "- Fonction de Back Propagation :"
   ]
  },
  {
   "cell_type": "code",
   "execution_count": 239,
   "metadata": {},
   "outputs": [],
   "source": [
    "def BP(Ŷ, F, X_train, Y_train, Vx, Vf) :\n",
    "    \n",
    "    # Taux d'apprentissage associé à X (BP)\n",
    "    𝛼_x = 0.001\n",
    "\n",
    "    # Taux d'apprentissage associé à F (BP)\n",
    "    𝛼_f = 0.001\n",
    "\n",
    "    # Calcul des dérivées\n",
    "    dE_dVx = derErreurVx(Ŷ, X_train, Y_train, Vf)\n",
    "    dE_dVf = derErreurVf(Ŷ, F, Y_train, Vf)\n",
    "\n",
    "    # Correction des poids \n",
    "    Vx -= 𝛼_x*dE_dVx\n",
    "\n",
    "    Vf -= 𝛼_f*dE_dVf\n",
    "\n",
    "    return Vx, Vf"
   ]
  },
  {
   "cell_type": "markdown",
   "metadata": {},
   "source": [
    "- Entrainement avec le Back Propagation :"
   ]
  },
  {
   "cell_type": "code",
   "execution_count": 276,
   "metadata": {},
   "outputs": [
    {
     "name": "stderr",
     "output_type": "stream",
     "text": [
      "<ipython-input-237-792c62c9806d>:8: RuntimeWarning: overflow encountered in double_scalars\n",
      "  f_i_0 = Vf*f_i_0 + Vx*X_i_t\n",
      "<ipython-input-276-78992ba018cf>:10: RuntimeWarning: overflow encountered in square\n",
      "  E = (1/2)*np.sum((Ŷ - Y_train)**2)\n",
      "<ipython-input-238-1ee42b86e324>:7: RuntimeWarning: invalid value encountered in double_scalars\n",
      "  a += (Ŷ[i]-Y[i])*X[i][t-1]\n",
      "<ipython-input-238-1ee42b86e324>:18: RuntimeWarning: invalid value encountered in double_scalars\n",
      "  c += (Ŷ[i]-Y[i])*F[i][t-1]\n",
      "<ipython-input-238-1ee42b86e324>:19: RuntimeWarning: overflow encountered in double_scalars\n",
      "  dE_dVf += c*((Vf)**(T-t))\n",
      "<ipython-input-238-1ee42b86e324>:18: RuntimeWarning: overflow encountered in double_scalars\n",
      "  c += (Ŷ[i]-Y[i])*F[i][t-1]\n"
     ]
    }
   ],
   "source": [
    "#Initialisation des données\n",
    "Vf, Vx = dataInit()\n",
    "\n",
    "for itera in range (iteration) :\n",
    "    \n",
    "    # Appel de la fonction de forward propagation\n",
    "    Ŷ, F = FP(X_train, Vx, Vf)\n",
    "    \n",
    "    # Calcul de l'erreur \n",
    "    E = (1/2)*np.sum((Ŷ - Y_train)**2)\n",
    "    \n",
    "    # Appel de la fonction de back propagation\n",
    "    Vx, Vf = BP(Ŷ, F, X_train, Y_train, Vx, Vf)"
   ]
  },
  {
   "cell_type": "markdown",
   "metadata": {},
   "source": [
    "- Test du Back Propagation :"
   ]
  },
  {
   "cell_type": "code",
   "execution_count": 258,
   "metadata": {},
   "outputs": [],
   "source": [
    "Ŷ, F = FP(X_test, Vx, Vf)\n",
    "E = (1/2)*np.sum((Ŷ - Y_test)**2)\n",
    "\n",
    "err = []\n",
    "\n",
    "#for i in range(len(Ŷ)) :\n",
    "    #print(\"Ŷ = \", Ŷ[i], \" et Y = \", Y_test[i])\n",
    "    \n",
    "err.append(np.mean(np.abs((Y_test-Ŷ)/Y_test*100)))"
   ]
  },
  {
   "cell_type": "markdown",
   "metadata": {},
   "source": [
    "- Représentation graphique :"
   ]
  },
  {
   "cell_type": "code",
   "execution_count": null,
   "metadata": {},
   "outputs": [],
   "source": []
  },
  {
   "cell_type": "markdown",
   "metadata": {},
   "source": [
    "- Fonction de Resilient Propagation :"
   ]
  },
  {
   "cell_type": "code",
   "execution_count": 259,
   "metadata": {},
   "outputs": [],
   "source": [
    "def RP(Ŷ, F, X_train, Y_train, Vx, Vf, itera, dE_dVx_old, dE_dVf_old) :\n",
    "    \n",
    "   # Taux d'apprentissage associé à X (RP)\n",
    "    Δ_x = 0.001\n",
    "\n",
    "    # Taux d'apprentissage associé à F (RP)\n",
    "    Δ_f = 0.001\n",
    "    \n",
    "    # Taux de correction avançant pour Δ (RP)\n",
    "    ƞ_p = 1.2\n",
    "\n",
    "    # Taux de correction reculant pour Δ (RP)\n",
    "    ƞ_n = 0.5\n",
    "    \n",
    "    dE_dVx = derErreurVx(Ŷ, X_train, Y_train, Vf)\n",
    "    dE_dVf = derErreurVf(Ŷ, F, Y_train, Vf)\n",
    "        \n",
    "    # Correction des poids \n",
    "    \n",
    "    if itera == 0 : # Si c'est le premier tour\n",
    "        Vx -= Δ_x * dE_dVx\n",
    "        Vf -= Δ_f * dE_dVf\n",
    "        \n",
    "    else : # Pour tous les autres tours\n",
    "        \n",
    "        # Correction de Δ_x\n",
    "        if np.sign(dE_dVx) == np.sign(dE_dVx_old) :\n",
    "            Δ_x = Δ_x*ƞ_p\n",
    "        else :\n",
    "            Δ_x = Δ_x*ƞ_n\n",
    "        \n",
    "        # Correction de Δ_x\n",
    "        if np.sign(dE_dVf) == np.sign(dE_dVf_old) :\n",
    "            Δ_f = Δ_f*ƞ_p\n",
    "        else :\n",
    "            Δ_f = Δ_f*ƞ_n\n",
    "            \n",
    "        Vx -= Δ_x*np.sign(dE_dVx)\n",
    "        Vf -= Δ_f*np.sign(dE_dVf)\n",
    "    \n",
    "    return Vx, Vf, dE_dVx, dE_dVf"
   ]
  },
  {
   "cell_type": "markdown",
   "metadata": {},
   "source": [
    "- Entrainement avec le Resilient Propagation :"
   ]
  },
  {
   "cell_type": "code",
   "execution_count": 278,
   "metadata": {},
   "outputs": [],
   "source": [
    "#Initialisation des données\n",
    "Vf, Vx = dataInit()\n",
    "dE_dVx_old, dE_dVf_old = derivatedInit()\n",
    "\n",
    "Erreur = []\n",
    "for itera in range (iteration) :\n",
    "    \n",
    "    # Appel de la fonction de forward propagation\n",
    "    Ŷ, F = FP(X_train, Vx, Vf)\n",
    "    \n",
    "    # Calcul de l'erreur \n",
    "    E = (1/2)*np.sum((Ŷ - Y_train)**2)\n",
    "\n",
    "    # Appel de la fonction de resilient propagation\n",
    "    Vx, Vf, dE_dVx_old, dE_dVf_old = RP(Ŷ, F, X_train, Y_train, Vx, Vf, itera, dE_dVx_old, dE_dVf_old)\n",
    "    \n",
    "    # Ajout de l'erreur à la liste Erreur\n",
    "    Erreur.append(E)"
   ]
  },
  {
   "cell_type": "markdown",
   "metadata": {},
   "source": [
    "- Test du Resilient Propagation :"
   ]
  },
  {
   "cell_type": "code",
   "execution_count": 261,
   "metadata": {},
   "outputs": [],
   "source": [
    "Ŷ, F = FP(X_test, Vx, Vf)\n",
    "E = (1/2)*np.sum((Ŷ - Y_test)**2)\n",
    "\n",
    "#for i in range(len(Ŷ)) :\n",
    "    #print(\"Ŷ = \", Ŷ[i], \" et Y = \", Y_test[i])\n",
    "    \n",
    "err.append(np.mean(np.abs((Y_test-Ŷ)/Y_test*100)))"
   ]
  },
  {
   "cell_type": "markdown",
   "metadata": {},
   "source": [
    "- Représentation graphique :"
   ]
  },
  {
   "cell_type": "code",
   "execution_count": 279,
   "metadata": {},
   "outputs": [
    {
     "data": {
      "image/png": "[encoded data removed]",
      "text/plain": [
       "<Figure size 432x288 with 1 Axes>"
      ]
     },
     "metadata": {
      "needs_background": "light"
     },
     "output_type": "display_data"
    }
   ],
   "source": [
    "fig, ax = plt.subplots()\n",
    "ax.plot(VX, VF)\n",
    "ax.set(xlabel='Vx', ylabel='Vy')\n",
    "fig.savefig(\"test.png\")\n",
    "plt.show()"
   ]
  },
  {
   "cell_type": "code",
   "execution_count": 280,
   "metadata": {},
   "outputs": [
    {
     "data": {
      "image/png": "[encoded data removed]",
      "text/plain": [
       "<Figure size 432x288 with 1 Axes>"
      ]
     },
     "metadata": {
      "needs_background": "light"
     },
     "output_type": "display_data"
    }
   ],
   "source": [
    "plt.plot(Erreur)\n",
    "plt.show()"
   ]
  },
  {
   "cell_type": "markdown",
   "metadata": {},
   "source": [
    "- Fonction de Gradient Clipping :"
   ]
  },
  {
   "cell_type": "code",
   "execution_count": 264,
   "metadata": {},
   "outputs": [],
   "source": [
    "def GC(Ŷ, F, X_train, Y_train, Vx, Vf) :\n",
    "    \n",
    "    # Norme (GC)\n",
    "    ƞ = 10\n",
    "    \n",
    "    # Taux d'apprentissage associé à X (BP)\n",
    "    𝛼_x = 0.001\n",
    "\n",
    "    # Taux d'apprentissage associé à F (BP)\n",
    "    𝛼_f = 0.001\n",
    "    \n",
    "    # Calcul des dérivées\n",
    "    dE_dVx = derErreurVx(Ŷ, X_train, Y_train, Vf)\n",
    "    dE_dVf = derErreurVf(Ŷ, F, Y_train, Vf)\n",
    "    \n",
    "    # Definition du vecteur gradient\n",
    "    dE_dV = [dE_dVx, dE_dVf]\n",
    "        \n",
    "    # Calcul de la norme du vecteur gradient\n",
    "    norm = np.linalg.norm([dE_dVx, dE_dVf])\n",
    "\n",
    "    # Bornage de la norme du gradient\n",
    "    if norm > ƞ :\n",
    "        dE_dV = ƞ * ([dE_dVx, dE_dVf] / norm)\n",
    "\n",
    "    # Correction des poids\n",
    "    Vx -= 𝛼_x*dE_dV[0]\n",
    "    Vf -= 𝛼_f*dE_dV[1]\n",
    "\n",
    "    return Vx, Vf, norm"
   ]
  },
  {
   "cell_type": "markdown",
   "metadata": {},
   "source": [
    "- Entrainement avec le Gradient Clipping :"
   ]
  },
  {
   "cell_type": "code",
   "execution_count": 265,
   "metadata": {},
   "outputs": [],
   "source": [
    "#Initialisation des données\n",
    "Vf, Vx = dataInit()\n",
    "dE_dVx_old, dE_dVf_old = derivatedInit()\n",
    "\n",
    "# Création d'une liste d'erreur pour le graphe\n",
    "Erreur = []\n",
    "\n",
    "for itera in range (iteration) :\n",
    "    \n",
    "    # Appel de la fonction de forward propagation\n",
    "    Ŷ, F = FP(X_train, Vx, Vf)\n",
    "    \n",
    "    # Calcul de l'erreur \n",
    "    E = (1/2)*np.sum((Ŷ - Y_train)**2)\n",
    "\n",
    "    # Appel de la fonction de resilient propagation\n",
    "    Vx, Vf, norm = GC(Ŷ, F, X_train, Y_train, Vx, Vf)\n",
    "    \n",
    "    # Ajout de l'erreur à la liste Erreur\n",
    "    Erreur.append(E)"
   ]
  },
  {
   "cell_type": "markdown",
   "metadata": {},
   "source": [
    "- Test du Gradient Clipping :"
   ]
  },
  {
   "cell_type": "code",
   "execution_count": 266,
   "metadata": {},
   "outputs": [],
   "source": [
    "Ŷ, F = FP(X_test, Vx, Vf)\n",
    "E = (1/2)*np.sum((Ŷ - Y_test)**2)\n",
    "\n",
    "#for i in range(len(Ŷ)) :\n",
    "    #print(\"Ŷ = \", Ŷ[i], \" et Y = \", Y_test[i])\n",
    "    \n",
    "err.append(np.mean(np.abs((Y_test-Ŷ)/Y_test*100)))"
   ]
  },
  {
   "cell_type": "markdown",
   "metadata": {},
   "source": [
    "- Représentation graphique :"
   ]
  },
  {
   "cell_type": "code",
   "execution_count": 281,
   "metadata": {},
   "outputs": [
    {
     "data": {
      "image/png": "[encoded data removed]",
      "text/plain": [
       "<Figure size 432x288 with 1 Axes>"
      ]
     },
     "metadata": {
      "needs_background": "light"
     },
     "output_type": "display_data"
    }
   ],
   "source": [
    "plt.plot(Erreur)\n",
    "plt.show()"
   ]
  },
  {
   "cell_type": "code",
   "execution_count": 282,
   "metadata": {},
   "outputs": [
    {
     "data": {
      "image/png": "[encoded data removed]",
      "text/plain": [
       "<Figure size 432x288 with 1 Axes>"
      ]
     },
     "metadata": {
      "needs_background": "light"
     },
     "output_type": "display_data"
    }
   ],
   "source": [
    "fig, ax = plt.subplots()\n",
    "ax.plot(VX, VF, 'x')\n",
    "ax.set(xlabel='Vx', ylabel='Vy')\n",
    "fig.savefig(\"test.png\")\n",
    "plt.show()"
   ]
  },
  {
   "cell_type": "code",
   "execution_count": 283,
   "metadata": {},
   "outputs": [
    {
     "data": {
      "image/png": "[encoded data removed]",
      "text/plain": [
       "<Figure size 720x360 with 1 Axes>"
      ]
     },
     "metadata": {
      "needs_background": "light"
     },
     "output_type": "display_data"
    }
   ],
   "source": [
    "plt.figure(figsize=(10, 5))\n",
    "plt.bar(['Back Propagation', 'Resilient Propagation', 'Gradient Clipping'],err, color=mcolors.TABLEAU_COLORS)\n",
    "plt.suptitle('Erreur en fonction du modèle')\n",
    "plt.xlabel(\"Modèle\")\n",
    "plt.ylabel(\"Erreur en %\")\n",
    "plt.show()"
   ]
  },
  {
   "cell_type": "code",
   "execution_count": null,
   "metadata": {},
   "outputs": [],
   "source": []
  }
 ],
 "metadata": {
  "kernelspec": {
   "display_name": "Python 3",
   "language": "python",
   "name": "python3"
  },
  "language_info": {
   "codemirror_mode": {
    "name": "ipython",
    "version": 3
   },
   "file_extension": ".py",
   "mimetype": "text/x-python",
   "name": "python",
   "nbconvert_exporter": "python",
   "pygments_lexer": "ipython3",
   "version": "3.8.5"
  }
 },
 "nbformat": 4,
 "nbformat_minor": 4
}
