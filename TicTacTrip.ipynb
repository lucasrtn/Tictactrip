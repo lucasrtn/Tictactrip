{
 "cells": [
  {
   "cell_type": "markdown",
   "metadata": {},
   "source": [
    "# Missions : \n",
    "\n",
    "● extraire les infos intéressantes type prix min, moyen et max, durée min/max/moyenne par trajet\n",
    "\n",
    "● différence de prix moyen et durée selon le train, le bus et le covoit selon la distance du trajet (0-200km, 201-800km, 800-2000km, 2000+km)\n",
    "\n",
    "● le plus d’infos bonus"
   ]
  },
  {
   "cell_type": "code",
   "execution_count": 589,
   "metadata": {},
   "outputs": [],
   "source": [
    "import pandas as pd\n",
    "import numpy as np\n",
    "import matplotlib.pyplot as plt\n",
    "import matplotlib.colors as mcolors\n",
    "import math\n",
    "from datetime import datetime\n",
    "from datetime import timedelta"
   ]
  },
  {
   "cell_type": "markdown",
   "metadata": {},
   "source": [
    "● ticket_data :"
   ]
  },
  {
   "cell_type": "code",
   "execution_count": 590,
   "metadata": {},
   "outputs": [
    {
     "data": {
      "text/html": [
       "<div>\n",
       "<style scoped>\n",
       "    .dataframe tbody tr th:only-of-type {\n",
       "        vertical-align: middle;\n",
       "    }\n",
       "\n",
       "    .dataframe tbody tr th {\n",
       "        vertical-align: top;\n",
       "    }\n",
       "\n",
       "    .dataframe thead th {\n",
       "        text-align: right;\n",
       "    }\n",
       "</style>\n",
       "<table border=\"1\" class=\"dataframe\">\n",
       "  <thead>\n",
       "    <tr style=\"text-align: right;\">\n",
       "      <th></th>\n",
       "      <th>id</th>\n",
       "      <th>company</th>\n",
       "      <th>o_station</th>\n",
       "      <th>d_station</th>\n",
       "      <th>departure_ts</th>\n",
       "      <th>arrival_ts</th>\n",
       "      <th>price_in_cents</th>\n",
       "      <th>search_ts</th>\n",
       "      <th>middle_stations</th>\n",
       "      <th>other_companies</th>\n",
       "      <th>o_city</th>\n",
       "      <th>d_city</th>\n",
       "    </tr>\n",
       "  </thead>\n",
       "  <tbody>\n",
       "    <tr>\n",
       "      <th>0</th>\n",
       "      <td>6795025</td>\n",
       "      <td>8385</td>\n",
       "      <td>NaN</td>\n",
       "      <td>NaN</td>\n",
       "      <td>2017-10-13 14:00:00+00</td>\n",
       "      <td>2017-10-13 20:10:00+00</td>\n",
       "      <td>4550</td>\n",
       "      <td>2017-10-01 00:13:31.327+00</td>\n",
       "      <td>NaN</td>\n",
       "      <td>NaN</td>\n",
       "      <td>611</td>\n",
       "      <td>542</td>\n",
       "    </tr>\n",
       "    <tr>\n",
       "      <th>1</th>\n",
       "      <td>6795026</td>\n",
       "      <td>9</td>\n",
       "      <td>63.0</td>\n",
       "      <td>1044.0</td>\n",
       "      <td>2017-10-13 13:05:00+00</td>\n",
       "      <td>2017-10-14 06:55:00+00</td>\n",
       "      <td>1450</td>\n",
       "      <td>2017-10-01 00:13:35.773+00</td>\n",
       "      <td>{149,418}</td>\n",
       "      <td>{13}</td>\n",
       "      <td>611</td>\n",
       "      <td>542</td>\n",
       "    </tr>\n",
       "    <tr>\n",
       "      <th>2</th>\n",
       "      <td>6795027</td>\n",
       "      <td>8377</td>\n",
       "      <td>5905.0</td>\n",
       "      <td>6495.0</td>\n",
       "      <td>2017-10-13 13:27:00+00</td>\n",
       "      <td>2017-10-14 21:24:00+00</td>\n",
       "      <td>7400</td>\n",
       "      <td>2017-10-01 00:13:40.212+00</td>\n",
       "      <td>{798,798,6794,6246}</td>\n",
       "      <td>{8377,8376}</td>\n",
       "      <td>611</td>\n",
       "      <td>542</td>\n",
       "    </tr>\n",
       "    <tr>\n",
       "      <th>3</th>\n",
       "      <td>6795028</td>\n",
       "      <td>8377</td>\n",
       "      <td>5905.0</td>\n",
       "      <td>6495.0</td>\n",
       "      <td>2017-10-13 13:27:00+00</td>\n",
       "      <td>2017-10-14 11:02:00+00</td>\n",
       "      <td>13500</td>\n",
       "      <td>2017-10-01 00:13:40.213+00</td>\n",
       "      <td>{798,798,6794,6246}</td>\n",
       "      <td>{8377,8376}</td>\n",
       "      <td>611</td>\n",
       "      <td>542</td>\n",
       "    </tr>\n",
       "    <tr>\n",
       "      <th>4</th>\n",
       "      <td>6795029</td>\n",
       "      <td>8381</td>\n",
       "      <td>5905.0</td>\n",
       "      <td>6495.0</td>\n",
       "      <td>2017-10-13 21:46:00+00</td>\n",
       "      <td>2017-10-14 19:32:00+00</td>\n",
       "      <td>7710</td>\n",
       "      <td>2017-10-01 00:13:40.213+00</td>\n",
       "      <td>{5983,5983}</td>\n",
       "      <td>{8380}</td>\n",
       "      <td>611</td>\n",
       "      <td>542</td>\n",
       "    </tr>\n",
       "  </tbody>\n",
       "</table>\n",
       "</div>"
      ],
      "text/plain": [
       "        id  company  o_station  d_station            departure_ts  \\\n",
       "0  6795025     8385        NaN        NaN  2017-10-13 14:00:00+00   \n",
       "1  6795026        9       63.0     1044.0  2017-10-13 13:05:00+00   \n",
       "2  6795027     8377     5905.0     6495.0  2017-10-13 13:27:00+00   \n",
       "3  6795028     8377     5905.0     6495.0  2017-10-13 13:27:00+00   \n",
       "4  6795029     8381     5905.0     6495.0  2017-10-13 21:46:00+00   \n",
       "\n",
       "               arrival_ts  price_in_cents                   search_ts  \\\n",
       "0  2017-10-13 20:10:00+00            4550  2017-10-01 00:13:31.327+00   \n",
       "1  2017-10-14 06:55:00+00            1450  2017-10-01 00:13:35.773+00   \n",
       "2  2017-10-14 21:24:00+00            7400  2017-10-01 00:13:40.212+00   \n",
       "3  2017-10-14 11:02:00+00           13500  2017-10-01 00:13:40.213+00   \n",
       "4  2017-10-14 19:32:00+00            7710  2017-10-01 00:13:40.213+00   \n",
       "\n",
       "       middle_stations other_companies  o_city  d_city  \n",
       "0                  NaN             NaN     611     542  \n",
       "1            {149,418}            {13}     611     542  \n",
       "2  {798,798,6794,6246}     {8377,8376}     611     542  \n",
       "3  {798,798,6794,6246}     {8377,8376}     611     542  \n",
       "4          {5983,5983}          {8380}     611     542  "
      ]
     },
     "metadata": {},
     "output_type": "display_data"
    },
    {
     "name": "stdout",
     "output_type": "stream",
     "text": [
      "(74168, 12)\n"
     ]
    }
   ],
   "source": [
    "df_ticket = pd.read_csv(\"ticket_data.csv\")\n",
    "display(df_ticket.head())\n",
    "print(df_ticket.shape) "
   ]
  },
  {
   "cell_type": "markdown",
   "metadata": {},
   "source": [
    "● cities :"
   ]
  },
  {
   "cell_type": "code",
   "execution_count": 591,
   "metadata": {},
   "outputs": [
    {
     "data": {
      "text/html": [
       "<div>\n",
       "<style scoped>\n",
       "    .dataframe tbody tr th:only-of-type {\n",
       "        vertical-align: middle;\n",
       "    }\n",
       "\n",
       "    .dataframe tbody tr th {\n",
       "        vertical-align: top;\n",
       "    }\n",
       "\n",
       "    .dataframe thead th {\n",
       "        text-align: right;\n",
       "    }\n",
       "</style>\n",
       "<table border=\"1\" class=\"dataframe\">\n",
       "  <thead>\n",
       "    <tr style=\"text-align: right;\">\n",
       "      <th></th>\n",
       "      <th>id</th>\n",
       "      <th>local_name</th>\n",
       "      <th>unique_name</th>\n",
       "      <th>latitude</th>\n",
       "      <th>longitude</th>\n",
       "      <th>population</th>\n",
       "    </tr>\n",
       "  </thead>\n",
       "  <tbody>\n",
       "    <tr>\n",
       "      <th>0</th>\n",
       "      <td>5159</td>\n",
       "      <td>Padua, Veneto, Italia</td>\n",
       "      <td>padua</td>\n",
       "      <td>45.406435</td>\n",
       "      <td>11.876761</td>\n",
       "      <td>209678.0</td>\n",
       "    </tr>\n",
       "    <tr>\n",
       "      <th>1</th>\n",
       "      <td>76</td>\n",
       "      <td>Barcelona, Cataluña, España</td>\n",
       "      <td>barcelona</td>\n",
       "      <td>41.385064</td>\n",
       "      <td>2.173404</td>\n",
       "      <td>1611822.0</td>\n",
       "    </tr>\n",
       "    <tr>\n",
       "      <th>2</th>\n",
       "      <td>81</td>\n",
       "      <td>Basel, Basel-Stadt, Schweiz</td>\n",
       "      <td>basel</td>\n",
       "      <td>47.593437</td>\n",
       "      <td>7.619812</td>\n",
       "      <td>NaN</td>\n",
       "    </tr>\n",
       "    <tr>\n",
       "      <th>3</th>\n",
       "      <td>259</td>\n",
       "      <td>Erlangen, Bayern, Deutschland</td>\n",
       "      <td>erlangen</td>\n",
       "      <td>49.589674</td>\n",
       "      <td>11.011961</td>\n",
       "      <td>105412.0</td>\n",
       "    </tr>\n",
       "    <tr>\n",
       "      <th>4</th>\n",
       "      <td>11979</td>\n",
       "      <td>Balș, Olt, România</td>\n",
       "      <td>balș</td>\n",
       "      <td>44.353354</td>\n",
       "      <td>24.095672</td>\n",
       "      <td>NaN</td>\n",
       "    </tr>\n",
       "  </tbody>\n",
       "</table>\n",
       "</div>"
      ],
      "text/plain": [
       "      id                     local_name unique_name   latitude  longitude  \\\n",
       "0   5159          Padua, Veneto, Italia       padua  45.406435  11.876761   \n",
       "1     76    Barcelona, Cataluña, España   barcelona  41.385064   2.173404   \n",
       "2     81    Basel, Basel-Stadt, Schweiz       basel  47.593437   7.619812   \n",
       "3    259  Erlangen, Bayern, Deutschland    erlangen  49.589674  11.011961   \n",
       "4  11979             Balș, Olt, România        balș  44.353354  24.095672   \n",
       "\n",
       "   population  \n",
       "0    209678.0  \n",
       "1   1611822.0  \n",
       "2         NaN  \n",
       "3    105412.0  \n",
       "4         NaN  "
      ]
     },
     "metadata": {},
     "output_type": "display_data"
    },
    {
     "name": "stdout",
     "output_type": "stream",
     "text": [
      "(8040, 6)\n"
     ]
    }
   ],
   "source": [
    "df_cities = pd.read_csv(\"cities.csv\")\n",
    "display(df_cities.head())\n",
    "print(df_cities.shape)"
   ]
  },
  {
   "cell_type": "markdown",
   "metadata": {},
   "source": [
    "● stations :"
   ]
  },
  {
   "cell_type": "code",
   "execution_count": 592,
   "metadata": {},
   "outputs": [
    {
     "data": {
      "text/html": [
       "<div>\n",
       "<style scoped>\n",
       "    .dataframe tbody tr th:only-of-type {\n",
       "        vertical-align: middle;\n",
       "    }\n",
       "\n",
       "    .dataframe tbody tr th {\n",
       "        vertical-align: top;\n",
       "    }\n",
       "\n",
       "    .dataframe thead th {\n",
       "        text-align: right;\n",
       "    }\n",
       "</style>\n",
       "<table border=\"1\" class=\"dataframe\">\n",
       "  <thead>\n",
       "    <tr style=\"text-align: right;\">\n",
       "      <th></th>\n",
       "      <th>id</th>\n",
       "      <th>unique_name</th>\n",
       "      <th>latitude</th>\n",
       "      <th>longitude</th>\n",
       "    </tr>\n",
       "  </thead>\n",
       "  <tbody>\n",
       "    <tr>\n",
       "      <th>0</th>\n",
       "      <td>1</td>\n",
       "      <td>Aalen (Stuttgarter Straße)</td>\n",
       "      <td>48.835296</td>\n",
       "      <td>10.092956</td>\n",
       "    </tr>\n",
       "    <tr>\n",
       "      <th>1</th>\n",
       "      <td>2</td>\n",
       "      <td>Aéroport Bordeaux-Mérignac</td>\n",
       "      <td>44.830226</td>\n",
       "      <td>-0.700883</td>\n",
       "    </tr>\n",
       "    <tr>\n",
       "      <th>2</th>\n",
       "      <td>3</td>\n",
       "      <td>Aéroport CDG</td>\n",
       "      <td>49.009900</td>\n",
       "      <td>2.559310</td>\n",
       "    </tr>\n",
       "    <tr>\n",
       "      <th>3</th>\n",
       "      <td>4</td>\n",
       "      <td>Aéroport de Berlin-Schönefeld</td>\n",
       "      <td>52.389446</td>\n",
       "      <td>13.520345</td>\n",
       "    </tr>\n",
       "    <tr>\n",
       "      <th>4</th>\n",
       "      <td>5</td>\n",
       "      <td>Aéroport de Dresden</td>\n",
       "      <td>51.123604</td>\n",
       "      <td>13.764737</td>\n",
       "    </tr>\n",
       "  </tbody>\n",
       "</table>\n",
       "</div>"
      ],
      "text/plain": [
       "   id                     unique_name   latitude  longitude\n",
       "0   1      Aalen (Stuttgarter Straße)  48.835296  10.092956\n",
       "1   2      Aéroport Bordeaux-Mérignac  44.830226  -0.700883\n",
       "2   3                   Aéroport CDG   49.009900   2.559310\n",
       "3   4  Aéroport de Berlin-Schönefeld   52.389446  13.520345\n",
       "4   5             Aéroport de Dresden  51.123604  13.764737"
      ]
     },
     "metadata": {},
     "output_type": "display_data"
    },
    {
     "name": "stdout",
     "output_type": "stream",
     "text": [
      "(11035, 4)\n"
     ]
    }
   ],
   "source": [
    "df_stations = pd.read_csv(\"stations.csv\")\n",
    "display(df_stations.head())\n",
    "print(df_stations.shape)"
   ]
  },
  {
   "cell_type": "markdown",
   "metadata": {},
   "source": [
    "● providers :"
   ]
  },
  {
   "cell_type": "code",
   "execution_count": 593,
   "metadata": {},
   "outputs": [
    {
     "data": {
      "text/html": [
       "<div>\n",
       "<style scoped>\n",
       "    .dataframe tbody tr th:only-of-type {\n",
       "        vertical-align: middle;\n",
       "    }\n",
       "\n",
       "    .dataframe tbody tr th {\n",
       "        vertical-align: top;\n",
       "    }\n",
       "\n",
       "    .dataframe thead th {\n",
       "        text-align: right;\n",
       "    }\n",
       "</style>\n",
       "<table border=\"1\" class=\"dataframe\">\n",
       "  <thead>\n",
       "    <tr style=\"text-align: right;\">\n",
       "      <th></th>\n",
       "      <th>id</th>\n",
       "      <th>company_id</th>\n",
       "      <th>provider_id</th>\n",
       "      <th>name</th>\n",
       "      <th>fullname</th>\n",
       "      <th>has_wifi</th>\n",
       "      <th>has_plug</th>\n",
       "      <th>has_adjustable_seats</th>\n",
       "      <th>has_bicycle</th>\n",
       "      <th>transport_type</th>\n",
       "    </tr>\n",
       "  </thead>\n",
       "  <tbody>\n",
       "    <tr>\n",
       "      <th>0</th>\n",
       "      <td>9</td>\n",
       "      <td>1</td>\n",
       "      <td>NaN</td>\n",
       "      <td>ouibus</td>\n",
       "      <td>Ouibus</td>\n",
       "      <td>True</td>\n",
       "      <td>True</td>\n",
       "      <td>True</td>\n",
       "      <td>False</td>\n",
       "      <td>bus</td>\n",
       "    </tr>\n",
       "    <tr>\n",
       "      <th>1</th>\n",
       "      <td>10</td>\n",
       "      <td>2</td>\n",
       "      <td>NaN</td>\n",
       "      <td>deinbus</td>\n",
       "      <td>Deinbus.de</td>\n",
       "      <td>False</td>\n",
       "      <td>False</td>\n",
       "      <td>False</td>\n",
       "      <td>False</td>\n",
       "      <td>bus</td>\n",
       "    </tr>\n",
       "    <tr>\n",
       "      <th>2</th>\n",
       "      <td>11</td>\n",
       "      <td>3</td>\n",
       "      <td>NaN</td>\n",
       "      <td>infobus</td>\n",
       "      <td>Infobus</td>\n",
       "      <td>False</td>\n",
       "      <td>False</td>\n",
       "      <td>False</td>\n",
       "      <td>False</td>\n",
       "      <td>bus</td>\n",
       "    </tr>\n",
       "    <tr>\n",
       "      <th>3</th>\n",
       "      <td>12</td>\n",
       "      <td>4</td>\n",
       "      <td>NaN</td>\n",
       "      <td>studentAgency</td>\n",
       "      <td>Student Agency</td>\n",
       "      <td>False</td>\n",
       "      <td>False</td>\n",
       "      <td>False</td>\n",
       "      <td>False</td>\n",
       "      <td>bus</td>\n",
       "    </tr>\n",
       "    <tr>\n",
       "      <th>4</th>\n",
       "      <td>13</td>\n",
       "      <td>5</td>\n",
       "      <td>NaN</td>\n",
       "      <td>flixbus</td>\n",
       "      <td>Flixbus</td>\n",
       "      <td>True</td>\n",
       "      <td>False</td>\n",
       "      <td>False</td>\n",
       "      <td>False</td>\n",
       "      <td>bus</td>\n",
       "    </tr>\n",
       "  </tbody>\n",
       "</table>\n",
       "</div>"
      ],
      "text/plain": [
       "   id  company_id provider_id           name        fullname has_wifi  \\\n",
       "0   9           1         NaN         ouibus          Ouibus     True   \n",
       "1  10           2         NaN        deinbus      Deinbus.de    False   \n",
       "2  11           3         NaN        infobus         Infobus    False   \n",
       "3  12           4         NaN  studentAgency  Student Agency    False   \n",
       "4  13           5         NaN        flixbus         Flixbus     True   \n",
       "\n",
       "  has_plug has_adjustable_seats has_bicycle transport_type  \n",
       "0     True                 True       False            bus  \n",
       "1    False                False       False            bus  \n",
       "2    False                False       False            bus  \n",
       "3    False                False       False            bus  \n",
       "4    False                False       False            bus  "
      ]
     },
     "metadata": {},
     "output_type": "display_data"
    },
    {
     "name": "stdout",
     "output_type": "stream",
     "text": [
      "(227, 10)\n"
     ]
    }
   ],
   "source": [
    "df_providers = pd.read_csv(\"providers.csv\")\n",
    "display(df_providers.head())\n",
    "print(df_providers.shape)"
   ]
  },
  {
   "cell_type": "markdown",
   "metadata": {},
   "source": [
    "● Infos sur le prix des tickets :"
   ]
  },
  {
   "cell_type": "code",
   "execution_count": 594,
   "metadata": {},
   "outputs": [
    {
     "name": "stdout",
     "output_type": "stream",
     "text": [
      "- Le prix moyen d'un ticket est 4382.711061374178 centimes.\n",
      "- Le prix du ticket le moins cher est 300 centimes.\n",
      "- Le prix du ticket le plus cher est 38550 centimes.\n"
     ]
    }
   ],
   "source": [
    "print(\"- Le prix moyen d'un ticket est\", df_ticket['price_in_cents'].mean(), \"centimes.\")\n",
    "print(\"- Le prix du ticket le moins cher est\", df_ticket['price_in_cents'].min(), \"centimes.\")\n",
    "print(\"- Le prix du ticket le plus cher est\", df_ticket['price_in_cents'].max(), \"centimes.\")"
   ]
  },
  {
   "cell_type": "markdown",
   "metadata": {},
   "source": [
    "● Infos sur la durée des trajets : (ajout d'une colonne 'duration' en timestamp)"
   ]
  },
  {
   "cell_type": "code",
   "execution_count": 595,
   "metadata": {},
   "outputs": [],
   "source": [
    "##Conversion des valeurs 'departure_ts' et 'arrival_ts' en timestamp (en seconde).\n",
    "departure_ts = pd.to_datetime(df_ticket['departure_ts'].values).values.astype(np.int64) // 10 ** 9\n",
    "arrival_ts = pd.to_datetime(df_ticket['arrival_ts'].values).values.astype(np.int64) // 10 ** 9\n",
    "\n",
    "##Calcul du temps de trajet\n",
    "df_ticket['duration'] = arrival_ts - departure_ts"
   ]
  },
  {
   "cell_type": "code",
   "execution_count": 596,
   "metadata": {},
   "outputs": [
    {
     "name": "stdout",
     "output_type": "stream",
     "text": [
      "- La duée moyenne d'un trajet est 25477.247600043145\n",
      "- La durée du trajet le plus court est 1200\n",
      "- La durée du trajet le plus long est 1774260\n"
     ]
    }
   ],
   "source": [
    "print(\"- La duée moyenne d'un trajet est\", df_ticket['duration'].mean())\n",
    "print(\"- La durée du trajet le plus court est\", df_ticket['duration'].min())\n",
    "print(\"- La durée du trajet le plus long est\", df_ticket['duration'].max())"
   ]
  },
  {
   "cell_type": "markdown",
   "metadata": {},
   "source": [
    "On va convertir ces données pour qu'elles soient plus parlantes !!! :D"
   ]
  },
  {
   "cell_type": "code",
   "execution_count": 597,
   "metadata": {},
   "outputs": [],
   "source": [
    "def convert(ts) :\n",
    "    return datetime.strftime(pd.Timestamp(round(ts), unit='s'), \"%H:%M:%S\")"
   ]
  },
  {
   "cell_type": "code",
   "execution_count": 598,
   "metadata": {},
   "outputs": [
    {
     "name": "stdout",
     "output_type": "stream",
     "text": [
      "- La duée moyenne d'un trajet est de 07:04:37\n",
      "- La durée du trajet le plus court est de 00:20:00\n",
      "- La durée du trajet le plus long est de 12:51:00\n"
     ]
    }
   ],
   "source": [
    "print(\"- La duée moyenne d'un trajet est de\", convert(df_ticket['duration'].mean()))\n",
    "print(\"- La durée du trajet le plus court est de\", convert(df_ticket['duration'].min()))\n",
    "print(\"- La durée du trajet le plus long est de\", convert(df_ticket['duration'].max()))"
   ]
  },
  {
   "cell_type": "markdown",
   "metadata": {},
   "source": [
    "● Prix moyen en fonction de la distance (0-200km, 201-800km, 800-2000km, 2000+km) :"
   ]
  },
  {
   "cell_type": "code",
   "execution_count": 599,
   "metadata": {},
   "outputs": [],
   "source": [
    "\n",
    "def distance(L2, L1, l2, l1) :\n",
    "\n",
    "    Earth_radius = 6373.0\n",
    "    dlon = math.radians(L2) - math.radians(L1)\n",
    "    dlat = math.radians(l2) - math.radians(l1)\n",
    "    a = math.sin(dlat / 2)**2 + math.cos(math.radians(l1)) * math.cos(math.radians(l2)) * math.sin(dlon / 2)**2\n",
    "    c = 2 * math.atan2(math.sqrt(a), math.sqrt(1 - a))\n",
    "    distance = Earth_radius * c\n",
    "    return distance"
   ]
  },
  {
   "cell_type": "code",
   "execution_count": 600,
   "metadata": {},
   "outputs": [
    {
     "data": {
      "text/html": [
       "<div>\n",
       "<style scoped>\n",
       "    .dataframe tbody tr th:only-of-type {\n",
       "        vertical-align: middle;\n",
       "    }\n",
       "\n",
       "    .dataframe tbody tr th {\n",
       "        vertical-align: top;\n",
       "    }\n",
       "\n",
       "    .dataframe thead th {\n",
       "        text-align: right;\n",
       "    }\n",
       "</style>\n",
       "<table border=\"1\" class=\"dataframe\">\n",
       "  <thead>\n",
       "    <tr style=\"text-align: right;\">\n",
       "      <th></th>\n",
       "      <th>ticket_id</th>\n",
       "      <th>distance</th>\n",
       "      <th>prix</th>\n",
       "    </tr>\n",
       "  </thead>\n",
       "  <tbody>\n",
       "    <tr>\n",
       "      <th>0</th>\n",
       "      <td>6795025.0</td>\n",
       "      <td>503.355132</td>\n",
       "      <td>4550.0</td>\n",
       "    </tr>\n",
       "    <tr>\n",
       "      <th>1</th>\n",
       "      <td>6795026.0</td>\n",
       "      <td>504.323602</td>\n",
       "      <td>1450.0</td>\n",
       "    </tr>\n",
       "    <tr>\n",
       "      <th>2</th>\n",
       "      <td>6795027.0</td>\n",
       "      <td>504.476769</td>\n",
       "      <td>7400.0</td>\n",
       "    </tr>\n",
       "    <tr>\n",
       "      <th>3</th>\n",
       "      <td>6795028.0</td>\n",
       "      <td>504.476769</td>\n",
       "      <td>13500.0</td>\n",
       "    </tr>\n",
       "    <tr>\n",
       "      <th>4</th>\n",
       "      <td>6795029.0</td>\n",
       "      <td>504.476769</td>\n",
       "      <td>7710.0</td>\n",
       "    </tr>\n",
       "    <tr>\n",
       "      <th>...</th>\n",
       "      <td>...</td>\n",
       "      <td>...</td>\n",
       "      <td>...</td>\n",
       "    </tr>\n",
       "    <tr>\n",
       "      <th>74163</th>\n",
       "      <td>6869182.0</td>\n",
       "      <td>343.930583</td>\n",
       "      <td>2590.0</td>\n",
       "    </tr>\n",
       "    <tr>\n",
       "      <th>74164</th>\n",
       "      <td>6869185.0</td>\n",
       "      <td>339.816308</td>\n",
       "      <td>2700.0</td>\n",
       "    </tr>\n",
       "    <tr>\n",
       "      <th>74165</th>\n",
       "      <td>6869187.0</td>\n",
       "      <td>343.367123</td>\n",
       "      <td>3000.0</td>\n",
       "    </tr>\n",
       "    <tr>\n",
       "      <th>74166</th>\n",
       "      <td>6869189.0</td>\n",
       "      <td>339.816308</td>\n",
       "      <td>2880.0</td>\n",
       "    </tr>\n",
       "    <tr>\n",
       "      <th>74167</th>\n",
       "      <td>6869191.0</td>\n",
       "      <td>347.490046</td>\n",
       "      <td>2000.0</td>\n",
       "    </tr>\n",
       "  </tbody>\n",
       "</table>\n",
       "<p>74168 rows × 3 columns</p>\n",
       "</div>"
      ],
      "text/plain": [
       "       ticket_id    distance     prix\n",
       "0      6795025.0  503.355132   4550.0\n",
       "1      6795026.0  504.323602   1450.0\n",
       "2      6795027.0  504.476769   7400.0\n",
       "3      6795028.0  504.476769  13500.0\n",
       "4      6795029.0  504.476769   7710.0\n",
       "...          ...         ...      ...\n",
       "74163  6869182.0  343.930583   2590.0\n",
       "74164  6869185.0  339.816308   2700.0\n",
       "74165  6869187.0  343.367123   3000.0\n",
       "74166  6869189.0  339.816308   2880.0\n",
       "74167  6869191.0  347.490046   2000.0\n",
       "\n",
       "[74168 rows x 3 columns]"
      ]
     },
     "execution_count": 600,
     "metadata": {},
     "output_type": "execute_result"
    }
   ],
   "source": [
    "df = pd.DataFrame(columns=['ticket_id','distance','prix'])\n",
    "\n",
    "for row in df_ticket.iloc() :\n",
    "    if (pd.notna(row['o_station']) & pd.notna(row['d_station'])) :\n",
    "        \n",
    "        origin = df_stations.loc[df_stations['id'] == int(row['o_station'])]\n",
    "        destination = df_stations.loc[df_stations['id'] == int(row['d_station'])]\n",
    "        \n",
    "        l1 = origin['latitude'].item()\n",
    "        L1 = origin['longitude'].item()\n",
    "        l2 = destination['latitude'].item()\n",
    "        L2 = destination['longitude'].item()\n",
    "        \n",
    "        df = df.append({'ticket_id':row['id'].item(), \n",
    "                        'distance': distance(L2,L1,l2,l1), # calcul de la distance stations\n",
    "                        'prix':row['price_in_cents'].item()}, ignore_index=True)\n",
    "        \n",
    "    else :\n",
    "        origin = df_cities.loc[df_cities['id'] == int(row['o_city'])]\n",
    "        destination = df_cities.loc[df_cities['id'] == int(row['d_city'])]\n",
    "        \n",
    "        l1 = origin['latitude'].item()\n",
    "        L1 = origin['longitude'].item()\n",
    "        l2 = destination['latitude'].item()\n",
    "        L2 = destination['longitude'].item()\n",
    "        \n",
    "        df = df.append({'ticket_id':row['id'].item(), \n",
    "                        'distance': distance(L2,L1,l2,l1), # calcul de la distance villes\n",
    "                        'prix':row['price_in_cents'].item()}, ignore_index=True)\n",
    "        \n",
    "df"
   ]
  },
  {
   "cell_type": "code",
   "execution_count": 601,
   "metadata": {},
   "outputs": [
    {
     "data": {
      "image/png": "[encoded data removed]",
      "text/plain": [
       "<Figure size 432x288 with 1 Axes>"
      ]
     },
     "metadata": {
      "needs_background": "light"
     },
     "output_type": "display_data"
    }
   ],
   "source": [
    "plt.scatter(df['distance'], df['prix'])\n",
    "plt.xlabel(\"Distance\")\n",
    "plt.ylabel(\"Prix\")\n",
    "plt.title(\"Prix en fonction de la distance du trajet\")\n",
    "plt.show()"
   ]
  },
  {
   "cell_type": "code",
   "execution_count": 602,
   "metadata": {},
   "outputs": [
    {
     "name": "stdout",
     "output_type": "stream",
     "text": [
      "Moyenne : 362.43138596136305\n",
      "Max : 1866.0543145261702\n",
      "Min : 16.575676697945084\n",
      "  (en mètres)\n"
     ]
    }
   ],
   "source": [
    "print(\"Moyenne :\", df['distance'].mean())\n",
    "print(\"Max :\", df['distance'].max())\n",
    "print(\"Min :\", df['distance'].min())\n",
    "print(\"  (en mètres)\")"
   ]
  },
  {
   "cell_type": "code",
   "execution_count": 603,
   "metadata": {},
   "outputs": [
    {
     "data": {
      "text/html": [
       "<div>\n",
       "<style scoped>\n",
       "    .dataframe tbody tr th:only-of-type {\n",
       "        vertical-align: middle;\n",
       "    }\n",
       "\n",
       "    .dataframe tbody tr th {\n",
       "        vertical-align: top;\n",
       "    }\n",
       "\n",
       "    .dataframe thead th {\n",
       "        text-align: right;\n",
       "    }\n",
       "</style>\n",
       "<table border=\"1\" class=\"dataframe\">\n",
       "  <thead>\n",
       "    <tr style=\"text-align: right;\">\n",
       "      <th></th>\n",
       "      <th>ticket_id</th>\n",
       "      <th>distance</th>\n",
       "      <th>prix</th>\n",
       "      <th>cat_distance</th>\n",
       "    </tr>\n",
       "  </thead>\n",
       "  <tbody>\n",
       "    <tr>\n",
       "      <th>0</th>\n",
       "      <td>6795025.0</td>\n",
       "      <td>503.355132</td>\n",
       "      <td>4550.0</td>\n",
       "      <td>200 - 800 km</td>\n",
       "    </tr>\n",
       "    <tr>\n",
       "      <th>1</th>\n",
       "      <td>6795026.0</td>\n",
       "      <td>504.323602</td>\n",
       "      <td>1450.0</td>\n",
       "      <td>200 - 800 km</td>\n",
       "    </tr>\n",
       "    <tr>\n",
       "      <th>2</th>\n",
       "      <td>6795027.0</td>\n",
       "      <td>504.476769</td>\n",
       "      <td>7400.0</td>\n",
       "      <td>200 - 800 km</td>\n",
       "    </tr>\n",
       "    <tr>\n",
       "      <th>3</th>\n",
       "      <td>6795028.0</td>\n",
       "      <td>504.476769</td>\n",
       "      <td>13500.0</td>\n",
       "      <td>200 - 800 km</td>\n",
       "    </tr>\n",
       "    <tr>\n",
       "      <th>4</th>\n",
       "      <td>6795029.0</td>\n",
       "      <td>504.476769</td>\n",
       "      <td>7710.0</td>\n",
       "      <td>200 - 800 km</td>\n",
       "    </tr>\n",
       "    <tr>\n",
       "      <th>...</th>\n",
       "      <td>...</td>\n",
       "      <td>...</td>\n",
       "      <td>...</td>\n",
       "      <td>...</td>\n",
       "    </tr>\n",
       "    <tr>\n",
       "      <th>74163</th>\n",
       "      <td>6869182.0</td>\n",
       "      <td>343.930583</td>\n",
       "      <td>2590.0</td>\n",
       "      <td>200 - 800 km</td>\n",
       "    </tr>\n",
       "    <tr>\n",
       "      <th>74164</th>\n",
       "      <td>6869185.0</td>\n",
       "      <td>339.816308</td>\n",
       "      <td>2700.0</td>\n",
       "      <td>200 - 800 km</td>\n",
       "    </tr>\n",
       "    <tr>\n",
       "      <th>74165</th>\n",
       "      <td>6869187.0</td>\n",
       "      <td>343.367123</td>\n",
       "      <td>3000.0</td>\n",
       "      <td>200 - 800 km</td>\n",
       "    </tr>\n",
       "    <tr>\n",
       "      <th>74166</th>\n",
       "      <td>6869189.0</td>\n",
       "      <td>339.816308</td>\n",
       "      <td>2880.0</td>\n",
       "      <td>200 - 800 km</td>\n",
       "    </tr>\n",
       "    <tr>\n",
       "      <th>74167</th>\n",
       "      <td>6869191.0</td>\n",
       "      <td>347.490046</td>\n",
       "      <td>2000.0</td>\n",
       "      <td>200 - 800 km</td>\n",
       "    </tr>\n",
       "  </tbody>\n",
       "</table>\n",
       "<p>74168 rows × 4 columns</p>\n",
       "</div>"
      ],
      "text/plain": [
       "       ticket_id    distance     prix  cat_distance\n",
       "0      6795025.0  503.355132   4550.0  200 - 800 km\n",
       "1      6795026.0  504.323602   1450.0  200 - 800 km\n",
       "2      6795027.0  504.476769   7400.0  200 - 800 km\n",
       "3      6795028.0  504.476769  13500.0  200 - 800 km\n",
       "4      6795029.0  504.476769   7710.0  200 - 800 km\n",
       "...          ...         ...      ...           ...\n",
       "74163  6869182.0  343.930583   2590.0  200 - 800 km\n",
       "74164  6869185.0  339.816308   2700.0  200 - 800 km\n",
       "74165  6869187.0  343.367123   3000.0  200 - 800 km\n",
       "74166  6869189.0  339.816308   2880.0  200 - 800 km\n",
       "74167  6869191.0  347.490046   2000.0  200 - 800 km\n",
       "\n",
       "[74168 rows x 4 columns]"
      ]
     },
     "execution_count": 603,
     "metadata": {},
     "output_type": "execute_result"
    }
   ],
   "source": [
    "c_names = ['0 - 200 km','200 - 800 km','800 - 2000 km','+ 2000 km']\n",
    "bornes = [0, 200, 800, 2000]\n",
    "value = []\n",
    "\n",
    "for row in df.iloc() :\n",
    "    for i in range(0,len(bornes)) :\n",
    "        if i == (len(bornes)-1) :\n",
    "            if bornes[i] <= row['distance'] :\n",
    "                value.append(c_names[i])\n",
    "        else :\n",
    "            if ((bornes[i] <= row['distance']) & (row['distance'] < bornes[i+1])) :\n",
    "                value.append(c_names[i])\n",
    "                    \n",
    "df['cat_distance'] = value\n",
    "df"
   ]
  },
  {
   "cell_type": "code",
   "execution_count": 604,
   "metadata": {},
   "outputs": [
    {
     "name": "stdout",
     "output_type": "stream",
     "text": [
      "0 - 200 km : 1731.7044639718804\n",
      "200 - 800 km : 4908.272443858236\n",
      "800 - 2000 km : 8876.842071611252\n",
      "+ 2000 km : nan\n"
     ]
    }
   ],
   "source": [
    "for cat in c_names:\n",
    "    print(cat, \":\", df['prix'].loc[df['cat_distance'] == cat].mean())"
   ]
  },
  {
   "cell_type": "markdown",
   "metadata": {},
   "source": [
    "● Graphiques :"
   ]
  },
  {
   "cell_type": "code",
   "execution_count": 605,
   "metadata": {},
   "outputs": [
    {
     "data": {
      "text/plain": [
       "[1731.7044639718804, 4908.272443858236, 8876.842071611252, nan]"
      ]
     },
     "execution_count": 605,
     "metadata": {},
     "output_type": "execute_result"
    }
   ],
   "source": [
    "values = []\n",
    "for cat in c_names :\n",
    "    values.append(df['prix'].loc[df['cat_distance'] == cat].mean())\n",
    "values"
   ]
  },
  {
   "cell_type": "code",
   "execution_count": 606,
   "metadata": {},
   "outputs": [
    {
     "data": {
      "image/png": "[encoded data removed]",
      "text/plain": [
       "<Figure size 720x360 with 1 Axes>"
      ]
     },
     "metadata": {
      "needs_background": "light"
     },
     "output_type": "display_data"
    },
    {
     "data": {
      "image/png": "[encoded data removed]",
      "text/plain": [
       "<Figure size 720x360 with 1 Axes>"
      ]
     },
     "metadata": {
      "needs_background": "light"
     },
     "output_type": "display_data"
    }
   ],
   "source": [
    "plt.figure(figsize=(10, 5))\n",
    "plt.bar(c_names,values, color=mcolors.TABLEAU_COLORS)\n",
    "plt.suptitle('Prix moyen en fonction de la distance (1)')\n",
    "plt.xlabel(\"Distance\")\n",
    "plt.ylabel(\"Prix\")\n",
    "plt.show()\n",
    "\n",
    "plt.figure(figsize=(10, 5))\n",
    "plt.plot(c_names,values)\n",
    "plt.suptitle('Prix moyen en fonction de la distance (2)')\n",
    "plt.xlabel(\"Distance\")\n",
    "plt.ylabel(\"Prix\")\n",
    "plt.show()"
   ]
  },
  {
   "cell_type": "markdown",
   "metadata": {},
   "source": [
    "● Prix moyen en fonction du moyen de transport :"
   ]
  },
  {
   "cell_type": "code",
   "execution_count": 607,
   "metadata": {},
   "outputs": [
    {
     "data": {
      "text/html": [
       "<div>\n",
       "<style scoped>\n",
       "    .dataframe tbody tr th:only-of-type {\n",
       "        vertical-align: middle;\n",
       "    }\n",
       "\n",
       "    .dataframe tbody tr th {\n",
       "        vertical-align: top;\n",
       "    }\n",
       "\n",
       "    .dataframe thead th {\n",
       "        text-align: right;\n",
       "    }\n",
       "</style>\n",
       "<table border=\"1\" class=\"dataframe\">\n",
       "  <thead>\n",
       "    <tr style=\"text-align: right;\">\n",
       "      <th></th>\n",
       "      <th>ticket_id</th>\n",
       "      <th>distance</th>\n",
       "      <th>prix</th>\n",
       "      <th>cat_distance</th>\n",
       "      <th>transport</th>\n",
       "    </tr>\n",
       "  </thead>\n",
       "  <tbody>\n",
       "    <tr>\n",
       "      <th>0</th>\n",
       "      <td>6795025.0</td>\n",
       "      <td>503.355132</td>\n",
       "      <td>4550.0</td>\n",
       "      <td>200 - 800 km</td>\n",
       "      <td>carpooling</td>\n",
       "    </tr>\n",
       "    <tr>\n",
       "      <th>1</th>\n",
       "      <td>6795026.0</td>\n",
       "      <td>504.323602</td>\n",
       "      <td>1450.0</td>\n",
       "      <td>200 - 800 km</td>\n",
       "      <td>bus</td>\n",
       "    </tr>\n",
       "    <tr>\n",
       "      <th>2</th>\n",
       "      <td>6795027.0</td>\n",
       "      <td>504.476769</td>\n",
       "      <td>7400.0</td>\n",
       "      <td>200 - 800 km</td>\n",
       "      <td>train</td>\n",
       "    </tr>\n",
       "    <tr>\n",
       "      <th>3</th>\n",
       "      <td>6795028.0</td>\n",
       "      <td>504.476769</td>\n",
       "      <td>13500.0</td>\n",
       "      <td>200 - 800 km</td>\n",
       "      <td>train</td>\n",
       "    </tr>\n",
       "    <tr>\n",
       "      <th>4</th>\n",
       "      <td>6795029.0</td>\n",
       "      <td>504.476769</td>\n",
       "      <td>7710.0</td>\n",
       "      <td>200 - 800 km</td>\n",
       "      <td>train</td>\n",
       "    </tr>\n",
       "    <tr>\n",
       "      <th>...</th>\n",
       "      <td>...</td>\n",
       "      <td>...</td>\n",
       "      <td>...</td>\n",
       "      <td>...</td>\n",
       "      <td>...</td>\n",
       "    </tr>\n",
       "    <tr>\n",
       "      <th>74163</th>\n",
       "      <td>6869182.0</td>\n",
       "      <td>343.930583</td>\n",
       "      <td>2590.0</td>\n",
       "      <td>200 - 800 km</td>\n",
       "      <td>bus</td>\n",
       "    </tr>\n",
       "    <tr>\n",
       "      <th>74164</th>\n",
       "      <td>6869185.0</td>\n",
       "      <td>339.816308</td>\n",
       "      <td>2700.0</td>\n",
       "      <td>200 - 800 km</td>\n",
       "      <td>bus</td>\n",
       "    </tr>\n",
       "    <tr>\n",
       "      <th>74165</th>\n",
       "      <td>6869187.0</td>\n",
       "      <td>343.367123</td>\n",
       "      <td>3000.0</td>\n",
       "      <td>200 - 800 km</td>\n",
       "      <td>bus</td>\n",
       "    </tr>\n",
       "    <tr>\n",
       "      <th>74166</th>\n",
       "      <td>6869189.0</td>\n",
       "      <td>339.816308</td>\n",
       "      <td>2880.0</td>\n",
       "      <td>200 - 800 km</td>\n",
       "      <td>bus</td>\n",
       "    </tr>\n",
       "    <tr>\n",
       "      <th>74167</th>\n",
       "      <td>6869191.0</td>\n",
       "      <td>347.490046</td>\n",
       "      <td>2000.0</td>\n",
       "      <td>200 - 800 km</td>\n",
       "      <td>bus</td>\n",
       "    </tr>\n",
       "  </tbody>\n",
       "</table>\n",
       "<p>74168 rows × 5 columns</p>\n",
       "</div>"
      ],
      "text/plain": [
       "       ticket_id    distance     prix  cat_distance   transport\n",
       "0      6795025.0  503.355132   4550.0  200 - 800 km  carpooling\n",
       "1      6795026.0  504.323602   1450.0  200 - 800 km         bus\n",
       "2      6795027.0  504.476769   7400.0  200 - 800 km       train\n",
       "3      6795028.0  504.476769  13500.0  200 - 800 km       train\n",
       "4      6795029.0  504.476769   7710.0  200 - 800 km       train\n",
       "...          ...         ...      ...           ...         ...\n",
       "74163  6869182.0  343.930583   2590.0  200 - 800 km         bus\n",
       "74164  6869185.0  339.816308   2700.0  200 - 800 km         bus\n",
       "74165  6869187.0  343.367123   3000.0  200 - 800 km         bus\n",
       "74166  6869189.0  339.816308   2880.0  200 - 800 km         bus\n",
       "74167  6869191.0  347.490046   2000.0  200 - 800 km         bus\n",
       "\n",
       "[74168 rows x 5 columns]"
      ]
     },
     "execution_count": 607,
     "metadata": {},
     "output_type": "execute_result"
    }
   ],
   "source": [
    "values = []\n",
    "for row in df_ticket.iloc() :\n",
    "    if pd.notna(row['company']) :\n",
    "        values.append(df_providers['transport_type'].loc[df_providers['id'] == int(row['company'])].item())\n",
    "        \n",
    "df['transport']=values\n",
    "df"
   ]
  },
  {
   "cell_type": "code",
   "execution_count": 608,
   "metadata": {},
   "outputs": [
    {
     "name": "stdout",
     "output_type": "stream",
     "text": [
      "['carpooling' 'bus' 'train'] [2742.171907048575, 3652.4480359472386, 8506.634793174495]\n"
     ]
    }
   ],
   "source": [
    "t_names = df['transport'].unique()\n",
    "values = []\n",
    "for name in t_names :\n",
    "    values.append(df[df['transport'] == name]['prix'].mean())\n",
    "                  \n",
    "print(t_names,values)"
   ]
  },
  {
   "cell_type": "markdown",
   "metadata": {},
   "source": [
    "● Graphiques :"
   ]
  },
  {
   "cell_type": "code",
   "execution_count": 609,
   "metadata": {},
   "outputs": [
    {
     "data": {
      "image/png": "[encoded data removed]",
      "text/plain": [
       "<Figure size 720x360 with 1 Axes>"
      ]
     },
     "metadata": {
      "needs_background": "light"
     },
     "output_type": "display_data"
    },
    {
     "data": {
      "image/png": "[encoded data removed]",
      "text/plain": [
       "<Figure size 720x360 with 1 Axes>"
      ]
     },
     "metadata": {
      "needs_background": "light"
     },
     "output_type": "display_data"
    }
   ],
   "source": [
    "plt.figure(figsize=(10, 5))\n",
    "plt.bar(t_names, values, color=mcolors.TABLEAU_COLORS)\n",
    "plt.xlabel(\"Moyen de transport\")\n",
    "plt.ylabel(\"Prix\")\n",
    "plt.title('Prix moyen en fonction du moyen de transport (1)')\n",
    "plt.show()\n",
    "\n",
    "plt.figure(figsize=(10, 5))\n",
    "plt.plot(t_names, values)\n",
    "plt.xlabel(\"Moyen de transport\")\n",
    "plt.ylabel(\"Prix\")\n",
    "plt.title('Prix moyen en fonction du moyen de transport (2)')\n",
    "plt.show()"
   ]
  },
  {
   "cell_type": "markdown",
   "metadata": {},
   "source": [
    "● Prix moyen en fonction de la distance et du moyen de transport :"
   ]
  },
  {
   "cell_type": "code",
   "execution_count": 610,
   "metadata": {},
   "outputs": [
    {
     "data": {
      "text/plain": [
       "[[1177.352384745594, 3218.064309710446, 8626.545454545454, 0],\n",
       " [2109.5645805592544, 3533.6603824160115, 6955.783514492754, 0],\n",
       " [3597.305970149254, 9189.725709264374, 15680.1261829653, 0]]"
      ]
     },
     "execution_count": 610,
     "metadata": {},
     "output_type": "execute_result"
    }
   ],
   "source": [
    "data = []\n",
    "\n",
    "for i in range (0,len(t_names)) :\n",
    "    values = []\n",
    "    for j in range (0,len(c_names)) :\n",
    "        value = df[(df['transport'] == t_names[i]) & (df['cat_distance'] == c_names[j])]['prix'].mean()\n",
    "        if value>0 :\n",
    "            values.append(value)\n",
    "        else :\n",
    "            values.append(0)\n",
    "    data.append(values)\n",
    "data"
   ]
  },
  {
   "cell_type": "code",
   "execution_count": 611,
   "metadata": {},
   "outputs": [
    {
     "data": {
      "text/html": [
       "<div>\n",
       "<style scoped>\n",
       "    .dataframe tbody tr th:only-of-type {\n",
       "        vertical-align: middle;\n",
       "    }\n",
       "\n",
       "    .dataframe tbody tr th {\n",
       "        vertical-align: top;\n",
       "    }\n",
       "\n",
       "    .dataframe thead th {\n",
       "        text-align: right;\n",
       "    }\n",
       "</style>\n",
       "<table border=\"1\" class=\"dataframe\">\n",
       "  <thead>\n",
       "    <tr style=\"text-align: right;\">\n",
       "      <th></th>\n",
       "      <th>carpooling</th>\n",
       "      <th>bus</th>\n",
       "      <th>train</th>\n",
       "    </tr>\n",
       "  </thead>\n",
       "  <tbody>\n",
       "    <tr>\n",
       "      <th>0 - 200 km</th>\n",
       "      <td>1177.352385</td>\n",
       "      <td>2109.564581</td>\n",
       "      <td>3597.305970</td>\n",
       "    </tr>\n",
       "    <tr>\n",
       "      <th>200 - 800 km</th>\n",
       "      <td>3218.064310</td>\n",
       "      <td>3533.660382</td>\n",
       "      <td>9189.725709</td>\n",
       "    </tr>\n",
       "    <tr>\n",
       "      <th>800 - 2000 km</th>\n",
       "      <td>8626.545455</td>\n",
       "      <td>6955.783514</td>\n",
       "      <td>15680.126183</td>\n",
       "    </tr>\n",
       "    <tr>\n",
       "      <th>+ 2000 km</th>\n",
       "      <td>0.000000</td>\n",
       "      <td>0.000000</td>\n",
       "      <td>0.000000</td>\n",
       "    </tr>\n",
       "  </tbody>\n",
       "</table>\n",
       "</div>"
      ],
      "text/plain": [
       "                carpooling          bus         train\n",
       "0 - 200 km     1177.352385  2109.564581   3597.305970\n",
       "200 - 800 km   3218.064310  3533.660382   9189.725709\n",
       "800 - 2000 km  8626.545455  6955.783514  15680.126183\n",
       "+ 2000 km         0.000000     0.000000      0.000000"
      ]
     },
     "metadata": {},
     "output_type": "display_data"
    }
   ],
   "source": [
    "plotdata = pd.DataFrame(index=c_names)\n",
    "for col in range (0,len(t_names)) :\n",
    "    plotdata[t_names[col]] = data[col]\n",
    "display(plotdata)"
   ]
  },
  {
   "cell_type": "code",
   "execution_count": 612,
   "metadata": {},
   "outputs": [
    {
     "data": {
      "image/png": "[encoded data removed]",
      "text/plain": [
       "<Figure size 432x288 with 1 Axes>"
      ]
     },
     "metadata": {
      "needs_background": "light"
     },
     "output_type": "display_data"
    },
    {
     "data": {
      "image/png": "[encoded data removed]",
      "text/plain": [
       "<Figure size 432x288 with 1 Axes>"
      ]
     },
     "metadata": {},
     "output_type": "display_data"
    },
    {
     "data": {
      "image/png": "[encoded data removed]",
      "text/plain": [
       "<Figure size 432x288 with 1 Axes>"
      ]
     },
     "metadata": {},
     "output_type": "display_data"
    },
    {
     "data": {
      "image/png": "[encoded data removed]",
      "text/plain": [
       "<Figure size 432x288 with 1 Axes>"
      ]
     },
     "metadata": {},
     "output_type": "display_data"
    }
   ],
   "source": [
    "plotdata.plot(kind=\"bar\")\n",
    "plt.title(\"Prix moyen en fonction de la distance et du moyen de transport\")\n",
    "plt.xlabel(\"Distance\")\n",
    "plt.ylabel(\"Prix\")\n",
    "plt.show()\n",
    "\n",
    "i=0\n",
    "for row in plotdata.iloc() :\n",
    "    if sum(row.values) > 0 :\n",
    "        plt.title(\"Répartition du prix du trajet pour chaque moyen de transport pour un trajet de \" + c_names[i])\n",
    "        plt.pie(row, labels=t_names, autopct='%1.1i%%', shadow=True)\n",
    "        plt.axis('equal')\n",
    "        plt.show()\n",
    "        i += 1"
   ]
  },
  {
   "cell_type": "markdown",
   "metadata": {},
   "source": [
    "● Transport le plus utilisé :"
   ]
  },
  {
   "cell_type": "code",
   "execution_count": 613,
   "metadata": {},
   "outputs": [
    {
     "data": {
      "text/html": [
       "<div>\n",
       "<style scoped>\n",
       "    .dataframe tbody tr th:only-of-type {\n",
       "        vertical-align: middle;\n",
       "    }\n",
       "\n",
       "    .dataframe tbody tr th {\n",
       "        vertical-align: top;\n",
       "    }\n",
       "\n",
       "    .dataframe thead th {\n",
       "        text-align: right;\n",
       "    }\n",
       "</style>\n",
       "<table border=\"1\" class=\"dataframe\">\n",
       "  <thead>\n",
       "    <tr style=\"text-align: right;\">\n",
       "      <th></th>\n",
       "      <th>transport</th>\n",
       "      <th>nb_ticket</th>\n",
       "    </tr>\n",
       "  </thead>\n",
       "  <tbody>\n",
       "    <tr>\n",
       "      <th>0</th>\n",
       "      <td>carpooling</td>\n",
       "      <td>41441</td>\n",
       "    </tr>\n",
       "    <tr>\n",
       "      <th>1</th>\n",
       "      <td>bus</td>\n",
       "      <td>13798</td>\n",
       "    </tr>\n",
       "    <tr>\n",
       "      <th>2</th>\n",
       "      <td>train</td>\n",
       "      <td>18929</td>\n",
       "    </tr>\n",
       "  </tbody>\n",
       "</table>\n",
       "</div>"
      ],
      "text/plain": [
       "    transport  nb_ticket\n",
       "0  carpooling      41441\n",
       "1         bus      13798\n",
       "2       train      18929"
      ]
     },
     "execution_count": 613,
     "metadata": {},
     "output_type": "execute_result"
    }
   ],
   "source": [
    "plotquantity = pd.DataFrame()\n",
    "plotquantity['transport'] = df['transport'].unique()\n",
    "\n",
    "tr = []\n",
    "for t in df['transport'].unique() :\n",
    "    tr.append(len(df[df['transport']==t]))\n",
    "plotquantity['nb_ticket'] = tr\n",
    "plotquantity"
   ]
  },
  {
   "cell_type": "code",
   "execution_count": 614,
   "metadata": {},
   "outputs": [
    {
     "data": {
      "image/png": "[encoded data removed]",
      "text/plain": [
       "<Figure size 720x360 with 1 Axes>"
      ]
     },
     "metadata": {
      "needs_background": "light"
     },
     "output_type": "display_data"
    }
   ],
   "source": [
    "plt.figure(figsize=(10, 5))\n",
    "plt.bar(plotquantity['transport'], plotquantity['nb_ticket'] , color=mcolors.TABLEAU_COLORS)\n",
    "plt.xlabel(\"Moyen de transport\")\n",
    "plt.ylabel(\"Nombre de tickets\")\n",
    "plt.title('Nombre de tickets en fonction du moyen de transport')\n",
    "plt.show()"
   ]
  },
  {
   "cell_type": "markdown",
   "metadata": {},
   "source": [
    "Allez, un p'tit dernier graphique :"
   ]
  },
  {
   "cell_type": "code",
   "execution_count": 544,
   "metadata": {},
   "outputs": [
    {
     "data": {
      "image/png": "[encoded data removed]",
      "text/plain": [
       "<Figure size 720x360 with 1 Axes>"
      ]
     },
     "metadata": {
      "needs_background": "light"
     },
     "output_type": "display_data"
    }
   ],
   "source": [
    "plotmotivation = pd.DataFrame()\n",
    "plotmotivation['Candidats'] = ['Les autres candidats', 'Lucas Ratton']\n",
    "plotmotivation['Motivation'] = [5,100]\n",
    "\n",
    "plt.figure(figsize=(10, 5))\n",
    "plt.bar(plotmotivation['Candidats'], plotmotivation['Motivation'], color=mcolors.TABLEAU_COLORS)\n",
    "plt.xlabel(\"Candidats\")\n",
    "plt.ylabel(\"Motivation (en %)\")\n",
    "plt.title('Motivation en fonction des candidats')\n",
    "plt.show()"
   ]
  },
  {
   "cell_type": "code",
   "execution_count": null,
   "metadata": {},
   "outputs": [],
   "source": []
  },
  {
   "cell_type": "code",
   "execution_count": null,
   "metadata": {},
   "outputs": [],
   "source": []
  }
 ],
 "metadata": {
  "kernelspec": {
   "display_name": "Python 3",
   "language": "python",
   "name": "python3"
  },
  "language_info": {
   "codemirror_mode": {
    "name": "ipython",
    "version": 3
   },
   "file_extension": ".py",
   "mimetype": "text/x-python",
   "name": "python",
   "nbconvert_exporter": "python",
   "pygments_lexer": "ipython3",
   "version": "3.8.5"
  }
 },
 "nbformat": 4,
 "nbformat_minor": 4
}
