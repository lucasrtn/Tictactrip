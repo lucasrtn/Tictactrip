{
 "cells": [
  {
   "cell_type": "markdown",
   "metadata": {},
   "source": [
    "## Reinforcement Learning"
   ]
  },
  {
   "cell_type": "markdown",
   "metadata": {},
   "source": [
    "### 1. Homework tasks"
   ]
  },
  {
   "cell_type": "markdown",
   "metadata": {},
   "source": [
    "- Imports"
   ]
  },
  {
   "cell_type": "code",
   "execution_count": 2,
   "metadata": {},
   "outputs": [],
   "source": [
    "import pandas as pd\n",
    "import numpy as np\n",
    "import matplotlib.pyplot as plt\n",
    "import matplotlib.colors as mcolors"
   ]
  },
  {
   "cell_type": "markdown",
   "metadata": {},
   "source": [
    "- Fonction d'affichage des grilles :"
   ]
  },
  {
   "cell_type": "code",
   "execution_count": 99,
   "metadata": {},
   "outputs": [],
   "source": [
    "def draw(grille, position, R, poids) :\n",
    "\n",
    "    # Affichage de la grille\n",
    "    fig, ax = plt.subplots()\n",
    "    ax.matshow(grille, cmap=mcolors.ListedColormap(['white', 'black', 'green', 'red']))\n",
    "    \n",
    "    # Affichage des poids pour chaque case\n",
    "    if poids == True :\n",
    "        for (i, j), z in np.ndenumerate(R):\n",
    "            ax.text(j, i, '{:0.2f}'.format(z), ha='center', va='center', size=20)\n",
    "            \n",
    "    # Affichage de la position du robot\n",
    "    else :\n",
    "        ax.text(position[1], position[0], '$\\oplus$', ha='center', va='center', size=50, c='gray')\n",
    "    \n",
    "    # Grille et index    \n",
    "    ax.set_yticks(np.arange(3))\n",
    "    ax.set_yticks(np.arange(3)-0.5, minor=True)\n",
    "    ax.set_yticklabels(range(3,0,-1))\n",
    "\n",
    "    ax.set_xticks(np.arange(0,4))\n",
    "    ax.set_xticks(np.arange(4)-0.5, minor=True)\n",
    "    ax.set_xticklabels(range(1,5))\n",
    "    ax.tick_params(axis=\"x\", labelbottom=True, labeltop=False)\n",
    "\n",
    "    ax.grid(True, which=\"minor\")\n",
    "    plt.show()\n",
    "    \n",
    "    return"
   ]
  },
  {
   "cell_type": "markdown",
   "metadata": {},
   "source": [
    "- Fonction d'initialisation :"
   ]
  },
  {
   "cell_type": "code",
   "execution_count": 372,
   "metadata": {},
   "outputs": [],
   "source": [
    "def init() :\n",
    "    \n",
    "    # Point de départ\n",
    "    position=[2,0]\n",
    "    \n",
    "    # Création de la grille\n",
    "    grille = np.zeros((3, 4))\n",
    "    grille[1][1] = 1\n",
    "    grille[0][3] = 2\n",
    "    grille[1][3] = 3\n",
    "    \n",
    "    # Création de la liste d'action sel\n",
    "    Actions = {\n",
    "        (0,0) : [\"Est\",\"Sud\"],\n",
    "        (0,1) : [\"Ouest\",\"Est\"],\n",
    "        (0,2) : [\"Ouest\",\"Est\",\"Sud\"],\n",
    "        (1,0) : [\"Nord\",\"Sud\"],\n",
    "        (1,2) : [\"Nord\",\"Est\",\"Sud\"],\n",
    "        (2,0) : [\"Nord\",\"Est\"],\n",
    "        (2,1) : [\"Ouest\",\"Est\"],\n",
    "        (2,2) : [\"Ouest\",\"Nord\",\"Est\"],\n",
    "        (2,3) : [\"Ouest\",\"Nord\"]\n",
    "    }\n",
    "    \n",
    "    # Création de la grille de récompense\n",
    "    R = np.zeros((3, 4)) - 0.02\n",
    "    R[1][1] = 0\n",
    "    R[0][3] = 1\n",
    "    R[1][3] = -1\n",
    "    \n",
    "    # Initialisation de V*\n",
    "    V = R\n",
    "    \n",
    "    # Facteur de remise\n",
    "    γ = 0.99\n",
    "    \n",
    "    return grille, position, R, γ, Actions, V"
   ]
  },
  {
   "cell_type": "markdown",
   "metadata": {},
   "source": [
    "- Aperçu des données initialisées :"
   ]
  },
  {
   "cell_type": "code",
   "execution_count": 373,
   "metadata": {},
   "outputs": [
    {
     "name": "stdout",
     "output_type": "stream",
     "text": [
      "- Grille de jeu + Position de départ :\n"
     ]
    },
    {
     "data": {
      "image/png": "[encoded data removed]",
      "text/plain": [
       "<Figure size 432x288 with 1 Axes>"
      ]
     },
     "metadata": {
      "needs_background": "light"
     },
     "output_type": "display_data"
    },
    {
     "name": "stdout",
     "output_type": "stream",
     "text": [
      "- Grille de récompense :\n"
     ]
    },
    {
     "data": {
      "image/png": "[encoded data removed]",
      "text/plain": [
       "<Figure size 432x288 with 1 Axes>"
      ]
     },
     "metadata": {
      "needs_background": "light"
     },
     "output_type": "display_data"
    },
    {
     "name": "stdout",
     "output_type": "stream",
     "text": [
      "\n",
      "- Facteur de remise γ = 0.99\n",
      "\n",
      "- Liste des actions par case :\n",
      " {(0, 0): ['Est', 'Sud'], (0, 1): ['Ouest', 'Est'], (0, 2): ['Ouest', 'Est', 'Sud'], (1, 0): ['Nord', 'Sud'], (1, 2): ['Nord', 'Est', 'Sud'], (2, 0): ['Nord', 'Est'], (2, 1): ['Ouest', 'Est'], (2, 2): ['Ouest', 'Nord', 'Est'], (2, 3): ['Ouest', 'Nord']}\n"
     ]
    }
   ],
   "source": [
    "grille, position, R, γ, Actions, V = init()\n",
    "\n",
    "print(\"- Grille de jeu + Position de départ :\")\n",
    "draw(grille, position, R, False)\n",
    "\n",
    "print(\"- Grille de récompense :\")\n",
    "draw(grille, position, R, True)\n",
    "\n",
    "print(\"\\n- Facteur de remise γ =\", γ)\n",
    "\n",
    "print(\"\\n- Liste des actions par case :\\n\", Actions)"
   ]
  },
  {
   "cell_type": "markdown",
   "metadata": {},
   "source": [
    "- Fonction d'affichage de la légende :"
   ]
  },
  {
   "cell_type": "code",
   "execution_count": 278,
   "metadata": {},
   "outputs": [],
   "source": [
    "def legende():\n",
    "    \n",
    "    print(\"Case blanche : case vide\")\n",
    "    print(\"Case noire : case interdite/obstacle\")\n",
    "    print(\"Signe grise : position courrante du robot\")\n",
    "    print(\"Case verte : case finale +1 à atteindre\")\n",
    "    print(\"Case rouge : case finale -1 à éviter\\n\")\n",
    "    \n",
    "    return"
   ]
  },
  {
   "cell_type": "markdown",
   "metadata": {},
   "source": [
    "### 1) Valeur optimale et politique optimale"
   ]
  },
  {
   "cell_type": "markdown",
   "metadata": {},
   "source": [
    "- Calcul des valeur optimale et politique optimale :"
   ]
  },
  {
   "cell_type": "code",
   "execution_count": 377,
   "metadata": {},
   "outputs": [
    {
     "name": "stderr",
     "output_type": "stream",
     "text": [
      "<ipython-input-377-3d93afe09a7d>:41: RuntimeWarning: overflow encountered in double_scalars\n",
      "  v = R[s[0]][s[1]] + (γ * (0.9*V[nxt] + 0.9*V[nxt]))\n",
      "<ipython-input-377-3d93afe09a7d>:49: RuntimeWarning: invalid value encountered in double_scalars\n",
      "  biggest_change = max(biggest_change, np.abs(old_v - V[s]))\n"
     ]
    }
   ],
   "source": [
    "grille, position, R, γ, Actions, V = init()\n",
    "\n",
    "# Initialisation de ∏\n",
    "Pi = {}\n",
    "for s in Actions:\n",
    "    Pi[s] = np.random.choice(Actions[s])\n",
    "    \n",
    "while True:\n",
    "    biggest_change = 0\n",
    "    for s in Actions:\n",
    "        if s in Pi :\n",
    "\n",
    "            old_v = V[s]\n",
    "            new_v = 0\n",
    "\n",
    "            for a in Actions[s]:\n",
    "\n",
    "                if a == 'Nord':\n",
    "                    nxt = [s[0]-1, s[1]]\n",
    "                if a == 'Sud':\n",
    "                    nxt = [s[0]+1, s[1]]\n",
    "                if a == 'Ouest':\n",
    "                    nxt = [s[0], s[1]-1]\n",
    "                if a == 'Est':\n",
    "                    nxt = [s[0], s[1]+1]\n",
    "\n",
    "                #Choose a new random action to do (transition probability)\n",
    "                rand = np.random.choice([i for i in Actions[s] if i != a])\n",
    "                if rand == 'Nord':\n",
    "                    act = [s[0]-1, s[1]]\n",
    "                if rand == 'Sud':\n",
    "                    act = [s[0]+1, s[1]]\n",
    "                if rand == 'Ouest':\n",
    "                    act = [s[0], s[1]-1]\n",
    "                if rand == 'Est':\n",
    "                    act = [s[0], s[1]+1]\n",
    "\n",
    "                #Calculate the value\n",
    "                nxt = tuple(nxt)\n",
    "                act = tuple(act)\n",
    "                v = R[s[0]][s[1]] + (γ * (0.9*V[nxt] + 0.9*V[nxt])) \n",
    "                if v > new_v: #Is this the best action so far? If so, keep it\n",
    "                    new_v = v\n",
    "                    Pi[s] = a\n",
    "\n",
    "            #Save the best of all actions for the state                                 \n",
    "            V[s] = new_v\n",
    "                        \n",
    "    biggest_change = max(biggest_change, np.abs(old_v - V[s]))\n",
    "   #See if the loop should stop now         \n",
    "    if biggest_change < 0.005:\n",
    "        break"
   ]
  },
  {
   "cell_type": "code",
   "execution_count": 379,
   "metadata": {},
   "outputs": [
    {
     "name": "stdout",
     "output_type": "stream",
     "text": [
      "{(0, 0): 'Est', (0, 1): 'Ouest', (0, 2): 'Ouest', (1, 0): 'Nord', (1, 2): 'Nord', (2, 0): 'Nord', (2, 1): 'Ouest', (2, 2): 'Ouest', (2, 3): 'Ouest'}\n"
     ]
    }
   ],
   "source": [
    "print(Pi)"
   ]
  },
  {
   "cell_type": "code",
   "execution_count": 370,
   "metadata": {},
   "outputs": [
    {
     "name": "stdout",
     "output_type": "stream",
     "text": [
      "{(0, 0): 0, (0, 1): 0, (0, 2): 0, (0, 3): 0, (1, 0): 0, (1, 1): 0, (1, 2): -1, (1, 3): 0, (2, 0): 0, (2, 1): 0, (2, 2): -1, (2, 3): 1}\n",
      "{(0, 0): 0, (0, 1): 0, (0, 2): 0, (0, 3): 0, (1, 0): 0, (1, 1): 0, (1, 2): -1, (1, 3): 0, (2, 0): 0, (2, 1): 0, (2, 2): -1, (2, 3): 1}\n"
     ]
    }
   ],
   "source": [
    "SMALL_ENOUGH = 0.005\n",
    "GAMMA = 0.9         \n",
    "NOISE = 0.1 \n",
    "\n",
    "#Define all states\n",
    "all_states=[]\n",
    "for i in range(3):\n",
    "    for j in range(4):\n",
    "            all_states.append((i,j))\n",
    "\n",
    "#Define rewards for all states\n",
    "rewards = {}\n",
    "for i in all_states:\n",
    "    if i == (1,2):\n",
    "        rewards[i] = -1\n",
    "    elif i == (2,2):\n",
    "        rewards[i] = -1\n",
    "    elif i == (2,3):\n",
    "        rewards[i] = 1\n",
    "    else:\n",
    "        rewards[i] = 0\n",
    "\n",
    "#Dictionnary of possible actions. We have two \"end\" states (1,2 and 2,2)\n",
    "actions = {\n",
    "    (0,0):('D', 'R'), \n",
    "    (0,1):('D', 'R', 'L'),    \n",
    "    (0,2):('D', 'L', 'R'),\n",
    "    (0,3):('D', 'L'),\n",
    "    (1,0):('D', 'U', 'R'),\n",
    "    (1,1):('D', 'R', 'L', 'U'),\n",
    "    (1,3):('D', 'L', 'U'),\n",
    "    (2,0):('U', 'R'),\n",
    "    (2,1):('U', 'L', 'R'),\n",
    "    }\n",
    "\n",
    "#Define an initial policy\n",
    "policy={}\n",
    "for s in actions.keys():\n",
    "    policy[s] = np.random.choice(actions[s])\n",
    "\n",
    "#Define initial value function \n",
    "V={}\n",
    "for s in all_states:\n",
    "    if s in actions.keys():\n",
    "        V[s] = 0\n",
    "    if s ==(2,2):\n",
    "        V[s]=-1\n",
    "    if s == (1,2):\n",
    "        V[s]=-1\n",
    "    if s == (2,3):\n",
    "        V[s]=1\n",
    "\n",
    "print(V)\n",
    "print(rewards)\n",
    "'''==================================================\n",
    "Value Iteration\n",
    "=================================================='''\n",
    "\n",
    "iteration = 0\n",
    "while True:\n",
    "    biggest_change = 0\n",
    "    for s in all_states:            \n",
    "        if s in policy:\n",
    "            \n",
    "            old_v = V[s]\n",
    "            new_v = 0\n",
    "            \n",
    "            for a in actions[s]:\n",
    "                if a == 'U':\n",
    "                    nxt = [s[0]-1, s[1]]\n",
    "                if a == 'D':\n",
    "                    nxt = [s[0]+1, s[1]]\n",
    "                if a == 'L':\n",
    "                    nxt = [s[0], s[1]-1]\n",
    "                if a == 'R':\n",
    "                    nxt = [s[0], s[1]+1]\n",
    "\n",
    "                #Choose a new random action to do (transition probability)\n",
    "                random_1=np.random.choice([i for i in actions[s] if i != a])\n",
    "                if random_1 == 'U':\n",
    "                    act = [s[0]-1, s[1]]\n",
    "                if random_1 == 'D':\n",
    "                    act = [s[0]+1, s[1]]\n",
    "                if random_1 == 'L':\n",
    "                    act = [s[0], s[1]-1]\n",
    "                if random_1 == 'R':\n",
    "                    act = [s[0], s[1]+1]\n",
    "\n",
    "                #Calculate the value\n",
    "                nxt = tuple(nxt)\n",
    "                act = tuple(act)\n",
    "                v = rewards[s] + (GAMMA * ((1-NOISE)* V[nxt] + (NOISE * V[act]))) \n",
    "                if v > new_v: #Is this the best action so far? If so, keep it\n",
    "                    new_v = v\n",
    "                    policy[s] = a\n",
    "\n",
    "       #Save the best of all actions for the state                                 \n",
    "            V[s] = new_v\n",
    "            biggest_change = max(biggest_change, np.abs(old_v - V[s]))\n",
    "   #See if the loop should stop now         \n",
    "    if biggest_change < SMALL_ENOUGH:\n",
    "        break\n",
    "    iteration += 1"
   ]
  },
  {
   "cell_type": "code",
   "execution_count": null,
   "metadata": {},
   "outputs": [],
   "source": []
  },
  {
   "cell_type": "code",
   "execution_count": null,
   "metadata": {},
   "outputs": [],
   "source": []
  }
 ],
 "metadata": {
  "kernelspec": {
   "display_name": "Python 3",
   "language": "python",
   "name": "python3"
  },
  "language_info": {
   "codemirror_mode": {
    "name": "ipython",
    "version": 3
   },
   "file_extension": ".py",
   "mimetype": "text/x-python",
   "name": "python",
   "nbconvert_exporter": "python",
   "pygments_lexer": "ipython3",
   "version": "3.8.5"
  }
 },
 "nbformat": 4,
 "nbformat_minor": 4
}
